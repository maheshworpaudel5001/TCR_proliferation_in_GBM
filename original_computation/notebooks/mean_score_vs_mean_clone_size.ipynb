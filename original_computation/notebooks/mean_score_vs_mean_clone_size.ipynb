{
 "cells": [
  {
   "cell_type": "code",
   "execution_count": 3,
   "metadata": {},
   "outputs": [],
   "source": [
    "import numpy as np\n",
    "import pandas as pd\n",
    "import seaborn as sns\n",
    "import os, re, tqdm, json\n",
    "import matplotlib.pyplot as plt\n",
    "from scipy.stats import ttest_ind, pearsonr, linregress"
   ]
  },
  {
   "cell_type": "code",
   "execution_count": 4,
   "metadata": {},
   "outputs": [],
   "source": [
    "import sys, os\n",
    "root_dir = '/home/gddaslab/mxp140/tcr_project_ultimate'\n",
    "sys.path.append(root_dir)\n",
    "from constants import patient_names, max_kr_panpep"
   ]
  },
  {
   "cell_type": "code",
   "execution_count": 5,
   "metadata": {},
   "outputs": [
    {
     "name": "stdout",
     "output_type": "stream",
     "text": [
      "['BrMET008', 'BrMET009', 'BrMET010', 'BrMET018', 'BrMET019', 'BrMET025', 'BrMET027', 'BrMET028', 'GBM032', 'GBM052', 'GBM055', 'GBM056', 'GBM059', 'GBM062', 'GBM063', 'GBM064', 'GBM070', 'GBM074', 'GBM079']\n"
     ]
    }
   ],
   "source": [
    "print(patient_names)"
   ]
  },
  {
   "cell_type": "code",
   "execution_count": null,
   "metadata": {},
   "outputs": [],
   "source": [
    "for patient_id in patient_names[:1]:\n",
    "    df = pd.read_csv(f'{root_dir}/data/glioblastoma_data/PANPEP/{patient_id}/panpep_output_with_regions.csv', sep=',', comment='#')\n",
    "    regions_in_patient = [col for col in df.columns if 'region' in col]\n",
    "    for i, region in enumerate(regions_in_patient):\n",
    "        df_region = df[df[region]=='Yes'][['Peptide', 'CDR3', 'Score', region]]\n",
    "        cdr3_counts_data = pd.read_csv(f'{root_dir}/data/glioblastoma_data/PANPEP/{patient_id}/{patient_id}_{region}.csv', sep=',', usecols=['CDR3', 'counts'])\n",
    "        df_region = df_region.merge(cdr3_counts_data, on='CDR3', how='inner')\n",
    "        peptides = df_region['Peptide'].unique()\n",
    "        mean_score_vs_mean_clone_size_df = pd.DataFrame()\n",
    "        for j, pep in enumerate(peptides):\n",
    "            "
   ]
  },
  {
   "cell_type": "code",
   "execution_count": 60,
   "metadata": {},
   "outputs": [
    {
     "data": {
      "text/html": [
       "<div>\n",
       "<style scoped>\n",
       "    .dataframe tbody tr th:only-of-type {\n",
       "        vertical-align: middle;\n",
       "    }\n",
       "\n",
       "    .dataframe tbody tr th {\n",
       "        vertical-align: top;\n",
       "    }\n",
       "\n",
       "    .dataframe thead th {\n",
       "        text-align: right;\n",
       "    }\n",
       "</style>\n",
       "<table border=\"1\" class=\"dataframe\">\n",
       "  <thead>\n",
       "    <tr style=\"text-align: right;\">\n",
       "      <th></th>\n",
       "      <th>Peptide</th>\n",
       "      <th>CDR3</th>\n",
       "      <th>Score</th>\n",
       "      <th>region4</th>\n",
       "      <th>counts</th>\n",
       "    </tr>\n",
       "  </thead>\n",
       "  <tbody>\n",
       "    <tr>\n",
       "      <th>0</th>\n",
       "      <td>YPRRIQLSRM</td>\n",
       "      <td>CAFRAKLNNYGYTF</td>\n",
       "      <td>0.254282</td>\n",
       "      <td>Yes</td>\n",
       "      <td>1</td>\n",
       "    </tr>\n",
       "    <tr>\n",
       "      <th>1</th>\n",
       "      <td>YPRRIQLSRM</td>\n",
       "      <td>CAIRDSPGSYNEQFF</td>\n",
       "      <td>0.584113</td>\n",
       "      <td>Yes</td>\n",
       "      <td>1</td>\n",
       "    </tr>\n",
       "    <tr>\n",
       "      <th>2</th>\n",
       "      <td>YPRRIQLSRM</td>\n",
       "      <td>CAMDTGSSGNTIYF</td>\n",
       "      <td>0.217176</td>\n",
       "      <td>Yes</td>\n",
       "      <td>1</td>\n",
       "    </tr>\n",
       "    <tr>\n",
       "      <th>3</th>\n",
       "      <td>YPRRIQLSRM</td>\n",
       "      <td>CASNPPTKD*NTEAFF</td>\n",
       "      <td>0.175966</td>\n",
       "      <td>Yes</td>\n",
       "      <td>1</td>\n",
       "    </tr>\n",
       "    <tr>\n",
       "      <th>4</th>\n",
       "      <td>YPRRIQLSRM</td>\n",
       "      <td>CASRDRREQFF</td>\n",
       "      <td>0.313230</td>\n",
       "      <td>Yes</td>\n",
       "      <td>1</td>\n",
       "    </tr>\n",
       "  </tbody>\n",
       "</table>\n",
       "</div>"
      ],
      "text/plain": [
       "      Peptide              CDR3     Score region4  counts\n",
       "0  YPRRIQLSRM    CAFRAKLNNYGYTF  0.254282     Yes       1\n",
       "1  YPRRIQLSRM   CAIRDSPGSYNEQFF  0.584113     Yes       1\n",
       "2  YPRRIQLSRM    CAMDTGSSGNTIYF  0.217176     Yes       1\n",
       "3  YPRRIQLSRM  CASNPPTKD*NTEAFF  0.175966     Yes       1\n",
       "4  YPRRIQLSRM       CASRDRREQFF  0.313230     Yes       1"
      ]
     },
     "execution_count": 60,
     "metadata": {},
     "output_type": "execute_result"
    }
   ],
   "source": [
    "df_region.head()"
   ]
  },
  {
   "cell_type": "code",
   "execution_count": 63,
   "metadata": {},
   "outputs": [
    {
     "data": {
      "text/html": [
       "<div>\n",
       "<style scoped>\n",
       "    .dataframe tbody tr th:only-of-type {\n",
       "        vertical-align: middle;\n",
       "    }\n",
       "\n",
       "    .dataframe tbody tr th {\n",
       "        vertical-align: top;\n",
       "    }\n",
       "\n",
       "    .dataframe thead th {\n",
       "        text-align: right;\n",
       "    }\n",
       "</style>\n",
       "<table border=\"1\" class=\"dataframe\">\n",
       "  <thead>\n",
       "    <tr style=\"text-align: right;\">\n",
       "      <th></th>\n",
       "      <th>Score</th>\n",
       "      <th>counts</th>\n",
       "    </tr>\n",
       "    <tr>\n",
       "      <th>Peptide</th>\n",
       "      <th></th>\n",
       "      <th></th>\n",
       "    </tr>\n",
       "  </thead>\n",
       "  <tbody>\n",
       "    <tr>\n",
       "      <th>AILLDGYSW</th>\n",
       "      <td>0.499711</td>\n",
       "      <td>1.438202</td>\n",
       "    </tr>\n",
       "    <tr>\n",
       "      <th>APEDFVFPL</th>\n",
       "      <td>0.397210</td>\n",
       "      <td>1.438202</td>\n",
       "    </tr>\n",
       "    <tr>\n",
       "      <th>APQALQDNPAM</th>\n",
       "      <td>0.414943</td>\n",
       "      <td>1.438202</td>\n",
       "    </tr>\n",
       "    <tr>\n",
       "      <th>ATAPSLSGK</th>\n",
       "      <td>0.310571</td>\n",
       "      <td>1.438202</td>\n",
       "    </tr>\n",
       "    <tr>\n",
       "      <th>ATRGPSGSAI</th>\n",
       "      <td>0.383835</td>\n",
       "      <td>1.438202</td>\n",
       "    </tr>\n",
       "    <tr>\n",
       "      <th>...</th>\n",
       "      <td>...</td>\n",
       "      <td>...</td>\n",
       "    </tr>\n",
       "    <tr>\n",
       "      <th>VVVGACGVGK</th>\n",
       "      <td>0.225589</td>\n",
       "      <td>1.438202</td>\n",
       "    </tr>\n",
       "    <tr>\n",
       "      <th>YEACLILGV</th>\n",
       "      <td>0.455014</td>\n",
       "      <td>1.438202</td>\n",
       "    </tr>\n",
       "    <tr>\n",
       "      <th>YENAIYFL</th>\n",
       "      <td>0.561926</td>\n",
       "      <td>1.438202</td>\n",
       "    </tr>\n",
       "    <tr>\n",
       "      <th>YEWDECGRAF</th>\n",
       "      <td>0.424493</td>\n",
       "      <td>1.438202</td>\n",
       "    </tr>\n",
       "    <tr>\n",
       "      <th>YPRRIQLSRM</th>\n",
       "      <td>0.362619</td>\n",
       "      <td>1.438202</td>\n",
       "    </tr>\n",
       "  </tbody>\n",
       "</table>\n",
       "<p>76 rows × 2 columns</p>\n",
       "</div>"
      ],
      "text/plain": [
       "                Score    counts\n",
       "Peptide                        \n",
       "AILLDGYSW    0.499711  1.438202\n",
       "APEDFVFPL    0.397210  1.438202\n",
       "APQALQDNPAM  0.414943  1.438202\n",
       "ATAPSLSGK    0.310571  1.438202\n",
       "ATRGPSGSAI   0.383835  1.438202\n",
       "...               ...       ...\n",
       "VVVGACGVGK   0.225589  1.438202\n",
       "YEACLILGV    0.455014  1.438202\n",
       "YENAIYFL     0.561926  1.438202\n",
       "YEWDECGRAF   0.424493  1.438202\n",
       "YPRRIQLSRM   0.362619  1.438202\n",
       "\n",
       "[76 rows x 2 columns]"
      ]
     },
     "execution_count": 63,
     "metadata": {},
     "output_type": "execute_result"
    }
   ],
   "source": [
    "a = df_region.groupby('Peptide').aggregate({'Score':'mean', 'counts':'mean' })\n",
    "a"
   ]
  }
 ],
 "metadata": {
  "kernelspec": {
   "display_name": "my_base",
   "language": "python",
   "name": "python3"
  },
  "language_info": {
   "codemirror_mode": {
    "name": "ipython",
    "version": 3
   },
   "file_extension": ".py",
   "mimetype": "text/x-python",
   "name": "python",
   "nbconvert_exporter": "python",
   "pygments_lexer": "ipython3",
   "version": "3.13.1"
  }
 },
 "nbformat": 4,
 "nbformat_minor": 2
}
