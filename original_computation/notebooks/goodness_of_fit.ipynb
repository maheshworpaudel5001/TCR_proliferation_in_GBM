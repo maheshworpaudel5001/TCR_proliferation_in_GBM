{
 "cells": [
  {
   "cell_type": "code",
   "execution_count": 1,
   "metadata": {},
   "outputs": [],
   "source": [
    "%reload_ext autoreload\n",
    "%autoreload 2"
   ]
  },
  {
   "cell_type": "code",
   "execution_count": 2,
   "metadata": {},
   "outputs": [],
   "source": [
    "import sys, os, glob\n",
    "root_dir = '/home/gddaslab/mxp140/tcr_project_ultimate'\n",
    "sys.path.append(root_dir)\n",
    "\n",
    "import h5py\n",
    "import tqdm\n",
    "import numpy as np\n",
    "import pandas as pd\n",
    "import seaborn as sns\n",
    "import matplotlib.pyplot as plt\n",
    "from scipy.stats import chisquare, chi2\n",
    "from constants import patient_names\n",
    "from pdf import pdf, ci_pdf"
   ]
  },
  {
   "cell_type": "code",
   "execution_count": 3,
   "metadata": {},
   "outputs": [],
   "source": [
    "asterisk = '\\u2217'\n",
    "p_value_stars = {0.001: f'{asterisk}{asterisk}{asterisk}', 0.01: f'{asterisk}{asterisk}', 0.05: f'{asterisk}'}\n",
    "def get_asterisks(p_value):\n",
    "    for threshold in sorted(p_value_stars.keys()):\n",
    "        if p_value < threshold:\n",
    "            return p_value_stars[threshold]\n",
    "    return 'ns'"
   ]
  },
  {
   "cell_type": "code",
   "execution_count": 4,
   "metadata": {},
   "outputs": [],
   "source": [
    "def count_clone_sizes(arr, min_size=1, max_size=10):\n",
    "    # Count frequencies for sizes 2 through 9\n",
    "    counts = [np.sum(arr == i) for i in range(min_size, max_size)]\n",
    "    # Add count of size max_size or greater\n",
    "    counts.append(np.sum(arr >= max_size))\n",
    "    return counts"
   ]
  },
  {
   "cell_type": "code",
   "execution_count": 40,
   "metadata": {},
   "outputs": [
    {
     "name": "stdout",
     "output_type": "stream",
     "text": [
      "654\n",
      "f_obs:487, f_exp:469.136\n",
      "f_obs>f_exp\n",
      "0.7191537149118432\n",
      "196\n",
      "f_obs:153, f_exp:148.129\n",
      "f_obs>f_exp\n",
      "0.3902273121335138\n",
      "39\n",
      "f_obs:33, f_exp:33.426\n",
      "f_obs<f_exp\n",
      "0.9947155534406735\n",
      "89\n",
      "f_obs:72, f_exp:69.849\n",
      "f_obs>f_exp\n",
      "0.4584787387427546\n",
      "10730\n",
      "f_obs:8160, f_exp:7296.193\n",
      "f_obs>f_exp\n",
      "0.0\n",
      "9441\n",
      "f_obs:7025, f_exp:6387.183\n",
      "f_obs>f_exp\n",
      "0.0\n",
      "7545\n",
      "f_obs:5600, f_exp:4971.783\n",
      "f_obs>f_exp\n",
      "0.0\n",
      "5687\n",
      "f_obs:4768, f_exp:4560.459\n",
      "f_obs>f_exp\n",
      "0.0\n",
      "9575\n",
      "f_obs:7454, f_exp:7215.451\n",
      "f_obs>f_exp\n",
      "8.832791195345635e-06\n",
      "2478\n",
      "f_obs:2123, f_exp:1957.677\n",
      "f_obs>f_exp\n",
      "0.0\n",
      "8490\n",
      "f_obs:6140, f_exp:5673.399\n",
      "f_obs>f_exp\n",
      "0.0\n",
      "602\n",
      "f_obs:492, f_exp:474.145\n",
      "f_obs>f_exp\n",
      "0.5436495321119208\n",
      "3557\n",
      "f_obs:2771, f_exp:2594.21\n",
      "f_obs>f_exp\n",
      "6.183942247162122e-13\n",
      "1562\n",
      "f_obs:1339, f_exp:1189.005\n",
      "f_obs>f_exp\n",
      "0.0\n",
      "1945\n",
      "f_obs:1465, f_exp:1328.416\n",
      "f_obs>f_exp\n",
      "5.163691696452588e-11\n",
      "778\n",
      "f_obs:661, f_exp:598.32\n",
      "f_obs>f_exp\n",
      "8.881784197001252e-16\n",
      "4114\n",
      "f_obs:3558, f_exp:3315.102\n",
      "f_obs>f_exp\n",
      "0.0\n",
      "921\n",
      "f_obs:779, f_exp:735.389\n",
      "f_obs>f_exp\n",
      "2.868428237090548e-05\n",
      "691\n",
      "f_obs:626, f_exp:603.863\n",
      "f_obs>f_exp\n",
      "5.782041512247815e-11\n",
      "8337\n",
      "f_obs:6376, f_exp:5941.859\n",
      "f_obs>f_exp\n",
      "0.0\n",
      "1734\n",
      "f_obs:1314, f_exp:1173.679\n",
      "f_obs>f_exp\n",
      "1.3988810110276972e-14\n",
      "2889\n",
      "f_obs:2161, f_exp:1963.681\n",
      "f_obs>f_exp\n",
      "2.4313884239290928e-14\n",
      "465\n",
      "f_obs:417, f_exp:415.224\n",
      "f_obs>f_exp\n",
      "0.0043200760763976165\n",
      "676\n",
      "f_obs:587, f_exp:563.143\n",
      "f_obs>f_exp\n",
      "1.4832579608992091e-13\n",
      "560\n",
      "f_obs:512, f_exp:509.95\n",
      "f_obs>f_exp\n",
      "0.0440985608017449\n",
      "4151\n",
      "f_obs:3381, f_exp:3138.936\n",
      "f_obs>f_exp\n",
      "0.0\n",
      "1817\n",
      "f_obs:1558, f_exp:1468.908\n",
      "f_obs>f_exp\n",
      "0.0\n",
      "2042\n",
      "f_obs:1746, f_exp:1686.46\n",
      "f_obs>f_exp\n",
      "8.693418540595133e-09\n",
      "7145\n",
      "f_obs:5619, f_exp:5145.795\n",
      "f_obs>f_exp\n",
      "0.0\n",
      "770\n",
      "f_obs:714, f_exp:682.664\n",
      "f_obs>f_exp\n",
      "0.0\n",
      "7582\n",
      "f_obs:6713, f_exp:6265.522\n",
      "f_obs>f_exp\n",
      "0.0\n",
      "6522\n",
      "f_obs:5048, f_exp:4600.743\n",
      "f_obs>f_exp\n",
      "0.0\n",
      "File not found for GBM055-region1\n",
      "1922\n",
      "f_obs:1688, f_exp:1517.733\n",
      "f_obs>f_exp\n",
      "0.0\n",
      "File not found for GBM055-region3\n",
      "556\n",
      "f_obs:476, f_exp:439.977\n",
      "f_obs>f_exp\n",
      "2.331383577902635e-05\n",
      "980\n",
      "f_obs:788, f_exp:728.45\n",
      "f_obs>f_exp\n",
      "4.03699457196538e-08\n",
      "1357\n",
      "f_obs:1165, f_exp:1103.197\n",
      "f_obs>f_exp\n",
      "2.109555641283123e-09\n",
      "1132\n",
      "f_obs:995, f_exp:907.476\n",
      "f_obs>f_exp\n",
      "4.218847493575595e-15\n",
      "5200\n",
      "f_obs:4026, f_exp:3556.558\n",
      "f_obs>f_exp\n",
      "0.0\n",
      "2271\n",
      "f_obs:1809, f_exp:1633.831\n",
      "f_obs>f_exp\n",
      "0.0\n",
      "138\n",
      "f_obs:125, f_exp:121.268\n",
      "f_obs>f_exp\n",
      "0.273669368722395\n",
      "102\n",
      "f_obs:78, f_exp:70.082\n",
      "f_obs>f_exp\n",
      "0.19318017365018425\n",
      "71\n",
      "f_obs:54, f_exp:50.379\n",
      "f_obs>f_exp\n",
      "0.7523453240052345\n",
      "669\n",
      "f_obs:576, f_exp:554.49\n",
      "f_obs>f_exp\n",
      "0.09159714533547003\n",
      "File not found for GBM063-region2\n",
      "345\n",
      "f_obs:299, f_exp:289.32\n",
      "f_obs>f_exp\n",
      "0.04074102108259814\n",
      "File not found for GBM064-region1\n",
      "878\n",
      "f_obs:743, f_exp:705.2\n",
      "f_obs>f_exp\n",
      "3.1176062842419583e-09\n",
      "750\n",
      "f_obs:661, f_exp:621.692\n",
      "f_obs>f_exp\n",
      "1.0584284315662273e-07\n",
      "873\n",
      "f_obs:738, f_exp:706.534\n",
      "f_obs>f_exp\n",
      "0.003358562102069862\n",
      "6534\n",
      "f_obs:5568, f_exp:5208.914\n",
      "f_obs>f_exp\n",
      "0.0\n",
      "428\n",
      "f_obs:369, f_exp:355.406\n",
      "f_obs>f_exp\n",
      "0.25865909467086423\n",
      "252\n",
      "f_obs:207, f_exp:203.995\n",
      "f_obs>f_exp\n",
      "0.5234039568873798\n",
      "684\n",
      "f_obs:553, f_exp:516.512\n",
      "f_obs>f_exp\n",
      "0.00024837079744377544\n",
      "1030\n",
      "f_obs:817, f_exp:754.319\n",
      "f_obs>f_exp\n",
      "0.0001818336619214822\n",
      "542\n",
      "f_obs:488, f_exp:471.676\n",
      "f_obs>f_exp\n",
      "1.9538445062750043e-05\n",
      "972\n",
      "f_obs:765, f_exp:710.095\n",
      "f_obs>f_exp\n",
      "2.063869079504954e-05\n",
      "356\n",
      "f_obs:297, f_exp:283.099\n",
      "f_obs>f_exp\n",
      "0.1442930810063554\n"
     ]
    }
   ],
   "source": [
    "p_value_df = pd.DataFrame(columns=['patient', 'type', 'p_value'])\n",
    "chi_squared_values = []\n",
    "coverages = []\n",
    "differences = []\n",
    "for patient_id in patient_names[:]:\n",
    "    region_number_logic = range(1, 4) if patient_id not in ['BrMET008', 'GBM032'] else range(1, 5)\n",
    "    for region_number in region_number_logic[:]: \n",
    "        # print(patient_id, region_number)\n",
    "        try:\n",
    "            with h5py.File(f'/home/gddaslab/mxp140/tcr_project_ultimate/results/{patient_id}_region{region_number}_model_results_from_panpep.h5', 'r') as f:\n",
    "                data_config = f['data_config'][:]\n",
    "                model_config = f['model_config'][:]\n",
    "                print(len(data_config))   \n",
    "            min_size = 1\n",
    "            max_size = 10\n",
    "            # data_config = model_config[:, 500]\n",
    "            f_obs = count_clone_sizes(data_config, min_size=min_size, max_size=max_size)\n",
    "            f_exp = np.mean(np.array([count_clone_sizes(model_config[:, j], min_size=min_size, max_size=max_size) for j in range(model_config.shape[1])]), axis=0)\n",
    "            \n",
    "            print(f'f_obs:{f_obs[0]}, f_exp:{f_exp[0]}')\n",
    "            differences.append(np.abs((f_obs[0]-f_exp[0])/f_obs[0]))\n",
    "            if f_obs[0]<f_exp[0]:\n",
    "                print('f_obs<f_exp')\n",
    "            elif f_obs[0]>f_exp[0]:\n",
    "                print('f_obs>f_exp')\n",
    "            else:\n",
    "                print('f_obs=f_exp')\n",
    "            chi2_stat = np.sum([(obs-exp)**2/exp for obs, exp in zip(f_obs, f_exp)])\n",
    "            chi_squared_values.append(chi2_stat)\n",
    "            dof = len(f_obs) -1\n",
    "            # print(dof)\n",
    "            # print(dof if dof!=1 else pass)\n",
    "            p_value = 1 - chi2.cdf(chi2_stat, dof)\n",
    "            new_row = pd.Series({'patient':f'{patient_id}-region{region_number}', 'type':'BrMET' if 'BrMET' in patient_id else 'GBM', 'p_value': p_value})\n",
    "            p_value_df = pd.concat([p_value_df, new_row.to_frame().T], ignore_index=True)\n",
    "            print(p_value)\n",
    "            \n",
    "            # #################### coverage probability #######################\n",
    "            # data_points = pdf(data_config)\n",
    "            # ci_df = ci_pdf(model_config, alpha=5, least_number_of_observations=10)\n",
    "            # count_within_band = 0\n",
    "            # for x, y in zip(data_points[0], data_points[1]):\n",
    "            #     look_at = ci_df[(ci_df['clone_size']==x) & ci_df[ci_df['clone_size']!=1]]\n",
    "            #     if look_at.empty:\n",
    "            #         continue\n",
    "            #     lower_bound = look_at['lower'].values[0]\n",
    "            #     upper_bound = look_at['upper'].values[0]\n",
    "            #     if (lower_bound<=y) & (y<=upper_bound):\n",
    "            #         count_within_band += 1\n",
    "            # coverage_probability = count_within_band/len(data_points[0])\n",
    "            # print(f'{patient_id}-region{region_number}: {coverage_probability*100:.0f}%')\n",
    "            # coverages.append(coverage_probability)\n",
    "        except:\n",
    "            print(f\"File not found for {patient_id}-region{region_number}\")\n",
    "            pass"
   ]
  },
  {
   "cell_type": "code",
   "execution_count": 21,
   "metadata": {},
   "outputs": [
    {
     "data": {
      "text/plain": [
       "[np.float64(6.2058356839873285),\n",
       " np.float64(9.525697081817768),\n",
       " np.float64(1.760353063457793),\n",
       " np.float64(8.7730854164361),\n",
       " np.float64(446.90443531729613),\n",
       " np.float64(263.615429095191),\n",
       " np.float64(316.3028094696257),\n",
       " np.float64(107.70495322520546),\n",
       " np.float64(39.638888125256244),\n",
       " np.float64(154.3318483039199),\n",
       " np.float64(172.3448673094236),\n",
       " np.float64(7.90596797282433),\n",
       " np.float64(77.06113203162026),\n",
       " np.float64(156.75353285719697),\n",
       " np.float64(67.28961969312735),\n",
       " np.float64(91.19457309332199),\n",
       " np.float64(210.18801283504234),\n",
       " np.float64(36.79036787969352),\n",
       " np.float64(67.03799965903428),\n",
       " np.float64(155.7738816939713),\n",
       " np.float64(85.34127448867788),\n",
       " np.float64(84.13483481725184),\n",
       " np.float64(23.98815550753409),\n",
       " np.float64(80.18696047442407),\n",
       " np.float64(17.308492290095554),\n",
       " np.float64(156.18476708661746),\n",
       " np.float64(101.15108679531832),\n",
       " np.float64(55.767737729901114),\n",
       " np.float64(265.1236015325925),\n",
       " np.float64(161.12009928611752),\n",
       " np.float64(496.85649249448045),\n",
       " np.float64(217.58352270704972),\n",
       " np.float64(205.30022088911795),\n",
       " np.float64(37.294777068313515),\n",
       " np.float64(52.259616117102645),\n",
       " np.float64(58.97728764773059),\n",
       " np.float64(87.95467300424092),\n",
       " np.float64(259.4786045016388),\n",
       " np.float64(119.47092697890892),\n",
       " np.float64(11.029836094928466),\n",
       " np.float64(12.371242194780299),\n",
       " np.float64(5.8751557840036694),\n",
       " np.float64(14.976006626566674),\n",
       " np.float64(17.552041609130562),\n",
       " np.float64(58.09429716746958),\n",
       " np.float64(50.04068395860912),\n",
       " np.float64(24.670151456088867),\n",
       " np.float64(242.24049434165224),\n",
       " np.float64(11.254619345115094),\n",
       " np.float64(8.106963015899309),\n",
       " np.float64(31.443659923909884),\n",
       " np.float64(32.22808689720554),\n",
       " np.float64(37.723552700674446),\n",
       " np.float64(37.5906933346783),\n",
       " np.float64(13.425153881731077)]"
      ]
     },
     "execution_count": 21,
     "metadata": {},
     "output_type": "execute_result"
    }
   ],
   "source": [
    "chi_squared_values"
   ]
  },
  {
   "cell_type": "code",
   "execution_count": 22,
   "metadata": {},
   "outputs": [
    {
     "data": {
      "text/plain": [
       "np.float64(1.760353063457793)"
      ]
     },
     "execution_count": 22,
     "metadata": {},
     "output_type": "execute_result"
    }
   ],
   "source": [
    "min(chi_squared_values)"
   ]
  },
  {
   "cell_type": "code",
   "execution_count": 23,
   "metadata": {},
   "outputs": [
    {
     "data": {
      "text/plain": [
       "np.float64(496.85649249448045)"
      ]
     },
     "execution_count": 23,
     "metadata": {},
     "output_type": "execute_result"
    }
   ],
   "source": [
    "max(chi_squared_values)"
   ]
  },
  {
   "cell_type": "code",
   "execution_count": 29,
   "metadata": {},
   "outputs": [
    {
     "data": {
      "text/plain": [
       "array([False, False, False, False, False, False, False, False, False,\n",
       "       False, False, False, False, False, False, False, False, False,\n",
       "       False, False, False, False, False, False,  True, False, False,\n",
       "       False, False, False, False, False, False, False, False, False,\n",
       "       False, False, False, False, False, False, False,  True, False,\n",
       "       False, False, False, False, False, False, False, False, False,\n",
       "       False])"
      ]
     },
     "execution_count": 29,
     "metadata": {},
     "output_type": "execute_result"
    }
   ],
   "source": [
    "(17<=np.array(chi_squared_values)) & (np.array(chi_squared_values)<=20)"
   ]
  },
  {
   "cell_type": "code",
   "execution_count": 24,
   "metadata": {},
   "outputs": [
    {
     "data": {
      "text/plain": [
       "array([ True,  True,  True,  True, False, False, False, False, False,\n",
       "       False, False,  True, False, False, False, False, False, False,\n",
       "       False, False, False, False, False, False,  True, False, False,\n",
       "       False, False, False, False, False, False, False, False, False,\n",
       "       False, False, False,  True,  True,  True,  True,  True, False,\n",
       "       False, False, False,  True,  True, False, False, False, False,\n",
       "        True])"
      ]
     },
     "execution_count": 24,
     "metadata": {},
     "output_type": "execute_result"
    }
   ],
   "source": [
    "np.array(chi_squared_values)<=20"
   ]
  },
  {
   "cell_type": "code",
   "execution_count": 25,
   "metadata": {},
   "outputs": [
    {
     "data": {
      "text/plain": [
       "np.float64(17.308492290095554)"
      ]
     },
     "execution_count": 25,
     "metadata": {},
     "output_type": "execute_result"
    }
   ],
   "source": [
    "chi_squared_values[24]"
   ]
  },
  {
   "cell_type": "code",
   "execution_count": 23,
   "metadata": {},
   "outputs": [
    {
     "data": {
      "text/plain": [
       "np.float64(0.061980292640976334)"
      ]
     },
     "execution_count": 23,
     "metadata": {},
     "output_type": "execute_result"
    }
   ],
   "source": [
    "np.mean(differences)"
   ]
  },
  {
   "cell_type": "code",
   "execution_count": 11,
   "metadata": {},
   "outputs": [
    {
     "data": {
      "text/plain": [
       "array([469.136, 100.128,  36.158,  17.135,   9.553,   5.65 ,   3.657,\n",
       "         2.495,   1.858,   8.23 ])"
      ]
     },
     "execution_count": 11,
     "metadata": {},
     "output_type": "execute_result"
    }
   ],
   "source": [
    "f_exp"
   ]
  },
  {
   "cell_type": "code",
   "execution_count": 66,
   "metadata": {},
   "outputs": [
    {
     "data": {
      "text/plain": [
       "array([0.30769231, 0.5       , 0.51851852, 0.5483871 , 0.55172414,\n",
       "       0.58333333, 0.6       , 0.6       , 0.60606061, 0.62068966,\n",
       "       0.63636364, 0.65      , 0.66666667, 0.68421053, 0.6875    ,\n",
       "       0.69230769, 0.69642857, 0.6969697 , 0.7       , 0.7       ,\n",
       "       0.70588235, 0.71428571, 0.71428571, 0.72527473, 0.72727273,\n",
       "       0.73469388, 0.73913043, 0.74193548, 0.74285714, 0.75      ,\n",
       "       0.75      , 0.76190476, 0.77647059, 0.78378378, 0.79487179,\n",
       "       0.80392157, 0.80597015, 0.81081081, 0.81355932, 0.8372093 ,\n",
       "       0.8630137 , 0.875     , 0.88888889, 0.88888889, 0.88888889,\n",
       "       0.90909091, 1.        , 1.        , 1.        , 1.        ,\n",
       "       1.        , 1.        , 1.        , 1.        , 1.        ])"
      ]
     },
     "execution_count": 66,
     "metadata": {},
     "output_type": "execute_result"
    }
   ],
   "source": [
    "np.sort(coverages)"
   ]
  },
  {
   "cell_type": "code",
   "execution_count": 63,
   "metadata": {},
   "outputs": [
    {
     "name": "stdout",
     "output_type": "stream",
     "text": [
      "13.425153881731077 9 0.1442930810063554\n"
     ]
    }
   ],
   "source": [
    "chi2_stat = np.sum([(obs-exp)**2/exp for obs, exp in zip(f_obs, f_exp)])\n",
    "dof = len(f_obs) -1\n",
    "from scipy.stats import chi2\n",
    "p_value = 1 - chi2.cdf(chi2_stat, dof)\n",
    "print(chi2_stat, dof, p_value)"
   ]
  },
  {
   "cell_type": "code",
   "execution_count": 62,
   "metadata": {},
   "outputs": [
    {
     "name": "stdout",
     "output_type": "stream",
     "text": [
      "Power_divergenceResult(statistic=np.float64(13.425153881731081), pvalue=np.float64(0.14429308100635505))\n"
     ]
    }
   ],
   "source": [
    "# Normalize f_exp to have the same sum as f_obs\n",
    "f_exp_normalized = np.array(f_exp) * (sum(f_obs) / sum(f_exp))\n",
    "chi2_result = chisquare(f_obs=f_obs, f_exp=f_exp_normalized, ddof=0)\n",
    "print(chi2_result)"
   ]
  },
  {
   "cell_type": "code",
   "execution_count": 17,
   "metadata": {},
   "outputs": [
    {
     "data": {
      "text/html": [
       "<div>\n",
       "<style scoped>\n",
       "    .dataframe tbody tr th:only-of-type {\n",
       "        vertical-align: middle;\n",
       "    }\n",
       "\n",
       "    .dataframe tbody tr th {\n",
       "        vertical-align: top;\n",
       "    }\n",
       "\n",
       "    .dataframe thead th {\n",
       "        text-align: right;\n",
       "    }\n",
       "</style>\n",
       "<table border=\"1\" class=\"dataframe\">\n",
       "  <thead>\n",
       "    <tr style=\"text-align: right;\">\n",
       "      <th></th>\n",
       "      <th>patient</th>\n",
       "      <th>type</th>\n",
       "      <th>p_value</th>\n",
       "    </tr>\n",
       "  </thead>\n",
       "  <tbody>\n",
       "    <tr>\n",
       "      <th>0</th>\n",
       "      <td>BrMET008-region1</td>\n",
       "      <td>BrMET</td>\n",
       "      <td>0.719154</td>\n",
       "    </tr>\n",
       "    <tr>\n",
       "      <th>1</th>\n",
       "      <td>BrMET008-region2</td>\n",
       "      <td>BrMET</td>\n",
       "      <td>0.390227</td>\n",
       "    </tr>\n",
       "    <tr>\n",
       "      <th>2</th>\n",
       "      <td>BrMET008-region3</td>\n",
       "      <td>BrMET</td>\n",
       "      <td>0.994716</td>\n",
       "    </tr>\n",
       "    <tr>\n",
       "      <th>3</th>\n",
       "      <td>BrMET008-region4</td>\n",
       "      <td>BrMET</td>\n",
       "      <td>0.458479</td>\n",
       "    </tr>\n",
       "    <tr>\n",
       "      <th>4</th>\n",
       "      <td>BrMET009-region1</td>\n",
       "      <td>BrMET</td>\n",
       "      <td>0.0</td>\n",
       "    </tr>\n",
       "    <tr>\n",
       "      <th>5</th>\n",
       "      <td>BrMET009-region2</td>\n",
       "      <td>BrMET</td>\n",
       "      <td>0.0</td>\n",
       "    </tr>\n",
       "    <tr>\n",
       "      <th>6</th>\n",
       "      <td>BrMET009-region3</td>\n",
       "      <td>BrMET</td>\n",
       "      <td>0.0</td>\n",
       "    </tr>\n",
       "    <tr>\n",
       "      <th>7</th>\n",
       "      <td>BrMET010-region1</td>\n",
       "      <td>BrMET</td>\n",
       "      <td>0.0</td>\n",
       "    </tr>\n",
       "    <tr>\n",
       "      <th>8</th>\n",
       "      <td>BrMET010-region2</td>\n",
       "      <td>BrMET</td>\n",
       "      <td>0.000009</td>\n",
       "    </tr>\n",
       "    <tr>\n",
       "      <th>9</th>\n",
       "      <td>BrMET010-region3</td>\n",
       "      <td>BrMET</td>\n",
       "      <td>0.0</td>\n",
       "    </tr>\n",
       "    <tr>\n",
       "      <th>10</th>\n",
       "      <td>BrMET018-region1</td>\n",
       "      <td>BrMET</td>\n",
       "      <td>0.0</td>\n",
       "    </tr>\n",
       "    <tr>\n",
       "      <th>11</th>\n",
       "      <td>BrMET018-region2</td>\n",
       "      <td>BrMET</td>\n",
       "      <td>0.54365</td>\n",
       "    </tr>\n",
       "    <tr>\n",
       "      <th>12</th>\n",
       "      <td>BrMET018-region3</td>\n",
       "      <td>BrMET</td>\n",
       "      <td>0.0</td>\n",
       "    </tr>\n",
       "    <tr>\n",
       "      <th>13</th>\n",
       "      <td>BrMET019-region1</td>\n",
       "      <td>BrMET</td>\n",
       "      <td>0.0</td>\n",
       "    </tr>\n",
       "    <tr>\n",
       "      <th>14</th>\n",
       "      <td>BrMET019-region2</td>\n",
       "      <td>BrMET</td>\n",
       "      <td>0.0</td>\n",
       "    </tr>\n",
       "    <tr>\n",
       "      <th>15</th>\n",
       "      <td>BrMET019-region3</td>\n",
       "      <td>BrMET</td>\n",
       "      <td>0.0</td>\n",
       "    </tr>\n",
       "    <tr>\n",
       "      <th>16</th>\n",
       "      <td>BrMET025-region1</td>\n",
       "      <td>BrMET</td>\n",
       "      <td>0.0</td>\n",
       "    </tr>\n",
       "    <tr>\n",
       "      <th>17</th>\n",
       "      <td>BrMET025-region2</td>\n",
       "      <td>BrMET</td>\n",
       "      <td>0.000029</td>\n",
       "    </tr>\n",
       "    <tr>\n",
       "      <th>18</th>\n",
       "      <td>BrMET025-region3</td>\n",
       "      <td>BrMET</td>\n",
       "      <td>0.0</td>\n",
       "    </tr>\n",
       "    <tr>\n",
       "      <th>19</th>\n",
       "      <td>BrMET027-region1</td>\n",
       "      <td>BrMET</td>\n",
       "      <td>0.0</td>\n",
       "    </tr>\n",
       "    <tr>\n",
       "      <th>20</th>\n",
       "      <td>BrMET027-region2</td>\n",
       "      <td>BrMET</td>\n",
       "      <td>0.0</td>\n",
       "    </tr>\n",
       "    <tr>\n",
       "      <th>21</th>\n",
       "      <td>BrMET027-region3</td>\n",
       "      <td>BrMET</td>\n",
       "      <td>0.0</td>\n",
       "    </tr>\n",
       "    <tr>\n",
       "      <th>22</th>\n",
       "      <td>BrMET028-region1</td>\n",
       "      <td>BrMET</td>\n",
       "      <td>0.00432</td>\n",
       "    </tr>\n",
       "    <tr>\n",
       "      <th>23</th>\n",
       "      <td>BrMET028-region2</td>\n",
       "      <td>BrMET</td>\n",
       "      <td>0.0</td>\n",
       "    </tr>\n",
       "    <tr>\n",
       "      <th>24</th>\n",
       "      <td>BrMET028-region3</td>\n",
       "      <td>BrMET</td>\n",
       "      <td>0.044099</td>\n",
       "    </tr>\n",
       "    <tr>\n",
       "      <th>25</th>\n",
       "      <td>GBM032-region1</td>\n",
       "      <td>GBM</td>\n",
       "      <td>0.0</td>\n",
       "    </tr>\n",
       "    <tr>\n",
       "      <th>26</th>\n",
       "      <td>GBM032-region2</td>\n",
       "      <td>GBM</td>\n",
       "      <td>0.0</td>\n",
       "    </tr>\n",
       "    <tr>\n",
       "      <th>27</th>\n",
       "      <td>GBM032-region3</td>\n",
       "      <td>GBM</td>\n",
       "      <td>0.0</td>\n",
       "    </tr>\n",
       "    <tr>\n",
       "      <th>28</th>\n",
       "      <td>GBM032-region4</td>\n",
       "      <td>GBM</td>\n",
       "      <td>0.0</td>\n",
       "    </tr>\n",
       "    <tr>\n",
       "      <th>29</th>\n",
       "      <td>GBM052-region1</td>\n",
       "      <td>GBM</td>\n",
       "      <td>0.0</td>\n",
       "    </tr>\n",
       "    <tr>\n",
       "      <th>30</th>\n",
       "      <td>GBM052-region2</td>\n",
       "      <td>GBM</td>\n",
       "      <td>0.0</td>\n",
       "    </tr>\n",
       "    <tr>\n",
       "      <th>31</th>\n",
       "      <td>GBM052-region3</td>\n",
       "      <td>GBM</td>\n",
       "      <td>0.0</td>\n",
       "    </tr>\n",
       "    <tr>\n",
       "      <th>32</th>\n",
       "      <td>GBM055-region2</td>\n",
       "      <td>GBM</td>\n",
       "      <td>0.0</td>\n",
       "    </tr>\n",
       "    <tr>\n",
       "      <th>33</th>\n",
       "      <td>GBM056-region1</td>\n",
       "      <td>GBM</td>\n",
       "      <td>0.000023</td>\n",
       "    </tr>\n",
       "    <tr>\n",
       "      <th>34</th>\n",
       "      <td>GBM056-region2</td>\n",
       "      <td>GBM</td>\n",
       "      <td>0.0</td>\n",
       "    </tr>\n",
       "    <tr>\n",
       "      <th>35</th>\n",
       "      <td>GBM056-region3</td>\n",
       "      <td>GBM</td>\n",
       "      <td>0.0</td>\n",
       "    </tr>\n",
       "    <tr>\n",
       "      <th>36</th>\n",
       "      <td>GBM059-region1</td>\n",
       "      <td>GBM</td>\n",
       "      <td>0.0</td>\n",
       "    </tr>\n",
       "    <tr>\n",
       "      <th>37</th>\n",
       "      <td>GBM059-region2</td>\n",
       "      <td>GBM</td>\n",
       "      <td>0.0</td>\n",
       "    </tr>\n",
       "    <tr>\n",
       "      <th>38</th>\n",
       "      <td>GBM059-region3</td>\n",
       "      <td>GBM</td>\n",
       "      <td>0.0</td>\n",
       "    </tr>\n",
       "    <tr>\n",
       "      <th>39</th>\n",
       "      <td>GBM062-region1</td>\n",
       "      <td>GBM</td>\n",
       "      <td>0.273669</td>\n",
       "    </tr>\n",
       "    <tr>\n",
       "      <th>40</th>\n",
       "      <td>GBM062-region2</td>\n",
       "      <td>GBM</td>\n",
       "      <td>0.19318</td>\n",
       "    </tr>\n",
       "    <tr>\n",
       "      <th>41</th>\n",
       "      <td>GBM062-region3</td>\n",
       "      <td>GBM</td>\n",
       "      <td>0.752345</td>\n",
       "    </tr>\n",
       "    <tr>\n",
       "      <th>42</th>\n",
       "      <td>GBM063-region1</td>\n",
       "      <td>GBM</td>\n",
       "      <td>0.091597</td>\n",
       "    </tr>\n",
       "    <tr>\n",
       "      <th>43</th>\n",
       "      <td>GBM063-region3</td>\n",
       "      <td>GBM</td>\n",
       "      <td>0.040741</td>\n",
       "    </tr>\n",
       "    <tr>\n",
       "      <th>44</th>\n",
       "      <td>GBM064-region2</td>\n",
       "      <td>GBM</td>\n",
       "      <td>0.0</td>\n",
       "    </tr>\n",
       "    <tr>\n",
       "      <th>45</th>\n",
       "      <td>GBM064-region3</td>\n",
       "      <td>GBM</td>\n",
       "      <td>0.0</td>\n",
       "    </tr>\n",
       "    <tr>\n",
       "      <th>46</th>\n",
       "      <td>GBM070-region1</td>\n",
       "      <td>GBM</td>\n",
       "      <td>0.003359</td>\n",
       "    </tr>\n",
       "    <tr>\n",
       "      <th>47</th>\n",
       "      <td>GBM070-region2</td>\n",
       "      <td>GBM</td>\n",
       "      <td>0.0</td>\n",
       "    </tr>\n",
       "    <tr>\n",
       "      <th>48</th>\n",
       "      <td>GBM070-region3</td>\n",
       "      <td>GBM</td>\n",
       "      <td>0.258659</td>\n",
       "    </tr>\n",
       "    <tr>\n",
       "      <th>49</th>\n",
       "      <td>GBM074-region1</td>\n",
       "      <td>GBM</td>\n",
       "      <td>0.523404</td>\n",
       "    </tr>\n",
       "    <tr>\n",
       "      <th>50</th>\n",
       "      <td>GBM074-region2</td>\n",
       "      <td>GBM</td>\n",
       "      <td>0.000248</td>\n",
       "    </tr>\n",
       "    <tr>\n",
       "      <th>51</th>\n",
       "      <td>GBM074-region3</td>\n",
       "      <td>GBM</td>\n",
       "      <td>0.000182</td>\n",
       "    </tr>\n",
       "    <tr>\n",
       "      <th>52</th>\n",
       "      <td>GBM079-region1</td>\n",
       "      <td>GBM</td>\n",
       "      <td>0.00002</td>\n",
       "    </tr>\n",
       "    <tr>\n",
       "      <th>53</th>\n",
       "      <td>GBM079-region2</td>\n",
       "      <td>GBM</td>\n",
       "      <td>0.000021</td>\n",
       "    </tr>\n",
       "    <tr>\n",
       "      <th>54</th>\n",
       "      <td>GBM079-region3</td>\n",
       "      <td>GBM</td>\n",
       "      <td>0.144293</td>\n",
       "    </tr>\n",
       "  </tbody>\n",
       "</table>\n",
       "</div>"
      ],
      "text/plain": [
       "             patient   type   p_value\n",
       "0   BrMET008-region1  BrMET  0.719154\n",
       "1   BrMET008-region2  BrMET  0.390227\n",
       "2   BrMET008-region3  BrMET  0.994716\n",
       "3   BrMET008-region4  BrMET  0.458479\n",
       "4   BrMET009-region1  BrMET       0.0\n",
       "5   BrMET009-region2  BrMET       0.0\n",
       "6   BrMET009-region3  BrMET       0.0\n",
       "7   BrMET010-region1  BrMET       0.0\n",
       "8   BrMET010-region2  BrMET  0.000009\n",
       "9   BrMET010-region3  BrMET       0.0\n",
       "10  BrMET018-region1  BrMET       0.0\n",
       "11  BrMET018-region2  BrMET   0.54365\n",
       "12  BrMET018-region3  BrMET       0.0\n",
       "13  BrMET019-region1  BrMET       0.0\n",
       "14  BrMET019-region2  BrMET       0.0\n",
       "15  BrMET019-region3  BrMET       0.0\n",
       "16  BrMET025-region1  BrMET       0.0\n",
       "17  BrMET025-region2  BrMET  0.000029\n",
       "18  BrMET025-region3  BrMET       0.0\n",
       "19  BrMET027-region1  BrMET       0.0\n",
       "20  BrMET027-region2  BrMET       0.0\n",
       "21  BrMET027-region3  BrMET       0.0\n",
       "22  BrMET028-region1  BrMET   0.00432\n",
       "23  BrMET028-region2  BrMET       0.0\n",
       "24  BrMET028-region3  BrMET  0.044099\n",
       "25    GBM032-region1    GBM       0.0\n",
       "26    GBM032-region2    GBM       0.0\n",
       "27    GBM032-region3    GBM       0.0\n",
       "28    GBM032-region4    GBM       0.0\n",
       "29    GBM052-region1    GBM       0.0\n",
       "30    GBM052-region2    GBM       0.0\n",
       "31    GBM052-region3    GBM       0.0\n",
       "32    GBM055-region2    GBM       0.0\n",
       "33    GBM056-region1    GBM  0.000023\n",
       "34    GBM056-region2    GBM       0.0\n",
       "35    GBM056-region3    GBM       0.0\n",
       "36    GBM059-region1    GBM       0.0\n",
       "37    GBM059-region2    GBM       0.0\n",
       "38    GBM059-region3    GBM       0.0\n",
       "39    GBM062-region1    GBM  0.273669\n",
       "40    GBM062-region2    GBM   0.19318\n",
       "41    GBM062-region3    GBM  0.752345\n",
       "42    GBM063-region1    GBM  0.091597\n",
       "43    GBM063-region3    GBM  0.040741\n",
       "44    GBM064-region2    GBM       0.0\n",
       "45    GBM064-region3    GBM       0.0\n",
       "46    GBM070-region1    GBM  0.003359\n",
       "47    GBM070-region2    GBM       0.0\n",
       "48    GBM070-region3    GBM  0.258659\n",
       "49    GBM074-region1    GBM  0.523404\n",
       "50    GBM074-region2    GBM  0.000248\n",
       "51    GBM074-region3    GBM  0.000182\n",
       "52    GBM079-region1    GBM   0.00002\n",
       "53    GBM079-region2    GBM  0.000021\n",
       "54    GBM079-region3    GBM  0.144293"
      ]
     },
     "execution_count": 17,
     "metadata": {},
     "output_type": "execute_result"
    }
   ],
   "source": [
    "p_value_df"
   ]
  },
  {
   "cell_type": "code",
   "execution_count": 10,
   "metadata": {},
   "outputs": [
    {
     "data": {
      "text/plain": [
       "np.int64(12)"
      ]
     },
     "execution_count": 10,
     "metadata": {},
     "output_type": "execute_result"
    }
   ],
   "source": [
    "(p_value_df['p_value']>=0.05).sum()"
   ]
  },
  {
   "cell_type": "code",
   "execution_count": 9,
   "metadata": {},
   "outputs": [
    {
     "data": {
      "text/plain": [
       "np.int64(43)"
      ]
     },
     "execution_count": 9,
     "metadata": {},
     "output_type": "execute_result"
    }
   ],
   "source": [
    "(p_value_df['p_value']<0.05).sum()"
   ]
  },
  {
   "cell_type": "code",
   "execution_count": 72,
   "metadata": {},
   "outputs": [
    {
     "data": {
      "text/html": [
       "<div>\n",
       "<style scoped>\n",
       "    .dataframe tbody tr th:only-of-type {\n",
       "        vertical-align: middle;\n",
       "    }\n",
       "\n",
       "    .dataframe tbody tr th {\n",
       "        vertical-align: top;\n",
       "    }\n",
       "\n",
       "    .dataframe thead th {\n",
       "        text-align: right;\n",
       "    }\n",
       "</style>\n",
       "<table border=\"1\" class=\"dataframe\">\n",
       "  <thead>\n",
       "    <tr style=\"text-align: right;\">\n",
       "      <th></th>\n",
       "      <th>patient</th>\n",
       "      <th>type</th>\n",
       "      <th>p_value</th>\n",
       "      <th>star</th>\n",
       "    </tr>\n",
       "  </thead>\n",
       "  <tbody>\n",
       "    <tr>\n",
       "      <th>0</th>\n",
       "      <td>BrMET008-region1</td>\n",
       "      <td>BrMET</td>\n",
       "      <td>0.721757</td>\n",
       "      <td>ns</td>\n",
       "    </tr>\n",
       "    <tr>\n",
       "      <th>1</th>\n",
       "      <td>BrMET008-region2</td>\n",
       "      <td>BrMET</td>\n",
       "      <td>0.607482</td>\n",
       "      <td>ns</td>\n",
       "    </tr>\n",
       "    <tr>\n",
       "      <th>2</th>\n",
       "      <td>BrMET008-region3</td>\n",
       "      <td>BrMET</td>\n",
       "      <td>0.991208</td>\n",
       "      <td>ns</td>\n",
       "    </tr>\n",
       "    <tr>\n",
       "      <th>3</th>\n",
       "      <td>BrMET008-region4</td>\n",
       "      <td>BrMET</td>\n",
       "      <td>0.823164</td>\n",
       "      <td>ns</td>\n",
       "    </tr>\n",
       "    <tr>\n",
       "      <th>4</th>\n",
       "      <td>BrMET009-region1</td>\n",
       "      <td>BrMET</td>\n",
       "      <td>0.34077</td>\n",
       "      <td>ns</td>\n",
       "    </tr>\n",
       "    <tr>\n",
       "      <th>5</th>\n",
       "      <td>BrMET009-region2</td>\n",
       "      <td>BrMET</td>\n",
       "      <td>0.414923</td>\n",
       "      <td>ns</td>\n",
       "    </tr>\n",
       "    <tr>\n",
       "      <th>6</th>\n",
       "      <td>BrMET009-region3</td>\n",
       "      <td>BrMET</td>\n",
       "      <td>0.867707</td>\n",
       "      <td>ns</td>\n",
       "    </tr>\n",
       "    <tr>\n",
       "      <th>7</th>\n",
       "      <td>BrMET010-region1</td>\n",
       "      <td>BrMET</td>\n",
       "      <td>0.290036</td>\n",
       "      <td>ns</td>\n",
       "    </tr>\n",
       "    <tr>\n",
       "      <th>8</th>\n",
       "      <td>BrMET010-region2</td>\n",
       "      <td>BrMET</td>\n",
       "      <td>0.497866</td>\n",
       "      <td>ns</td>\n",
       "    </tr>\n",
       "    <tr>\n",
       "      <th>9</th>\n",
       "      <td>BrMET010-region3</td>\n",
       "      <td>BrMET</td>\n",
       "      <td>0.088001</td>\n",
       "      <td>ns</td>\n",
       "    </tr>\n",
       "    <tr>\n",
       "      <th>10</th>\n",
       "      <td>BrMET018-region1</td>\n",
       "      <td>BrMET</td>\n",
       "      <td>0.347267</td>\n",
       "      <td>ns</td>\n",
       "    </tr>\n",
       "    <tr>\n",
       "      <th>11</th>\n",
       "      <td>BrMET018-region2</td>\n",
       "      <td>BrMET</td>\n",
       "      <td>0.366079</td>\n",
       "      <td>ns</td>\n",
       "    </tr>\n",
       "    <tr>\n",
       "      <th>12</th>\n",
       "      <td>BrMET018-region3</td>\n",
       "      <td>BrMET</td>\n",
       "      <td>0.298593</td>\n",
       "      <td>ns</td>\n",
       "    </tr>\n",
       "    <tr>\n",
       "      <th>13</th>\n",
       "      <td>BrMET019-region1</td>\n",
       "      <td>BrMET</td>\n",
       "      <td>0.931696</td>\n",
       "      <td>ns</td>\n",
       "    </tr>\n",
       "    <tr>\n",
       "      <th>14</th>\n",
       "      <td>BrMET019-region2</td>\n",
       "      <td>BrMET</td>\n",
       "      <td>0.38561</td>\n",
       "      <td>ns</td>\n",
       "    </tr>\n",
       "    <tr>\n",
       "      <th>15</th>\n",
       "      <td>BrMET019-region3</td>\n",
       "      <td>BrMET</td>\n",
       "      <td>0.909347</td>\n",
       "      <td>ns</td>\n",
       "    </tr>\n",
       "    <tr>\n",
       "      <th>16</th>\n",
       "      <td>BrMET025-region1</td>\n",
       "      <td>BrMET</td>\n",
       "      <td>0.072259</td>\n",
       "      <td>ns</td>\n",
       "    </tr>\n",
       "    <tr>\n",
       "      <th>17</th>\n",
       "      <td>BrMET025-region2</td>\n",
       "      <td>BrMET</td>\n",
       "      <td>0.570122</td>\n",
       "      <td>ns</td>\n",
       "    </tr>\n",
       "    <tr>\n",
       "      <th>18</th>\n",
       "      <td>BrMET025-region3</td>\n",
       "      <td>BrMET</td>\n",
       "      <td>0.000483</td>\n",
       "      <td>∗∗∗</td>\n",
       "    </tr>\n",
       "    <tr>\n",
       "      <th>19</th>\n",
       "      <td>BrMET027-region1</td>\n",
       "      <td>BrMET</td>\n",
       "      <td>0.911881</td>\n",
       "      <td>ns</td>\n",
       "    </tr>\n",
       "    <tr>\n",
       "      <th>20</th>\n",
       "      <td>BrMET027-region2</td>\n",
       "      <td>BrMET</td>\n",
       "      <td>0.6049</td>\n",
       "      <td>ns</td>\n",
       "    </tr>\n",
       "    <tr>\n",
       "      <th>21</th>\n",
       "      <td>BrMET027-region3</td>\n",
       "      <td>BrMET</td>\n",
       "      <td>0.833624</td>\n",
       "      <td>ns</td>\n",
       "    </tr>\n",
       "    <tr>\n",
       "      <th>22</th>\n",
       "      <td>BrMET028-region1</td>\n",
       "      <td>BrMET</td>\n",
       "      <td>0.970507</td>\n",
       "      <td>ns</td>\n",
       "    </tr>\n",
       "    <tr>\n",
       "      <th>23</th>\n",
       "      <td>BrMET028-region2</td>\n",
       "      <td>BrMET</td>\n",
       "      <td>0.275936</td>\n",
       "      <td>ns</td>\n",
       "    </tr>\n",
       "    <tr>\n",
       "      <th>24</th>\n",
       "      <td>BrMET028-region3</td>\n",
       "      <td>BrMET</td>\n",
       "      <td>0.561997</td>\n",
       "      <td>ns</td>\n",
       "    </tr>\n",
       "    <tr>\n",
       "      <th>25</th>\n",
       "      <td>GBM032-region1</td>\n",
       "      <td>GBM</td>\n",
       "      <td>0.364151</td>\n",
       "      <td>ns</td>\n",
       "    </tr>\n",
       "    <tr>\n",
       "      <th>26</th>\n",
       "      <td>GBM032-region2</td>\n",
       "      <td>GBM</td>\n",
       "      <td>0.63933</td>\n",
       "      <td>ns</td>\n",
       "    </tr>\n",
       "    <tr>\n",
       "      <th>27</th>\n",
       "      <td>GBM032-region3</td>\n",
       "      <td>GBM</td>\n",
       "      <td>0.929069</td>\n",
       "      <td>ns</td>\n",
       "    </tr>\n",
       "    <tr>\n",
       "      <th>28</th>\n",
       "      <td>GBM032-region4</td>\n",
       "      <td>GBM</td>\n",
       "      <td>0.765548</td>\n",
       "      <td>ns</td>\n",
       "    </tr>\n",
       "    <tr>\n",
       "      <th>29</th>\n",
       "      <td>GBM052-region1</td>\n",
       "      <td>GBM</td>\n",
       "      <td>0.754029</td>\n",
       "      <td>ns</td>\n",
       "    </tr>\n",
       "    <tr>\n",
       "      <th>30</th>\n",
       "      <td>GBM052-region2</td>\n",
       "      <td>GBM</td>\n",
       "      <td>0.654771</td>\n",
       "      <td>ns</td>\n",
       "    </tr>\n",
       "    <tr>\n",
       "      <th>31</th>\n",
       "      <td>GBM052-region3</td>\n",
       "      <td>GBM</td>\n",
       "      <td>0.854284</td>\n",
       "      <td>ns</td>\n",
       "    </tr>\n",
       "    <tr>\n",
       "      <th>32</th>\n",
       "      <td>GBM055-region2</td>\n",
       "      <td>GBM</td>\n",
       "      <td>0.099349</td>\n",
       "      <td>ns</td>\n",
       "    </tr>\n",
       "    <tr>\n",
       "      <th>33</th>\n",
       "      <td>GBM056-region1</td>\n",
       "      <td>GBM</td>\n",
       "      <td>0.241965</td>\n",
       "      <td>ns</td>\n",
       "    </tr>\n",
       "    <tr>\n",
       "      <th>34</th>\n",
       "      <td>GBM056-region2</td>\n",
       "      <td>GBM</td>\n",
       "      <td>0.068113</td>\n",
       "      <td>ns</td>\n",
       "    </tr>\n",
       "    <tr>\n",
       "      <th>35</th>\n",
       "      <td>GBM056-region3</td>\n",
       "      <td>GBM</td>\n",
       "      <td>0.726626</td>\n",
       "      <td>ns</td>\n",
       "    </tr>\n",
       "    <tr>\n",
       "      <th>36</th>\n",
       "      <td>GBM059-region1</td>\n",
       "      <td>GBM</td>\n",
       "      <td>0.020758</td>\n",
       "      <td>∗</td>\n",
       "    </tr>\n",
       "    <tr>\n",
       "      <th>37</th>\n",
       "      <td>GBM059-region2</td>\n",
       "      <td>GBM</td>\n",
       "      <td>0.736066</td>\n",
       "      <td>ns</td>\n",
       "    </tr>\n",
       "    <tr>\n",
       "      <th>38</th>\n",
       "      <td>GBM059-region3</td>\n",
       "      <td>GBM</td>\n",
       "      <td>0.987493</td>\n",
       "      <td>ns</td>\n",
       "    </tr>\n",
       "    <tr>\n",
       "      <th>39</th>\n",
       "      <td>GBM062-region1</td>\n",
       "      <td>GBM</td>\n",
       "      <td>0.881854</td>\n",
       "      <td>ns</td>\n",
       "    </tr>\n",
       "    <tr>\n",
       "      <th>40</th>\n",
       "      <td>GBM062-region2</td>\n",
       "      <td>GBM</td>\n",
       "      <td>0.470538</td>\n",
       "      <td>ns</td>\n",
       "    </tr>\n",
       "    <tr>\n",
       "      <th>41</th>\n",
       "      <td>GBM062-region3</td>\n",
       "      <td>GBM</td>\n",
       "      <td>0.819607</td>\n",
       "      <td>ns</td>\n",
       "    </tr>\n",
       "    <tr>\n",
       "      <th>42</th>\n",
       "      <td>GBM063-region1</td>\n",
       "      <td>GBM</td>\n",
       "      <td>0.575775</td>\n",
       "      <td>ns</td>\n",
       "    </tr>\n",
       "    <tr>\n",
       "      <th>43</th>\n",
       "      <td>GBM063-region3</td>\n",
       "      <td>GBM</td>\n",
       "      <td>0.249452</td>\n",
       "      <td>ns</td>\n",
       "    </tr>\n",
       "    <tr>\n",
       "      <th>44</th>\n",
       "      <td>GBM064-region2</td>\n",
       "      <td>GBM</td>\n",
       "      <td>0.504709</td>\n",
       "      <td>ns</td>\n",
       "    </tr>\n",
       "    <tr>\n",
       "      <th>45</th>\n",
       "      <td>GBM064-region3</td>\n",
       "      <td>GBM</td>\n",
       "      <td>0.280228</td>\n",
       "      <td>ns</td>\n",
       "    </tr>\n",
       "    <tr>\n",
       "      <th>46</th>\n",
       "      <td>GBM070-region1</td>\n",
       "      <td>GBM</td>\n",
       "      <td>0.107222</td>\n",
       "      <td>ns</td>\n",
       "    </tr>\n",
       "    <tr>\n",
       "      <th>47</th>\n",
       "      <td>GBM070-region2</td>\n",
       "      <td>GBM</td>\n",
       "      <td>0.465199</td>\n",
       "      <td>ns</td>\n",
       "    </tr>\n",
       "    <tr>\n",
       "      <th>48</th>\n",
       "      <td>GBM070-region3</td>\n",
       "      <td>GBM</td>\n",
       "      <td>0.530829</td>\n",
       "      <td>ns</td>\n",
       "    </tr>\n",
       "    <tr>\n",
       "      <th>49</th>\n",
       "      <td>GBM074-region1</td>\n",
       "      <td>GBM</td>\n",
       "      <td>0.198938</td>\n",
       "      <td>ns</td>\n",
       "    </tr>\n",
       "    <tr>\n",
       "      <th>50</th>\n",
       "      <td>GBM074-region2</td>\n",
       "      <td>GBM</td>\n",
       "      <td>0.998504</td>\n",
       "      <td>ns</td>\n",
       "    </tr>\n",
       "    <tr>\n",
       "      <th>51</th>\n",
       "      <td>GBM074-region3</td>\n",
       "      <td>GBM</td>\n",
       "      <td>0.557146</td>\n",
       "      <td>ns</td>\n",
       "    </tr>\n",
       "    <tr>\n",
       "      <th>52</th>\n",
       "      <td>GBM079-region1</td>\n",
       "      <td>GBM</td>\n",
       "      <td>0.376761</td>\n",
       "      <td>ns</td>\n",
       "    </tr>\n",
       "    <tr>\n",
       "      <th>53</th>\n",
       "      <td>GBM079-region2</td>\n",
       "      <td>GBM</td>\n",
       "      <td>0.994924</td>\n",
       "      <td>ns</td>\n",
       "    </tr>\n",
       "    <tr>\n",
       "      <th>54</th>\n",
       "      <td>GBM079-region3</td>\n",
       "      <td>GBM</td>\n",
       "      <td>0.920765</td>\n",
       "      <td>ns</td>\n",
       "    </tr>\n",
       "  </tbody>\n",
       "</table>\n",
       "</div>"
      ],
      "text/plain": [
       "             patient   type   p_value star\n",
       "0   BrMET008-region1  BrMET  0.721757   ns\n",
       "1   BrMET008-region2  BrMET  0.607482   ns\n",
       "2   BrMET008-region3  BrMET  0.991208   ns\n",
       "3   BrMET008-region4  BrMET  0.823164   ns\n",
       "4   BrMET009-region1  BrMET   0.34077   ns\n",
       "5   BrMET009-region2  BrMET  0.414923   ns\n",
       "6   BrMET009-region3  BrMET  0.867707   ns\n",
       "7   BrMET010-region1  BrMET  0.290036   ns\n",
       "8   BrMET010-region2  BrMET  0.497866   ns\n",
       "9   BrMET010-region3  BrMET  0.088001   ns\n",
       "10  BrMET018-region1  BrMET  0.347267   ns\n",
       "11  BrMET018-region2  BrMET  0.366079   ns\n",
       "12  BrMET018-region3  BrMET  0.298593   ns\n",
       "13  BrMET019-region1  BrMET  0.931696   ns\n",
       "14  BrMET019-region2  BrMET   0.38561   ns\n",
       "15  BrMET019-region3  BrMET  0.909347   ns\n",
       "16  BrMET025-region1  BrMET  0.072259   ns\n",
       "17  BrMET025-region2  BrMET  0.570122   ns\n",
       "18  BrMET025-region3  BrMET  0.000483  ∗∗∗\n",
       "19  BrMET027-region1  BrMET  0.911881   ns\n",
       "20  BrMET027-region2  BrMET    0.6049   ns\n",
       "21  BrMET027-region3  BrMET  0.833624   ns\n",
       "22  BrMET028-region1  BrMET  0.970507   ns\n",
       "23  BrMET028-region2  BrMET  0.275936   ns\n",
       "24  BrMET028-region3  BrMET  0.561997   ns\n",
       "25    GBM032-region1    GBM  0.364151   ns\n",
       "26    GBM032-region2    GBM   0.63933   ns\n",
       "27    GBM032-region3    GBM  0.929069   ns\n",
       "28    GBM032-region4    GBM  0.765548   ns\n",
       "29    GBM052-region1    GBM  0.754029   ns\n",
       "30    GBM052-region2    GBM  0.654771   ns\n",
       "31    GBM052-region3    GBM  0.854284   ns\n",
       "32    GBM055-region2    GBM  0.099349   ns\n",
       "33    GBM056-region1    GBM  0.241965   ns\n",
       "34    GBM056-region2    GBM  0.068113   ns\n",
       "35    GBM056-region3    GBM  0.726626   ns\n",
       "36    GBM059-region1    GBM  0.020758    ∗\n",
       "37    GBM059-region2    GBM  0.736066   ns\n",
       "38    GBM059-region3    GBM  0.987493   ns\n",
       "39    GBM062-region1    GBM  0.881854   ns\n",
       "40    GBM062-region2    GBM  0.470538   ns\n",
       "41    GBM062-region3    GBM  0.819607   ns\n",
       "42    GBM063-region1    GBM  0.575775   ns\n",
       "43    GBM063-region3    GBM  0.249452   ns\n",
       "44    GBM064-region2    GBM  0.504709   ns\n",
       "45    GBM064-region3    GBM  0.280228   ns\n",
       "46    GBM070-region1    GBM  0.107222   ns\n",
       "47    GBM070-region2    GBM  0.465199   ns\n",
       "48    GBM070-region3    GBM  0.530829   ns\n",
       "49    GBM074-region1    GBM  0.198938   ns\n",
       "50    GBM074-region2    GBM  0.998504   ns\n",
       "51    GBM074-region3    GBM  0.557146   ns\n",
       "52    GBM079-region1    GBM  0.376761   ns\n",
       "53    GBM079-region2    GBM  0.994924   ns\n",
       "54    GBM079-region3    GBM  0.920765   ns"
      ]
     },
     "execution_count": 72,
     "metadata": {},
     "output_type": "execute_result"
    }
   ],
   "source": [
    "p_value_df['star'] = [get_asterisks(p_value) for p_value in p_value_df['p_value'].values]\n",
    "p_value_df"
   ]
  },
  {
   "cell_type": "code",
   "execution_count": 51,
   "metadata": {},
   "outputs": [
    {
     "name": "stdout",
     "output_type": "stream",
     "text": [
      "0.0004831509688839608 0.9985035603572682\n"
     ]
    }
   ],
   "source": [
    "print(p_value_df['p_value'].min(), p_value_df['p_value'].max())"
   ]
  },
  {
   "cell_type": "code",
   "execution_count": 53,
   "metadata": {},
   "outputs": [
    {
     "data": {
      "text/plain": [
       "array([np.float64(0.7217567851292845), np.float64(0.6074815600969135),\n",
       "       np.float64(0.9912080494511709), np.float64(0.8231637963337798),\n",
       "       np.float64(0.34077014447101917), np.float64(0.4149228509074211),\n",
       "       np.float64(0.8677072808525366), np.float64(0.2900361231780595),\n",
       "       np.float64(0.49786573332811523), np.float64(0.08800084421190502),\n",
       "       np.float64(0.3472668773594656), np.float64(0.36607925133881336),\n",
       "       np.float64(0.29859261338531107), np.float64(0.9316958624754029),\n",
       "       np.float64(0.38561007298144934), np.float64(0.9093473480487274),\n",
       "       np.float64(0.07225876471834569), np.float64(0.5701217310084501),\n",
       "       np.float64(0.0004831509688839608), np.float64(0.9118809842098833),\n",
       "       np.float64(0.6049000648530944), np.float64(0.8336243814878849),\n",
       "       np.float64(0.9705066935962259), np.float64(0.27593623611921503),\n",
       "       np.float64(0.5619969534889726), np.float64(0.36415079409324924),\n",
       "       np.float64(0.6393301505198241), np.float64(0.9290691513302933),\n",
       "       np.float64(0.765548291212145), np.float64(0.7540293258521656),\n",
       "       np.float64(0.6547714508942687), np.float64(0.8542836827752125),\n",
       "       np.float64(0.09934946180196014), np.float64(0.24196547881995933),\n",
       "       np.float64(0.06811272253251743), np.float64(0.7266260999023826),\n",
       "       np.float64(0.020758200961842777), np.float64(0.7360663073585864),\n",
       "       np.float64(0.9874933295596388), np.float64(0.8818540440594154),\n",
       "       np.float64(0.47053829584395723), np.float64(0.8196074387775307),\n",
       "       np.float64(0.575775234286035), np.float64(0.24945223069016398),\n",
       "       np.float64(0.5047085625475993), np.float64(0.2802284700548461),\n",
       "       np.float64(0.10722213800687486), np.float64(0.4651992597780157),\n",
       "       np.float64(0.5308289694888692), np.float64(0.19893805376321694),\n",
       "       np.float64(0.9985035603572682), np.float64(0.5571461187285994),\n",
       "       np.float64(0.37676115294857215), np.float64(0.9949237329259195),\n",
       "       np.float64(0.9207653495285215)], dtype=object)"
      ]
     },
     "execution_count": 53,
     "metadata": {},
     "output_type": "execute_result"
    }
   ],
   "source": [
    "p_value_df['p_value'].values"
   ]
  },
  {
   "cell_type": "code",
   "execution_count": 73,
   "metadata": {},
   "outputs": [
    {
     "data": {
      "image/png": "[encoded data removed]",
      "text/plain": [
       "<Figure size 640x480 with 1 Axes>"
      ]
     },
     "metadata": {},
     "output_type": "display_data"
    }
   ],
   "source": [
    "import matplotlib.ticker as ticker\n",
    "ax = sns.countplot(data=p_value_df, x='star', hue='type', \n",
    "                   palette={'BrMET':'royalblue', 'GBM':'red'}, \n",
    "                   order=[f'{asterisk}{asterisk}{asterisk}', f'{asterisk}{asterisk}', f'{asterisk}', 'ns'],\n",
    "                   saturation=1)\n",
    "ax.yaxis.set_major_locator(ticker.MultipleLocator(5))\n",
    "ax.yaxis.set_minor_locator(ticker.MultipleLocator(1))\n",
    "\n",
    "ax.grid(False)\n",
    "ax.set_xlabel(r'$\\chi^2$ p-value significance', fontsize=18)\n",
    "ax.set_ylabel('count', fontsize=18)\n",
    "for label in ax.get_xticklabels():\n",
    "    label.set_fontsize(18)\n",
    "for label in ax.get_yticklabels():\n",
    "    label.set_fontsize(18)\n",
    "\n",
    "ax.tick_params(\n",
    "    axis=\"x\", which=\"major\", direction=\"out\", length=10, width=2, labelsize=18\n",
    ")\n",
    "ax.tick_params(\n",
    "    axis=\"x\", which=\"minor\", direction=\"out\", length=5, width=2, labelsize=18\n",
    ")\n",
    "ax.tick_params(\n",
    "    axis=\"y\", which=\"major\", direction=\"out\", length=10, width=2, labelsize=18\n",
    ")\n",
    "ax.tick_params(\n",
    "    axis=\"y\", which=\"minor\", direction=\"out\", length=5, width=2, labelsize=18\n",
    ")\n",
    "ax.legend(title='', fontsize=18)\n",
    "for spine in ax.spines.values():\n",
    "    spine.set_linewidth(2)\n",
    "plt.show()"
   ]
  },
  {
   "cell_type": "code",
   "execution_count": 81,
   "metadata": {},
   "outputs": [
    {
     "data": {
      "image/png": "[encoded data removed]",
      "text/plain": [
       "<Figure size 640x480 with 1 Axes>"
      ]
     },
     "metadata": {},
     "output_type": "display_data"
    }
   ],
   "source": [
    "plt.hist(p_value_df['p_value'].values, bins=20)\n",
    "plt.xlabel('p-values')\n",
    "plt.show()"
   ]
  },
  {
   "cell_type": "code",
   "execution_count": 121,
   "metadata": {},
   "outputs": [
    {
     "name": "stdout",
     "output_type": "stream",
     "text": [
      "BrMET008-region1: 100%\n",
      "Mean coverage per data: 1.0\n"
     ]
    }
   ],
   "source": [
    "p_value_df = pd.DataFrame(columns=['patient', 'type', 'p_value'])\n",
    "chi_squared_values = []\n",
    "coverages = []\n",
    "for patient_id in patient_names[:1]:\n",
    "    region_number_logic = range(1, 4) if patient_id not in ['BrMET008', 'GBM032'] else range(1, 5)\n",
    "    for region_number in region_number_logic[:1]:\n",
    "        # print(patient_id, region_number)\n",
    "        try:\n",
    "            with h5py.File(f'/home/gddaslab/mxp140/tcr_project_ultimate/results/{patient_id}_region{region_number}_model_results_from_panpep.h5', 'r') as f:\n",
    "                data_config = f['data_config'][:]\n",
    "                model_config = f['model_config'][:]\n",
    "            data_points = pdf(data_config)\n",
    "            ci_df = ci_pdf(model_config, alpha=5, least_number_of_observations=10)\n",
    "            ci_df = ci_df[(ci_df['lower']!=ci_df['median']) &  (ci_df['median']!=ci_df['upper'])]\n",
    "            count_within_band = 0\n",
    "            for x, y in zip(data_points[0], data_points[1]):\n",
    "                look_at = ci_df[ci_df['clone_size']==x]\n",
    "                if look_at.empty:\n",
    "                    # print(f'clone {x} not found in {patient_id}-region{region_number}')\n",
    "                    continue\n",
    "                lower_bound = look_at['lower'].values[0]\n",
    "                upper_bound = look_at['upper'].values[0]\n",
    "                if (lower_bound<=y) & (y<=upper_bound):\n",
    "                    count_within_band += 1\n",
    "            coverage_probability = count_within_band/np.sum(data_points[0]<=ci_df['clone_size'].max())\n",
    "            print(f'{patient_id}-region{region_number}: {coverage_probability*100:.0f}%')\n",
    "            coverages.append(coverage_probability)\n",
    "        except:\n",
    "            # print(f\"File not found for {patient_id}-region{region_number}\")\n",
    "            continue\n",
    "print(f'Mean coverage per data: {np.mean(coverages)}')"
   ]
  },
  {
   "cell_type": "code",
   "execution_count": 74,
   "metadata": {},
   "outputs": [
    {
     "data": {
      "image/png": "[encoded data removed]",
      "text/plain": [
       "<Figure size 850x267 with 1 Axes>"
      ]
     },
     "metadata": {},
     "output_type": "display_data"
    }
   ],
   "source": [
    "patient_id = 'GBM052'\n",
    "region_number = 2\n",
    "ncols = 1\n",
    "fig, ax = plt.subplots(nrows=1, ncols=ncols, figsize=(8.5, 2.67), gridspec_kw={'wspace':0.09, 'hspace':0.15})\n",
    "with h5py.File(f'/home/gddaslab/mxp140/tcr_project_ultimate/results/{patient_id}_region{region_number}_model_results_from_panpep.h5', 'r') as f:\n",
    "    # data_config = f['data_config'][:]\n",
    "    # model_config = f['model_config'][:]\n",
    "    # data_points = pdf(data_config)\n",
    "    # ci_df = ci_pdf(model_config, alpha=5, least_number_of_observations=10)\n",
    "    # ci_df = ci_df[(ci_df['lower']!=ci_df['median']) &  (ci_df['median']!=ci_df['upper'])]\n",
    "    # count_within_band = 0\n",
    "    # for x, y in zip(data_points[0], data_points[1]):\n",
    "    #     look_at = ci_df[ci_df['clone_size']==x]\n",
    "    #     if look_at.empty:\n",
    "    #         # print(f'clone {x} not found in {patient_id}-region{region_number}')\n",
    "    #         continue\n",
    "    #     lower_bound = look_at['lower'].values[0]\n",
    "    #     upper_bound = look_at['upper'].values[0]\n",
    "    #     if (lower_bound<=y) & (y<=upper_bound):\n",
    "    #         count_within_band += 1\n",
    "    # coverage_probability = count_within_band/np.sum(data_points[0]<=ci_df['clone_size'].max())\n",
    "    # print(f'{patient_id}-region{region_number}: {coverage_probability*100:.0f}%')\n",
    "    data_config = f['data_config'][:]\n",
    "    data_config = np.unique(data_config, return_counts=True)\n",
    "    x_data, y_data = data_config[0], data_config[1] / np.sum(data_config[1])\n",
    "                    \n",
    "    model_config = f['model_config'][:]\n",
    "    least_number_of_observations = 10\n",
    "    ci_df = ci_pdf(model_config, least_number_of_observations=least_number_of_observations)\n",
    "    ci_df = ci_df[(ci_df['lower']!=ci_df['median']) &  (ci_df['median']!=ci_df['upper'])]\n",
    "                    \n",
    "    facecolors = 'white'#'royalblue' if 'BrMET' in patient_id else 'red'\n",
    "    edgecolors = 'black'#darkblue' if 'BrMET' in patient_id else 'darkred'\n",
    "    ax.scatter(x_data, y_data, s=30, facecolors=facecolors, alpha=1.0, edgecolors=edgecolors, zorder=1, label='data')\n",
    "    ax.fill_between(ci_df['clone_size'], ci_df['lower'], ci_df['upper'], color='royalblue' if 'BrMET' in patient_id else 'red', zorder=2, alpha=0.5, label=f'model-panpep')\n",
    "    \n",
    "    ax.set_xscale('log')\n",
    "    ax.set_yscale('log')\n",
    "    ax.set_xticks([1, 10, 100, 1000])  # 10^0, 10^1, 10^2, 10^3\n",
    "    ax.set_xticklabels(['$10^0$', '$10^1$', '$10^2$', '$10^3$'], fontsize=18)\n",
    "    offset_x = 0.30\n",
    "\n",
    "    # ax.set_xlim(min(x_data) - offset_x * min(x_data), max(x_data) + offset_x * max(x_data))\n",
    "    # ax.set_ylim(min(y_data) - offset_y * min(y_data), max(y_data) + offset_y * max(y_data))\n",
    "    # ax.xaxis.set_minor_locator(ticker.LogLocator(base=10.0, subs=np.arange(2, 10)))\n",
    "\n",
    "    # ax.set_xlabel(r\"Clone size\", fontsize=18)\n",
    "    # ax.set_ylabel('Probability' if i==0 else '', fontsize=18)\n",
    "    \n",
    "    # ax.tick_params(\n",
    "    #     axis=\"x\", which=\"major\", direction=\"out\", length=8, width=1.5, labelsize=14\n",
    "    # )\n",
    "    # ax.tick_params(\n",
    "    #     axis=\"x\", which=\"minor\", direction=\"out\", length=5, width=1.5, labelsize=14\n",
    "    # )\n",
    "    # ax.tick_params(\n",
    "    #     axis=\"y\", which=\"major\", direction=\"out\", length=10, width=1.5, labelsize=14\n",
    "    # )\n",
    "    # ax.tick_params(\n",
    "    #     axis=\"y\", which=\"minor\", direction=\"out\", length=5, width=1.5, labelsize=14\n",
    "    # )\n",
    "    \n",
    "    # for spine in ax.spines.values():\n",
    "    #     spine.set_linewidth(2)\n",
    "    \n",
    "    # ax.legend(loc='upper right', fontsize=10)\n",
    "    # ax.set_title(f'{patient_id}-region{region_number}', fontsize=14)\n",
    "    plt.show()"
   ]
  },
  {
   "cell_type": "code",
   "execution_count": 126,
   "metadata": {},
   "outputs": [
    {
     "name": "stdout",
     "output_type": "stream",
     "text": [
      "(770,) (770, 1000)\n",
      "(7582,) (7582, 1000)\n",
      "(6522,) (6522, 1000)\n",
      "(14874, 1000)\n",
      "(14874,)\n"
     ]
    },
    {
     "data": {
      "image/png": "[encoded data removed]",
      "text/plain": [
       "<Figure size 850x267 with 1 Axes>"
      ]
     },
     "metadata": {},
     "output_type": "display_data"
    },
    {
     "name": "stdout",
     "output_type": "stream",
     "text": [
      "GBM052: 64%\n"
     ]
    }
   ],
   "source": [
    "patient_id = 'GBM052'\n",
    "synthetic_config = []\n",
    "data_config_combined = []\n",
    "for region_number in [1, 2, 3]:\n",
    "    with h5py.File(f'/home/gddaslab/mxp140/tcr_project_ultimate/results/{patient_id}_region{region_number}_model_results_from_panpep.h5', 'r') as f:\n",
    "        data_config = f['data_config'][:]\n",
    "        model_config = f['model_config'][:]\n",
    "        data_config_combined.append(data_config)\n",
    "        synthetic_config.append(model_config)\n",
    "        print(data_config.shape, model_config.shape)\n",
    "\n",
    "final_synthetic_config = np.concatenate(synthetic_config, axis=0)\n",
    "print(final_synthetic_config.shape)\n",
    "\n",
    "final_data_config = np.concatenate(data_config_combined)\n",
    "print(final_data_config.shape)\n",
    "\n",
    "\n",
    "ncols = 1\n",
    "fig, ax = plt.subplots(nrows=1, ncols=ncols, figsize=(8.5, 2.67), gridspec_kw={'wspace':0.09, 'hspace':0.15})\n",
    "final_data_config_pdf = pdf(final_data_config)\n",
    "x_data, y_data = final_data_config_pdf[0], final_data_config_pdf[1] / np.sum(final_data_config_pdf[1])\n",
    "                    \n",
    "# model_config = f['model_config'][:]\n",
    "least_number_of_observations = 10\n",
    "ci_df = ci_pdf(final_synthetic_config, least_number_of_observations=least_number_of_observations)\n",
    "ci_df = ci_df[(ci_df['lower']!=ci_df['median']) &  (ci_df['median']!=ci_df['upper'])]\n",
    "                \n",
    "facecolors = 'white'#'royalblue' if 'BrMET' in patient_id else 'red'\n",
    "edgecolors = 'black'#darkblue' if 'BrMET' in patient_id else 'darkred'\n",
    "ax.scatter(x_data, y_data, s=30, facecolors=facecolors, alpha=1.0, edgecolors=edgecolors, zorder=1, label='data')\n",
    "ax.fill_between(ci_df['clone_size'], ci_df['lower'], ci_df['upper'], color='royalblue' if 'BrMET' in patient_id else 'red', zorder=2, alpha=0.5, label=f'model-panpep')\n",
    "\n",
    "ax.set_xscale('log')\n",
    "ax.set_yscale('log')\n",
    "ax.set_xticks([1, 10, 100, 1000])  # 10^0, 10^1, 10^2, 10^3\n",
    "ax.set_xticklabels(['$10^0$', '$10^1$', '$10^2$', '$10^3$'], fontsize=18)\n",
    "offset_x = 0.30\n",
    "plt.show()\n",
    "\n",
    "data_points = final_data_config_pdf\n",
    "count_within_band = 0\n",
    "for x, y in zip(data_points[0], data_points[1]):\n",
    "    look_at = ci_df[ci_df['clone_size']==x]\n",
    "    if look_at.empty:\n",
    "        # print(f'clone {x} not found in {patient_id}-region{region_number}')\n",
    "        continue\n",
    "    lower_bound = look_at['lower'].values[0]\n",
    "    upper_bound = look_at['upper'].values[0]\n",
    "    if (lower_bound<=y) & (y<=upper_bound):\n",
    "        count_within_band += 1\n",
    "coverage_probability = count_within_band/np.sum(data_points[0]<=ci_df['clone_size'].max())\n",
    "print(f'{patient_id}: {coverage_probability*100:.0f}%')"
   ]
  },
  {
   "cell_type": "code",
   "execution_count": 133,
   "metadata": {},
   "outputs": [
    {
     "name": "stdout",
     "output_type": "stream",
     "text": [
      "9 533.3918362887504\n",
      "0.0\n"
     ]
    }
   ],
   "source": [
    "f_obs = count_clone_sizes(final_data_config, min_size=1, max_size=10)\n",
    "f_exp = np.mean(np.array([count_clone_sizes(final_synthetic_config[:, j], min_size=1, max_size=10) for j in range(final_synthetic_config.shape[1])]), axis=0)\n",
    "chi2_stat = np.sum([(obs-exp)**2/exp for obs, exp in zip(f_obs, f_exp)])\n",
    "dof = len(f_obs) -1\n",
    "print(dof, chi2_stat)\n",
    "p_value = 1 - chi2.cdf(chi2_stat, dof)\n",
    "print(p_value)\n"
   ]
  },
  {
   "cell_type": "code",
   "execution_count": 146,
   "metadata": {},
   "outputs": [
    {
     "name": "stderr",
     "output_type": "stream",
     "text": [
      "                                                                                             \r"
     ]
    },
    {
     "data": {
      "image/png": "[encoded data removed]",
      "text/plain": [
       "<Figure size 850x267 with 1 Axes>"
      ]
     },
     "metadata": {},
     "output_type": "display_data"
    },
    {
     "name": "stdout",
     "output_type": "stream",
     "text": [
      "GBM052: 43%\n",
      "9 703.4924549875036\n",
      "0.0\n"
     ]
    }
   ],
   "source": [
    "from pdf import generate_configuration_per_tcr\n",
    "with h5py.File(f'/home/gddaslab/mxp140/tcr_project_ultimate/results/probabilities/PANPEP/probs_GBM052.h5', 'r') as f:\n",
    "    probs_gbm052 = f['result'][:]\n",
    "    config_single_x2 = generate_configuration_per_tcr(probs_gbm052, min_clone_size=1, max_clone_size=probs_gbm052.shape[1]+1, sample_size=1000, disable_progressbar=False)\n",
    "combined_data = pd.read_csv('/home/gddaslab/mxp140/tcr_project_ultimate/data/BrMET_and_GBM_data-PANPEP.csv')\n",
    "combined_data = combined_data[combined_data['Patient']=='GBM052']\n",
    "\n",
    "ncols = 1\n",
    "fig, ax = plt.subplots(nrows=1, ncols=ncols, figsize=(8.5, 2.67), gridspec_kw={'wspace':0.09, 'hspace':0.15})\n",
    "data_config_pdf = pdf(combined_data['counts'].values)\n",
    "x_data, y_data = data_config_pdf[0], data_config_pdf[1] / np.sum(data_config_pdf[1])\n",
    "                    \n",
    "# model_config = f['model_config'][:]\n",
    "least_number_of_observations = 10\n",
    "ci_df = ci_pdf(config_single_x2, least_number_of_observations=least_number_of_observations)\n",
    "ci_df = ci_df[(ci_df['lower']!=ci_df['median']) &  (ci_df['median']!=ci_df['upper'])]\n",
    "                \n",
    "facecolors = 'white'#'royalblue' if 'BrMET' in patient_id else 'red'\n",
    "edgecolors = 'black'#darkblue' if 'BrMET' in patient_id else 'darkred'\n",
    "ax.scatter(x_data, y_data, s=30, facecolors=facecolors, alpha=1.0, edgecolors=edgecolors, zorder=1, label='data')\n",
    "ax.fill_between(ci_df['clone_size'], ci_df['lower'], ci_df['upper'], color='royalblue' if 'BrMET' in patient_id else 'red', zorder=2, alpha=0.5, label=f'model-panpep')\n",
    "\n",
    "ax.set_xscale('log')\n",
    "ax.set_yscale('log')\n",
    "ax.set_xticks([1, 10, 100, 1000])  # 10^0, 10^1, 10^2, 10^3\n",
    "ax.set_xticklabels(['$10^0$', '$10^1$', '$10^2$', '$10^3$'], fontsize=18)\n",
    "offset_x = 0.30\n",
    "plt.show()\n",
    "\n",
    "data_points = data_config_pdf\n",
    "count_within_band = 0\n",
    "for x, y in zip(data_points[0], data_points[1]):\n",
    "    look_at = ci_df[ci_df['clone_size']==x]\n",
    "    if look_at.empty:\n",
    "        # print(f'clone {x} not found in {patient_id}-region{region_number}')\n",
    "        continue\n",
    "    lower_bound = look_at['lower'].values[0]\n",
    "    upper_bound = look_at['upper'].values[0]\n",
    "    if (lower_bound<=y) & (y<=upper_bound):\n",
    "        count_within_band += 1\n",
    "coverage_probability = count_within_band/np.sum(data_points[0]<=ci_df['clone_size'].max())\n",
    "print(f'{patient_id}: {coverage_probability*100:.0f}%')\n",
    "\n",
    "f_obs = count_clone_sizes(combined_data['counts'].values, min_size=1, max_size=10)\n",
    "f_exp = np.mean(np.array([count_clone_sizes(config_single_x2[:, j], min_size=1, max_size=10) for j in range(config_single_x2.shape[1])]), axis=0)\n",
    "chi2_stat = np.sum([(obs-exp)**2/exp for obs, exp in zip(f_obs, f_exp)])\n",
    "dof = len(f_obs) -1\n",
    "print(dof, chi2_stat)\n",
    "p_value = 1 - chi2.cdf(chi2_stat, dof)\n",
    "print(p_value)\n"
   ]
  },
  {
   "cell_type": "code",
   "execution_count": 12,
   "metadata": {},
   "outputs": [
    {
     "name": "stdout",
     "output_type": "stream",
     "text": [
      "BrMET009-region1: 66%\n",
      "BrMET009-region2: 76%\n",
      "BrMET009-region3: 77%\n",
      "BrMET010-region1: 64%\n",
      "BrMET010-region2: 80%\n",
      "BrMET010-region3: 50%\n",
      "BrMET018-region1: 82%\n",
      "BrMET018-region3: 75%\n",
      "BrMET019-region1: 60%\n",
      "BrMET019-region2: 76%\n",
      "BrMET019-region3: 33%\n",
      "BrMET025-region1: 50%\n",
      "BrMET027-region1: 73%\n",
      "BrMET027-region2: 75%\n",
      "BrMET027-region3: 79%\n",
      "GBM032-region1: 57%\n",
      "GBM032-region4: 67%\n",
      "GBM052-region2: 40%\n",
      "GBM052-region3: 71%\n",
      "GBM055-region2: 56%\n",
      "GBM056-region2: 44%\n",
      "GBM059-region2: 80%\n",
      "GBM059-region3: 62%\n",
      "GBM070-region2: 69%\n",
      "GBM074-region3: 56%\n",
      "Mean coverage per data: 0.6470312532324917\n"
     ]
    }
   ],
   "source": [
    "p_value_df = pd.DataFrame(columns=['patient', 'type', 'p_value'])\n",
    "chi_squared_values = []\n",
    "coverages = []\n",
    "for patient_id in patient_names[:]:\n",
    "    region_number_logic = range(1, 4) if patient_id not in ['BrMET008', 'GBM032'] else range(1, 5)\n",
    "    for region_number in region_number_logic[:]:\n",
    "        # print(patient_id, region_number)\n",
    "        try:\n",
    "            with h5py.File(f'/home/gddaslab/mxp140/tcr_project_ultimate/results/{patient_id}_region{region_number}_model_results_from_panpep.h5', 'r') as f:\n",
    "                data_config = f['data_config'][:]\n",
    "                model_config = f['model_config'][:]\n",
    "            data_points = pdf(data_config)\n",
    "            has_values_between5and10 = np.any((data_points[0] >= 5) & (data_points[0] <= 100))\n",
    "            if has_values_between5and10 & (len(data_points[0]>=5)>20):\n",
    "                ci_df = ci_pdf(model_config, alpha=5, least_number_of_observations=10)\n",
    "                ci_df = ci_df[(ci_df['lower']!=ci_df['median']) &  (ci_df['median']!=ci_df['upper'])]\n",
    "                count_within_band = 0\n",
    "                for x, y in zip(data_points[0], data_points[1]):\n",
    "                    if x <= 5:\n",
    "                        # print('Avoiding 1')\n",
    "                        continue\n",
    "                    else:\n",
    "                        # print(x)\n",
    "                        look_at = ci_df[ci_df['clone_size']==x]\n",
    "                        if look_at.empty:\n",
    "                            # print(f'clone {x} not found in {patient_id}-region{region_number}')\n",
    "                            continue\n",
    "                        lower_bound = look_at['lower'].values[0]\n",
    "                        upper_bound = look_at['upper'].values[0]\n",
    "                        if (lower_bound<=y) & (y<=upper_bound):\n",
    "                            count_within_band += 1\n",
    "                coverage_probability = count_within_band/np.sum((data_points[0]<=ci_df['clone_size'].max()) & (data_points[0]!=1))\n",
    "                print(f'{patient_id}-region{region_number}: {coverage_probability*100:.0f}%')\n",
    "                coverages.append(coverage_probability)\n",
    "        except:\n",
    "            # print(f\"File not found for {patient_id}-region{region_number}\")\n",
    "            continue\n",
    "print(f'Mean coverage per data: {np.mean(coverages)}')"
   ]
  },
  {
   "cell_type": "code",
   "execution_count": 7,
   "metadata": {},
   "outputs": [
    {
     "data": {
      "text/plain": [
       "(array([ 1,  2,  3,  4,  6,  8, 10]),\n",
       " array([0.80898876, 0.12359551, 0.02247191, 0.01123596, 0.01123596,\n",
       "        0.01123596, 0.01123596]))"
      ]
     },
     "execution_count": 7,
     "metadata": {},
     "output_type": "execute_result"
    }
   ],
   "source": [
    "data_points"
   ]
  },
  {
   "cell_type": "code",
   "execution_count": null,
   "metadata": {},
   "outputs": [
    {
     "name": "stdout",
     "output_type": "stream",
     "text": [
      "Has values between 5 and 10: False\n"
     ]
    }
   ],
   "source": [
    "\n",
    "\n",
    "print(\"Has values between 5 and 10:\", has_values)"
   ]
  },
  {
   "cell_type": "code",
   "execution_count": 98,
   "metadata": {},
   "outputs": [
    {
     "data": {
      "image/png": "[encoded data removed]",
      "text/plain": [
       "<Figure size 500x500 with 1 Axes>"
      ]
     },
     "metadata": {},
     "output_type": "display_data"
    }
   ],
   "source": [
    "fig, ax = plt.subplots(nrows=1, ncols=1, figsize=(5, 5))\n",
    "ax.hist(np.array(coverages)*100, bins=10, cumulative=-1, histtype='bar', edgecolor='black', linewidth=1.5, align='mid', density=True, rwidth=5, alpha=1.0)\n",
    "ax.set_xticks([40, 60, 80, 100], ['≥40%', '≥60%', '≥80%', '100%'])\n",
    "current_yticks = plt.gca().get_yticks()\n",
    "plt.yticks(current_yticks, [f'{x*100:.0f}%' for x in current_yticks])\n",
    "\n",
    "ax.set_ylim(top=1.05)\n",
    "ax.set_xlabel('Coverage in percentage', fontsize=18)\n",
    "ax.set_ylabel('Fraction of dataset', fontsize=18)\n",
    "\n",
    "xtick_labels, ytick_labels = ax.get_xticklabels(), ax.get_yticklabels()\n",
    "for label in xtick_labels + ytick_labels:\n",
    "    label.set_fontsize(24)\n",
    "\n",
    "ax.tick_params(\n",
    "    axis=\"x\", which=\"major\", direction=\"out\", length=10, width=2, labelsize=18\n",
    ")\n",
    "ax.tick_params(\n",
    "    axis=\"x\", which=\"minor\", direction=\"in\", length=5, width=2, labelsize=18\n",
    ")\n",
    "ax.tick_params(\n",
    "    axis=\"y\", which=\"major\", direction=\"out\", length=10, width=2, labelsize=18\n",
    ")\n",
    "ax.tick_params(\n",
    "    axis=\"y\", which=\"minor\", direction=\"in\", length=5, width=2, labelsize=18\n",
    ")\n",
    "\n",
    "for spine in ax.spines.values():\n",
    "    spine.set_linewidth(2)\n",
    "plt.show()"
   ]
  },
  {
   "cell_type": "code",
   "execution_count": 57,
   "metadata": {},
   "outputs": [
    {
     "data": {
      "text/plain": [
       "np.float64(50.90909090909091)"
      ]
     },
     "execution_count": 57,
     "metadata": {},
     "output_type": "execute_result"
    }
   ],
   "source": [
    "(np.sum(np.array(coverages) >=0.70)/len(coverages))*100"
   ]
  },
  {
   "cell_type": "code",
   "execution_count": 36,
   "metadata": {},
   "outputs": [
    {
     "data": {
      "text/plain": [
       "(array([ 1,  2,  3,  4,  5,  6,  7, 11, 89]),\n",
       " array([0.83426966, 0.10674157, 0.02247191, 0.00842697, 0.00842697,\n",
       "        0.00842697, 0.00280899, 0.00561798, 0.00280899]))"
      ]
     },
     "execution_count": 36,
     "metadata": {},
     "output_type": "execute_result"
    }
   ],
   "source": [
    "test_array = data_points\n",
    "test_array"
   ]
  },
  {
   "cell_type": "code",
   "execution_count": 37,
   "metadata": {},
   "outputs": [
    {
     "name": "stdout",
     "output_type": "stream",
     "text": [
      "1: 0.8342696629213483: True\n",
      "2: 0.10674157303370786: True\n",
      "3: 0.02247191011235955: True\n",
      "4: 0.008426966292134831: True\n",
      "5: 0.008426966292134831: True\n",
      "6: 0.008426966292134831: True\n"
     ]
    }
   ],
   "source": [
    "for xx, yy in zip(test_array[0], test_array[1]):\n",
    "    look_at = ci_df[ci_df['clone_size']==xx]\n",
    "    # print(look_at)\n",
    "    if look_at.empty:\n",
    "        # print(f'clone {x} not found in {patient_id}-region{region_number}')\n",
    "        continue\n",
    "    lower_bound = look_at['lower'].values[0]\n",
    "    upper_bound = look_at['upper'].values[0]\n",
    "    if (lower_bound<=yy) & (yy<=upper_bound):\n",
    "        print(f'{xx}: {yy}: True')\n",
    "    else:\n",
    "        print(f'{xx}: {yy}: False')"
   ]
  },
  {
   "cell_type": "markdown",
   "metadata": {},
   "source": [
    "# Trying Bill's Suggestion"
   ]
  },
  {
   "cell_type": "code",
   "execution_count": 5,
   "metadata": {},
   "outputs": [],
   "source": [
    "from constants import max_kr_panpep"
   ]
  },
  {
   "cell_type": "code",
   "execution_count": 6,
   "metadata": {},
   "outputs": [],
   "source": [
    "import warnings\n",
    "import numpy as np\n",
    "from numba import jit\n",
    "from scipy.integrate import quad\n",
    "from scipy.optimize import minimize\n",
    "from concurrent.futures import ProcessPoolExecutor\n",
    "\n",
    "# Suppress only IntegrationWarning\n",
    "warnings.filterwarnings(\"ignore\")\n",
    "\n",
    "\n",
    "@jit(nopython=True)\n",
    "def integrand(tau, x1, x2, kr, m, M):\n",
    "    p = np.exp(-x2 * kr * (x1 - tau))\n",
    "    integrand_value = np.exp(tau) * p * ((1 - p) ** (M - m))\n",
    "    return integrand_value\n",
    "\n",
    "\n",
    "def probability(x1, x2, kr, m, M, contamination_factor=0.0):\n",
    "    factor_up_front = (1.0 / (np.exp(x1) - 1)) * (1.0/(1.0+contamination_factor))\n",
    "    integral, _ = quad(\n",
    "        integrand,\n",
    "        0,\n",
    "        x1,\n",
    "        args=(x1, x2, kr, m, M),\n",
    "        limit=200,\n",
    "        epsabs=1e-10,\n",
    "        epsrel=1e-10,\n",
    "    )\n",
    "    if M == 1:\n",
    "        return (factor_up_front * integral) + contamination_factor\n",
    "    else:\n",
    "        return factor_up_front * integral\n",
    "\n",
    "\n",
    "probability = np.vectorize(probability)\n",
    "\n",
    "\n",
    "def neg_likelihood(\n",
    "    params,\n",
    "    initial_clone_count_values,\n",
    "    final_clone_count_values,\n",
    "    scaled_kr_values,\n",
    "    contamination_factor,    \n",
    "    verbose=False,\n",
    "):\n",
    "\n",
    "    x1, x2 = params[0], params[1]\n",
    "    n = len(final_clone_count_values)\n",
    "    x1_values = np.full(n, x1)\n",
    "    x2_values = np.full(n, x2)\n",
    "    contamination_factor_values = np.full(n, contamination_factor)\n",
    "    probs = probability(\n",
    "        x1_values,\n",
    "        x2_values,\n",
    "        scaled_kr_values,\n",
    "        initial_clone_count_values,\n",
    "        final_clone_count_values,\n",
    "        contamination_factor_values,\n",
    "    )\n",
    "    # Replace zero values with the smallest positive value allowed in Python\n",
    "    smallest_positive_value = np.finfo(float).eps\n",
    "    probabilities = np.where(probs == 0, smallest_positive_value, probs)\n",
    "    sum_log_probs = np.sum(np.log(probabilities))\n",
    "    neg_sum = -sum_log_probs\n",
    "\n",
    "    if verbose:\n",
    "        print(f\"Neg-logL: {neg_sum:.8f}\")\n",
    "        print(f\"x1: {x1:.8f}\")\n",
    "        print(f\"x2: {x2:.8f}\")\n",
    "        print(f\"=\" * 80)\n",
    "    return neg_sum\n",
    "\n",
    "\n",
    "def new_neg_likelihood(\n",
    "    params,\n",
    "    fixed_x1,\n",
    "    initial_clone_count_values,\n",
    "    final_clone_count_values,\n",
    "    scaled_kr_values,\n",
    "    contamination_factor,\n",
    "    verbose=False,\n",
    "):\n",
    "    x2 = params[0]  # params is now a 1D array with just x2\n",
    "    x1 = fixed_x1\n",
    "    n = len(final_clone_count_values)\n",
    "    x1_values = np.full(n, x1)\n",
    "    x2_values = np.full(n, x2)\n",
    "    contamination_factor_values = np.full(n, contamination_factor)\n",
    "    probs = probability(\n",
    "        x1_values,\n",
    "        x2_values,\n",
    "        scaled_kr_values,\n",
    "        initial_clone_count_values,\n",
    "        final_clone_count_values,\n",
    "        contamination_factor_values,\n",
    "    )\n",
    "    # Replace zero values with the smallest positive value allowed in Python\n",
    "    smallest_positive_value = np.finfo(float).eps\n",
    "    probabilities = np.where(probs == 0, smallest_positive_value, probs)\n",
    "    sum_log_probs = np.sum(np.log(probabilities))\n",
    "    neg_sum = -sum_log_probs\n",
    "\n",
    "    if verbose:\n",
    "        print(f\"Neg-logL: {neg_sum:.8f}\")\n",
    "        print(f\"x2: {x2:.8f}\")\n",
    "        print(f\"=\" * 80)\n",
    "    return neg_sum\n",
    "\n",
    "\n",
    "def run_optimization_for_both_params(\n",
    "    initial_clone_count_values,\n",
    "    final_clone_count_values,\n",
    "    scaled_kr_values,\n",
    "    fixed_x1,\n",
    "    contamination_factor,\n",
    "    bounds=(\n",
    "        (1e-10, 100),\n",
    "        (1e-10, 100),\n",
    "    ),\n",
    "    initial_guess=[5, 5],\n",
    "    verbose=False,\n",
    "):\n",
    "    initial_guess = initial_guess\n",
    "    result = minimize(\n",
    "        neg_likelihood,\n",
    "        initial_guess,\n",
    "        args=(\n",
    "            initial_clone_count_values,\n",
    "            final_clone_count_values,\n",
    "            scaled_kr_values,\n",
    "            contamination_factor,\n",
    "            verbose,\n",
    "        ),\n",
    "        method=\"Nelder-Mead\",\n",
    "        bounds=bounds,\n",
    "    )\n",
    "    x1, x2 = result.x[0], result.x[1]\n",
    "    return x1, x2, initial_guess, result.fun\n",
    "\n",
    "\n",
    "def run_optimization_for_fixed_x1(\n",
    "    initial_clone_count_values,\n",
    "    final_clone_count_values,\n",
    "    scaled_kr_values,\n",
    "    fixed_x1,\n",
    "    contamination_factor,\n",
    "    bounds=((1e-10, 100),),\n",
    "    initial_guess=[5],\n",
    "    verbose=False,\n",
    "):\n",
    "    # Modified to take fixed_x1 parameter and only optimize x2\n",
    "    bounds = [bounds[0]]  # Only bounds for x2\n",
    "    initial_guess = initial_guess\n",
    "    result = minimize(\n",
    "        new_neg_likelihood,\n",
    "        initial_guess,\n",
    "        args=(\n",
    "            fixed_x1,\n",
    "            initial_clone_count_values,\n",
    "            final_clone_count_values,\n",
    "            scaled_kr_values,\n",
    "            contamination_factor,\n",
    "            verbose,\n",
    "        ),\n",
    "        method=\"Nelder-Mead\",\n",
    "        bounds=bounds,\n",
    "    )\n",
    "    x2 = result.x[0]\n",
    "    return fixed_x1, x2, initial_guess[0], result.fun\n",
    "\n",
    "\n",
    "root_dir = \"/home/gddaslab/mxp140/tcr_project_ultimate\"\n",
    "sys.path.append(root_dir)\n",
    "\n",
    "# Suppress only IntegrationWarning\n",
    "warnings.filterwarnings(\"ignore\")\n",
    "\n",
    "\n",
    "def calc_probs_for_single_tcr(kr, x1, x2, m, maxM, contamination_factor):\n",
    "    return [probability(x1, x2, kr, m, M, contamination_factor) for M in range(m, maxM + 1)]\n",
    "\n",
    "\n",
    "def calc_probs_for_every_tcr(kr, x1, x2, m, maxM, contamination_factor, disable_progressbar=False):\n",
    "    if isinstance(kr, np.ndarray) and kr.ndim == 1:\n",
    "        with ProcessPoolExecutor() as executor:\n",
    "            # Submit all tasks and get futures\n",
    "            futures = [\n",
    "                executor.submit(calc_probs_for_single_tcr, k, x1, x2, m, maxM, contamination_factor)\n",
    "                for k in kr\n",
    "            ]\n",
    "            # Use tqdm to track completion of futures\n",
    "            results = list(\n",
    "                tqdm.tqdm(\n",
    "                    (future.result() for future in futures),\n",
    "                    total=len(kr),\n",
    "                    desc=\"Processing TCRs\",\n",
    "                    disable=disable_progressbar,\n",
    "                )\n",
    "            )\n",
    "        return np.array(results)\n",
    "    else:\n",
    "        raise ValueError(\"kr must be 1D array or a 1D list.\")\n",
    "\n",
    "\n",
    "def generate_configuration_per_tcr(\n",
    "    prob_array,\n",
    "    min_clone_size=1,\n",
    "    max_clone_size=None,\n",
    "    sample_size=1,\n",
    "    disable_progressbar=False,\n",
    "):\n",
    "    if prob_array.ndim == 1:\n",
    "        assert max_clone_size == min_clone_size + len(\n",
    "            prob_array\n",
    "        ), f\"max_clone_size ({max_clone_size}) must equal min_clone_size ({min_clone_size}) + len(prob_array) ({len(prob_array)})\"\n",
    "        config_per_tcr = np.random.choice(\n",
    "            range(min_clone_size, len(prob_array) + min_clone_size),\n",
    "            size=sample_size,\n",
    "            replace=True,\n",
    "            p=prob_array / sum(prob_array),\n",
    "        )\n",
    "        return config_per_tcr\n",
    "    elif prob_array.ndim == 2:  # Ensure we only handle 1D and 2D arrays\n",
    "        assert (\n",
    "            max_clone_size == min_clone_size + prob_array.shape[1]\n",
    "        ), f\"max_clone_size ({max_clone_size}) must equal min_clone_size ({min_clone_size}) + prob_array.shape[1] ({prob_array.shape[1]})\"\n",
    "\n",
    "        all_configs = np.empty((prob_array.shape[0], sample_size))\n",
    "        for i in tqdm.tqdm(\n",
    "            range(prob_array.shape[0]),\n",
    "            total=prob_array.shape[0],\n",
    "            desc=\"Generating configuration for each TCR\",\n",
    "            leave=False,\n",
    "            disable=disable_progressbar,\n",
    "        ):\n",
    "            # config_per_tcr = generate_configuration_per_tcr(prob_array[i, :], size)\n",
    "            config_per_tcr = np.random.choice(\n",
    "                range(min_clone_size, prob_array.shape[1] + min_clone_size),\n",
    "                size=sample_size,\n",
    "                replace=True,\n",
    "                p=prob_array[i, :] / sum(prob_array[i, :]),\n",
    "            )\n",
    "            all_configs[i, :] = config_per_tcr\n",
    "        return all_configs\n",
    "    else:\n",
    "        raise ValueError(\"Input array must be either 1D or 2D.\")"
   ]
  },
  {
   "cell_type": "code",
   "execution_count": 7,
   "metadata": {},
   "outputs": [
    {
     "name": "stderr",
     "output_type": "stream",
     "text": [
      "                                      \r"
     ]
    }
   ],
   "source": [
    "result = []\n",
    "region_range_dict = {'BrMET008':range(4), 'GBM032':range(4)}\n",
    "percent_to_remove_values = (np.arange(0, 35, 1)/100)\n",
    "for patient_id in patient_names[:]:\n",
    "    if 'BrMET' in patient_id:\n",
    "        for region in region_range_dict.get(patient_id, range(3)):\n",
    "            region_number = region+1\n",
    "            # patient_id = 'BrMET019'\n",
    "            # region_number = 1\n",
    "            filename = f\"{root_dir}/data/glioblastoma_data/PANPEP/{patient_id}/{patient_id}_region{region_number}.csv\"\n",
    "            df = pd.read_csv(filename, sep=',')\n",
    "            ones_df = df[df['counts'] == 1]\n",
    "            rest_df = df[df['counts'] != 1]\n",
    "\n",
    "            squared_differences = []\n",
    "            # fig, ax = plt.subplots(nrows=1, ncols=1, figsize=(5, 2))\n",
    "            with h5py.File(f'/home/gddaslab/mxp140/tcr_project_ultimate/results/{patient_id}_region{region_number}_model_results_from_panpep.h5', 'r') as f:\n",
    "                data_config = f['data_config'][:]\n",
    "                model_config = f['model_config'][:]\n",
    "                probabilities = f['probabilities'][:]\n",
    "                min_clone_size_to_consider = 1\n",
    "                max_clone_size_to_consider = 10\n",
    "                f_exp = np.mean(np.array([count_clone_sizes(model_config[:, j], min_size=min_clone_size_to_consider, max_size=max_clone_size_to_consider) for j in range(model_config.shape[1])]), axis=0)\n",
    "                for percent_to_remove in tqdm.tqdm(percent_to_remove_values, leave=False):\n",
    "                    n_to_remove = round(ones_df.shape[0] * percent_to_remove)\n",
    "                    # Randomly select rows to keep\n",
    "                    ones_df_kept = ones_df.sample(n=ones_df.shape[0] - n_to_remove, random_state=42)\n",
    "                    # Combine back with the rest of the data\n",
    "                    df = pd.concat([rest_df, ones_df_kept])\n",
    "                    # print(df.shape)\n",
    "                    final_clone_count_values = df['counts'].values\n",
    "                    initial_clone_size = 1\n",
    "                        \n",
    "                    f_obs = count_clone_sizes(final_clone_count_values, min_size=min_clone_size_to_consider, max_size=max_clone_size_to_consider)\n",
    "                    \n",
    "                    differences = np.sum([(obs-exp)**2 for obs, exp in zip(f_obs, f_exp)])\n",
    "                    squared_differences.append(differences)\n",
    "            \n",
    "            # ax.plot(range(1, len(squared_differences)+1), squared_differences, '-o', color='blue')\n",
    "            # ax.set_xlabel(f'Iteration')\n",
    "            # ax.set_ylabel(r'$|f_{exp}-f_{obs}|^2$')\n",
    "            # ax.set_title(f'{patient_id}-region{region_number}')\n",
    "            # plt.tight_layout()\n",
    "            # plt.show()\n",
    "            \n",
    "            result.append(pd.DataFrame({'patient':f'{patient_id}-region{region_number}', 'removed':percent_to_remove_values, 'differences':squared_differences}))"
   ]
  },
  {
   "cell_type": "code",
   "execution_count": 8,
   "metadata": {},
   "outputs": [
    {
     "name": "stdout",
     "output_type": "stream",
     "text": [
      "0.0608\n"
     ]
    }
   ],
   "source": [
    "avg_removal_percent = np.mean([result[j].loc[result[j]['differences'].idxmin()]['removed'] for j in range(len(result))])\n",
    "print(avg_removal_percent)"
   ]
  },
  {
   "cell_type": "code",
   "execution_count": 20,
   "metadata": {},
   "outputs": [
    {
     "name": "stdout",
     "output_type": "stream",
     "text": [
      "0.58306884765625\n"
     ]
    },
    {
     "name": "stderr",
     "output_type": "stream",
     "text": [
      "Processing TCRs: 100%|██████████| 1468/1468 [02:47<00:00,  8.76it/s]\n",
      "                                                                                           \r"
     ]
    },
    {
     "name": "stdout",
     "output_type": "stream",
     "text": [
      "124.12433570893828\n",
      "0.000 with 9 dof rejects NULL. No good fit.\n"
     ]
    }
   ],
   "source": [
    "patient_id = \"BrMET019\"\n",
    "region_number = 1\n",
    "filename = f\"{root_dir}/data/glioblastoma_data/PANPEP/{patient_id}/{patient_id}_region{region_number}.csv\"\n",
    "df = pd.read_csv(filename, sep=\",\")\n",
    "ones_df = df[df[\"counts\"] == 1]\n",
    "rest_df = df[df[\"counts\"] != 1]\n",
    "percent_to_remove = 0.07  # avg_removal_percent\n",
    "n_to_remove = round(ones_df.shape[0] * percent_to_remove)\n",
    "# print(ones_df.shape[0])\n",
    "# print(n_to_remove)\n",
    "\n",
    "# Randomly select rows to keep\n",
    "ones_df_kept = ones_df.sample(n=ones_df.shape[0] - n_to_remove, random_state=42)\n",
    "\n",
    "# Combine back with the rest of the data\n",
    "df = pd.concat([rest_df, ones_df_kept])\n",
    "print(df.shape)\n",
    "# final_clone_count_values = df[\"counts\"].values\n",
    "# initial_clone_size = 1\n",
    "# initial_clone_count_values = np.full(len(final_clone_count_values), initial_clone_size)\n",
    "# scaled_kr_values = df[\"kr\"].values / max_kr_panpep\n",
    "# x1 = 100\n",
    "# verbose = False\n",
    "# _, x2, _, _ = run_optimization_for_fixed_x1(\n",
    "#     initial_clone_count_values=initial_clone_count_values,\n",
    "#     final_clone_count_values=final_clone_count_values,\n",
    "#     scaled_kr_values=scaled_kr_values,\n",
    "#     fixed_x1=x1,\n",
    "#     verbose=verbose,\n",
    "# )\n",
    "# print(x2)\n",
    "# probabilities = calc_probs_for_every_tcr(\n",
    "#     kr=scaled_kr_values, x1=x1, x2=x2, m=initial_clone_size, maxM=10000\n",
    "# )\n",
    "# probabilities[:, 0] = probabilities[:, 0] + percent_to_remove\n",
    "# model_config = generate_configuration_per_tcr(\n",
    "#     probabilities,\n",
    "#     min_clone_size=initial_clone_size,\n",
    "#     max_clone_size=probabilities.shape[1] + initial_clone_size,\n",
    "#     sample_size=5000,\n",
    "#     disable_progressbar=True\n",
    "# )\n",
    "# min_clone_size_to_consider = 1\n",
    "# max_clone_size_to_consider = 10\n",
    "# f_obs = count_clone_sizes(\n",
    "#     final_clone_count_values,\n",
    "#     min_size=min_clone_size_to_consider,\n",
    "#     max_size=max_clone_size_to_consider,\n",
    "# )\n",
    "# f_exp = np.mean(\n",
    "#     np.array(\n",
    "#         [\n",
    "#             count_clone_sizes(\n",
    "#                 model_config[:, j],\n",
    "#                 min_size=min_clone_size_to_consider,\n",
    "#                 max_size=max_clone_size_to_consider,\n",
    "#             )\n",
    "#             for j in range(model_config.shape[1])\n",
    "#         ]\n",
    "#     ),\n",
    "#     axis=0,\n",
    "# )\n",
    "# chi2_stat = np.sum([(obs - exp) ** 2 / exp for obs, exp in zip(f_obs, f_exp)])\n",
    "# # print(chi2_stat)\n",
    "# dof = len(f_obs) - 1\n",
    "# p_value = 1 - chi2.cdf(chi2_stat, dof)\n",
    "# if p_value <= 0.05:\n",
    "#     print(f\"{patient_id}-region{region_number}: {p_value:.3f} with {dof} dof rejects NULL. No good fit.\")\n",
    "# else:\n",
    "#     print(f\"{patient_id}-region{region_number}: {p_value:.3f} with {dof} dof accepts NULL. Good fit.\")"
   ]
  },
  {
   "cell_type": "code",
   "execution_count": 29,
   "metadata": {},
   "outputs": [
    {
     "name": "stderr",
     "output_type": "stream",
     "text": [
      "  0%|          | 0/19 [00:00<?, ?it/s]"
     ]
    },
    {
     "name": "stdout",
     "output_type": "stream",
     "text": [
      "BrMET008-region1: x2=3.23577880859375\n"
     ]
    },
    {
     "name": "stderr",
     "output_type": "stream",
     "text": [
      "Processing TCRs: 100%|██████████| 654/654 [02:04<00:00,  5.26it/s]\n"
     ]
    },
    {
     "name": "stdout",
     "output_type": "stream",
     "text": [
      "BrMET008-region1: 0.832 with 9 dof accepts NULL. Good fit.\n",
      "BrMET008-region2: x2=2.4503173828125\n"
     ]
    },
    {
     "name": "stderr",
     "output_type": "stream",
     "text": [
      "Processing TCRs: 100%|██████████| 196/196 [00:35<00:00,  5.48it/s]\n"
     ]
    },
    {
     "name": "stdout",
     "output_type": "stream",
     "text": [
      "BrMET008-region2: 0.483 with 9 dof accepts NULL. Good fit.\n",
      "BrMET008-region3: x2=1.2991943359375\n"
     ]
    },
    {
     "name": "stderr",
     "output_type": "stream",
     "text": [
      "Processing TCRs: 100%|██████████| 39/39 [00:06<00:00,  5.84it/s]\n"
     ]
    },
    {
     "name": "stdout",
     "output_type": "stream",
     "text": [
      "BrMET008-region3: 0.995 with 9 dof accepts NULL. Good fit.\n",
      "BrMET008-region4: x2=2.00140380859375\n"
     ]
    },
    {
     "name": "stderr",
     "output_type": "stream",
     "text": [
      "Processing TCRs: 100%|██████████| 89/89 [00:16<00:00,  5.42it/s]\n",
      "  5%|▌         | 1/19 [03:13<57:55, 193.06s/it]"
     ]
    },
    {
     "name": "stdout",
     "output_type": "stream",
     "text": [
      "BrMET008-region4: 0.560 with 9 dof accepts NULL. Good fit.\n",
      "BrMET010-region3: x2=2.42083740234375\n"
     ]
    },
    {
     "name": "stderr",
     "output_type": "stream",
     "text": [
      "Processing TCRs: 100%|██████████| 2478/2478 [07:31<00:00,  5.49it/s]\n",
      " 16%|█▌        | 3/19 [10:53<58:47, 220.49s/it]"
     ]
    },
    {
     "name": "stdout",
     "output_type": "stream",
     "text": [
      "BrMET010-region3: 0.000 with 9 dof rejects NULL. No good fit.\n",
      "BrMET018-region2: x2=4.2437744140625\n"
     ]
    },
    {
     "name": "stderr",
     "output_type": "stream",
     "text": [
      "Processing TCRs: 100%|██████████| 602/602 [01:48<00:00,  5.53it/s]\n",
      " 21%|██        | 4/19 [12:45<45:43, 182.93s/it]"
     ]
    },
    {
     "name": "stdout",
     "output_type": "stream",
     "text": [
      "BrMET018-region2: 0.666 with 9 dof accepts NULL. Good fit.\n",
      "BrMET019-region1: x2=0.58758544921875\n"
     ]
    },
    {
     "name": "stderr",
     "output_type": "stream",
     "text": [
      "Processing TCRs: 100%|██████████| 1562/1562 [04:48<00:00,  5.41it/s]\n"
     ]
    },
    {
     "name": "stdout",
     "output_type": "stream",
     "text": [
      "BrMET019-region1: 0.000 with 9 dof rejects NULL. No good fit.\n",
      "BrMET019-region2: x2=0.861328125\n"
     ]
    },
    {
     "name": "stderr",
     "output_type": "stream",
     "text": [
      "Processing TCRs: 100%|██████████| 1945/1945 [06:16<00:00,  5.17it/s]\n"
     ]
    },
    {
     "name": "stdout",
     "output_type": "stream",
     "text": [
      "BrMET019-region2: 0.000 with 9 dof rejects NULL. No good fit.\n",
      "BrMET019-region3: x2=0.5687255859375\n"
     ]
    },
    {
     "name": "stderr",
     "output_type": "stream",
     "text": [
      "Processing TCRs: 100%|██████████| 778/778 [02:23<00:00,  5.41it/s]\n",
      " 26%|██▋       | 5/19 [26:34<1:32:32, 396.61s/it]"
     ]
    },
    {
     "name": "stdout",
     "output_type": "stream",
     "text": [
      "BrMET019-region3: 0.000 with 9 dof rejects NULL. No good fit.\n",
      "BrMET025-region2: x2=1.16644287109375\n"
     ]
    },
    {
     "name": "stderr",
     "output_type": "stream",
     "text": [
      "Processing TCRs: 100%|██████████| 921/921 [02:44<00:00,  5.58it/s]\n"
     ]
    },
    {
     "name": "stdout",
     "output_type": "stream",
     "text": [
      "BrMET025-region2: 0.000 with 9 dof rejects NULL. No good fit.\n",
      "BrMET025-region3: x2=0.6473388671875\n"
     ]
    },
    {
     "name": "stderr",
     "output_type": "stream",
     "text": [
      "Processing TCRs: 100%|██████████| 691/691 [01:55<00:00,  5.99it/s]\n",
      " 32%|███▏      | 6/19 [31:22<1:18:24, 361.90s/it]"
     ]
    },
    {
     "name": "stdout",
     "output_type": "stream",
     "text": [
      "BrMET025-region3: 0.000 with 9 dof rejects NULL. No good fit.\n",
      "BrMET027-region2: x2=8.06011962890625\n"
     ]
    },
    {
     "name": "stderr",
     "output_type": "stream",
     "text": [
      "Processing TCRs: 100%|██████████| 1734/1734 [05:38<00:00,  5.12it/s]\n"
     ]
    },
    {
     "name": "stdout",
     "output_type": "stream",
     "text": [
      "BrMET027-region2: 0.000 with 9 dof rejects NULL. No good fit.\n",
      "BrMET027-region3: x2=7.69146728515625\n"
     ]
    },
    {
     "name": "stderr",
     "output_type": "stream",
     "text": [
      "Processing TCRs: 100%|██████████| 2889/2889 [09:20<00:00,  5.15it/s]\n",
      " 37%|███▋      | 7/19 [46:39<1:47:17, 536.49s/it]"
     ]
    },
    {
     "name": "stdout",
     "output_type": "stream",
     "text": [
      "BrMET027-region3: 0.000 with 9 dof rejects NULL. No good fit.\n",
      "BrMET028-region1: x2=0.76165771484375\n"
     ]
    },
    {
     "name": "stderr",
     "output_type": "stream",
     "text": [
      "Processing TCRs: 100%|██████████| 465/465 [01:18<00:00,  5.94it/s]\n"
     ]
    },
    {
     "name": "stdout",
     "output_type": "stream",
     "text": [
      "BrMET028-region1: 0.017 with 9 dof rejects NULL. No good fit.\n",
      "BrMET028-region2: x2=1.3245849609375\n"
     ]
    },
    {
     "name": "stderr",
     "output_type": "stream",
     "text": [
      "Processing TCRs: 100%|██████████| 676/676 [01:59<00:00,  5.65it/s]\n"
     ]
    },
    {
     "name": "stdout",
     "output_type": "stream",
     "text": [
      "BrMET028-region2: 0.000 with 9 dof rejects NULL. No good fit.\n",
      "BrMET028-region3: x2=0.63037109375\n"
     ]
    },
    {
     "name": "stderr",
     "output_type": "stream",
     "text": [
      "Processing TCRs: 100%|██████████| 560/560 [01:32<00:00,  6.07it/s]\n",
      "100%|██████████| 19/19 [51:39<00:00, 163.13s/it] \n"
     ]
    },
    {
     "name": "stdout",
     "output_type": "stream",
     "text": [
      "BrMET028-region3: 0.201 with 9 dof accepts NULL. Good fit.\n"
     ]
    }
   ],
   "source": [
    "region_range_dict = {\"BrMET008\": range(4), \"GBM032\": range(4)}\n",
    "for patient_id in tqdm.tqdm(patient_names[:], leave=True):\n",
    "    if \"BrMET\" in patient_id:\n",
    "        for region in region_range_dict.get(patient_id, range(3)):\n",
    "            region_number = region + 1\n",
    "            # patient_id = \"BrMET019\"\n",
    "            # region_number = 1\n",
    "            filename = f\"{root_dir}/data/glioblastoma_data/PANPEP/{patient_id}/{patient_id}_region{region_number}.csv\"\n",
    "            df = pd.read_csv(filename, sep=\",\")\n",
    "            # ones_df = df[df[\"counts\"] == 1]\n",
    "            # rest_df = df[df[\"counts\"] != 1]\n",
    "            percent_to_remove = avg_removal_percent\n",
    "            # n_to_remove = round(ones_df.shape[0] * percent_to_remove)\n",
    "            # # print(ones_df.shape[0])\n",
    "            # # print(n_to_remove)\n",
    "\n",
    "            # # Randomly select rows to keep\n",
    "            # ones_df_kept = ones_df.sample(n=ones_df.shape[0] - n_to_remove, random_state=42)\n",
    "\n",
    "            # # Combine back with the rest of the data\n",
    "            # df = pd.concat([rest_df, ones_df_kept])\n",
    "            # print(df.shape)\n",
    "            if df.shape[0] < 3000:\n",
    "                final_clone_count_values = df[\"counts\"].values\n",
    "                initial_clone_size = 1\n",
    "                initial_clone_count_values = np.full(\n",
    "                    len(final_clone_count_values), initial_clone_size\n",
    "                )\n",
    "                scaled_kr_values = df[\"kr\"].values / max_kr_panpep\n",
    "                x1 = 100\n",
    "                verbose = False\n",
    "                _, x2, _, _ = run_optimization_for_fixed_x1(\n",
    "                    initial_clone_count_values=initial_clone_count_values,\n",
    "                    final_clone_count_values=final_clone_count_values,\n",
    "                    scaled_kr_values=scaled_kr_values,\n",
    "                    fixed_x1=x1,\n",
    "                    contamination_factor=percent_to_remove,\n",
    "                    verbose=verbose,\n",
    "                )\n",
    "                print(f\"{patient_id}-region{region_number}: x2={x2}\")\n",
    "                if np.max(final_clone_count_values) <=500:\n",
    "                    max_M_value = 1000\n",
    "                elif np.max(final_clone_count_values) > 2000:\n",
    "                    max_M_value = 10000\n",
    "                else:\n",
    "                    max_M_value = 5000\n",
    "                probabilities = calc_probs_for_every_tcr(\n",
    "                    kr=scaled_kr_values,\n",
    "                    x1=x1,\n",
    "                    x2=x2,\n",
    "                    m=initial_clone_size,\n",
    "                    maxM=max_M_value,\n",
    "                    contamination_factor=percent_to_remove,\n",
    "                    disable_progressbar=False,\n",
    "                )\n",
    "                # probabilities[:, 0] = probabilities[:, 0] + percent_to_remove\n",
    "                model_config = generate_configuration_per_tcr(\n",
    "                    probabilities,\n",
    "                    min_clone_size=initial_clone_size,\n",
    "                    max_clone_size=probabilities.shape[1] + initial_clone_size,\n",
    "                    sample_size=1000,\n",
    "                    disable_progressbar=False,\n",
    "                )\n",
    "                min_clone_size_to_consider = 1\n",
    "                max_clone_size_to_consider = 10\n",
    "                f_obs = count_clone_sizes(\n",
    "                    final_clone_count_values,\n",
    "                    min_size=min_clone_size_to_consider,\n",
    "                    max_size=max_clone_size_to_consider,\n",
    "                )\n",
    "                f_exp = np.mean(\n",
    "                    np.array(\n",
    "                        [\n",
    "                            count_clone_sizes(\n",
    "                                model_config[:, j],\n",
    "                                min_size=min_clone_size_to_consider,\n",
    "                                max_size=max_clone_size_to_consider,\n",
    "                            )\n",
    "                            for j in range(model_config.shape[1])\n",
    "                        ]\n",
    "                    ),\n",
    "                    axis=0,\n",
    "                )\n",
    "                chi2_stat = np.sum(\n",
    "                    [(obs - exp) ** 2 / exp for obs, exp in zip(f_obs, f_exp)]\n",
    "                )\n",
    "                # print(chi2_stat)\n",
    "                dof = len(f_obs) - 1\n",
    "                p_value = 1 - chi2.cdf(chi2_stat, dof)\n",
    "                if p_value <= 0.05:\n",
    "                    print(\n",
    "                        f\"{patient_id}-region{region_number}: {p_value:.3f} with {dof} dof rejects NULL. No good fit.\"\n",
    "                    )\n",
    "                else:\n",
    "                    print(\n",
    "                        f\"{patient_id}-region{region_number}: {p_value:.3f} with {dof} dof accepts NULL. Good fit.\"\n",
    "                    )"
   ]
  },
  {
   "cell_type": "code",
   "execution_count": 28,
   "metadata": {},
   "outputs": [
    {
     "data": {
      "text/plain": [
       "np.float64(0.1715142888738681)"
      ]
     },
     "execution_count": 28,
     "metadata": {},
     "output_type": "execute_result"
    }
   ],
   "source": [
    "p_value"
   ]
  },
  {
   "cell_type": "code",
   "execution_count": 30,
   "metadata": {},
   "outputs": [
    {
     "data": {
      "text/plain": [
       "23.52941176470588"
      ]
     },
     "execution_count": 30,
     "metadata": {},
     "output_type": "execute_result"
    }
   ],
   "source": [
    "((17-13)/17)*100"
   ]
  },
  {
   "cell_type": "code",
   "execution_count": 9,
   "metadata": {},
   "outputs": [
    {
     "name": "stderr",
     "output_type": "stream",
     "text": [
      "Processing TCRs: 100%|██████████| 1562/1562 [00:49<00:00, 31.25it/s]\n",
      "1it [01:01, 61.44s/it]"
     ]
    },
    {
     "name": "stdout",
     "output_type": "stream",
     "text": [
      "0.000 rejects NULL. No good fit.\n"
     ]
    },
    {
     "name": "stderr",
     "output_type": "stream",
     "text": [
      "Processing TCRs: 100%|██████████| 1496/1496 [00:46<00:00, 32.25it/s]\n",
      "2it [01:58, 58.57s/it]"
     ]
    },
    {
     "name": "stdout",
     "output_type": "stream",
     "text": [
      "0.000 rejects NULL. No good fit.\n"
     ]
    },
    {
     "name": "stderr",
     "output_type": "stream",
     "text": [
      "Processing TCRs: 100%|██████████| 1429/1429 [00:44<00:00, 31.93it/s]\n",
      "3it [02:51, 56.28s/it]"
     ]
    },
    {
     "name": "stdout",
     "output_type": "stream",
     "text": [
      "0.000 rejects NULL. No good fit.\n"
     ]
    },
    {
     "name": "stderr",
     "output_type": "stream",
     "text": [
      "Processing TCRs: 100%|██████████| 1362/1362 [00:42<00:00, 31.73it/s]\n",
      "4it [03:44, 54.85s/it]"
     ]
    },
    {
     "name": "stdout",
     "output_type": "stream",
     "text": [
      "0.000 rejects NULL. No good fit.\n"
     ]
    },
    {
     "name": "stderr",
     "output_type": "stream",
     "text": [
      "Processing TCRs: 100%|██████████| 1295/1295 [00:40<00:00, 31.71it/s]\n",
      "5it [04:34, 53.15s/it]"
     ]
    },
    {
     "name": "stdout",
     "output_type": "stream",
     "text": [
      "0.000 rejects NULL. No good fit.\n"
     ]
    },
    {
     "name": "stderr",
     "output_type": "stream",
     "text": [
      "Processing TCRs: 100%|██████████| 1228/1228 [00:39<00:00, 30.86it/s]\n",
      "6it [05:22, 53.70s/it]"
     ]
    },
    {
     "name": "stdout",
     "output_type": "stream",
     "text": [
      "0.000 rejects NULL. No good fit.\n"
     ]
    },
    {
     "name": "stderr",
     "output_type": "stream",
     "text": [
      "\n"
     ]
    },
    {
     "data": {
      "image/png": "[encoded data removed]",
      "text/plain": [
       "<Figure size 1000x500 with 2 Axes>"
      ]
     },
     "metadata": {},
     "output_type": "display_data"
    }
   ],
   "source": [
    "patient_id = 'BrMET019'\n",
    "region_number = 1\n",
    "filename = f\"{root_dir}/data/glioblastoma_data/PANPEP/{patient_id}/{patient_id}_region{region_number}.csv\"\n",
    "df = pd.read_csv(filename, sep=',')\n",
    "df = df[df['counts']>=1]\n",
    "ones_df = df[df['counts'] == 1]\n",
    "rest_df = df[df['counts'] != 1]\n",
    "\n",
    "x2s = []\n",
    "chi_squares = []\n",
    "fig, axes = plt.subplots(nrows=1, ncols=2, figsize=(10, 5))\n",
    "ax1, ax2 = axes\n",
    "for i, j in tqdm.tqdm(enumerate(np.arange(0, 30, 5)/100)):\n",
    "    n_to_remove = int(ones_df.shape[0]*j)\n",
    "    # print(ones_df.shape[0])\n",
    "    # print(n_to_remove)\n",
    "\n",
    "    # Randomly select rows to keep\n",
    "    ones_df_kept = ones_df.sample(n=ones_df.shape[0] - n_to_remove, random_state=42)\n",
    "\n",
    "    # Combine back with the rest of the data\n",
    "    df = pd.concat([rest_df, ones_df_kept])\n",
    "    # print(df.shape)\n",
    "    final_clone_count_values = df['counts'].values\n",
    "    initial_clone_size = 1\n",
    "    initial_clone_count_values = np.full(len(final_clone_count_values), initial_clone_size)\n",
    "    scaled_kr_values = df['kr'].values/max_kr_panpep\n",
    "    x1 = 10\n",
    "    verbose = False\n",
    "    _, x2, _, _ = run_optimization_for_fixed_x1(initial_clone_count_values=initial_clone_count_values,\n",
    "                                                final_clone_count_values=final_clone_count_values, \n",
    "                                                scaled_kr_values=scaled_kr_values,\n",
    "                                                fixed_x1=x1,\n",
    "                                                verbose=verbose)\n",
    "    x2s.append(x2)\n",
    "    probabilities = calc_probs_for_every_tcr(kr=scaled_kr_values, x1=x1, x2=x2, m=initial_clone_size, maxM=10000)\n",
    "    model_config = generate_configuration_per_tcr(probabilities, min_clone_size=initial_clone_size, max_clone_size=probabilities.shape[1]+initial_clone_size, sample_size=5000)\n",
    "    min_clone_size_to_consider = 1\n",
    "    max_clone_size_to_consider = 10\n",
    "    f_obs = count_clone_sizes(final_clone_count_values, min_size=min_clone_size_to_consider, max_size=max_clone_size_to_consider)\n",
    "    f_exp = np.mean(np.array([count_clone_sizes(model_config[:, j], min_size=min_clone_size_to_consider, max_size=max_clone_size_to_consider) for j in range(model_config.shape[1])]), axis=0)\n",
    "    chi2_stat = np.sum([(obs-exp)**2/exp for obs, exp in zip(f_obs, f_exp)])\n",
    "    chi_squares.append(chi2_stat)\n",
    "    dof = len(f_obs) -1\n",
    "    p_value = 1 - chi2.cdf(chi2_stat, dof)\n",
    "    if p_value <= 0.05:\n",
    "        print(f'{p_value:.3f} rejects NULL. No good fit.')\n",
    "    else:\n",
    "        print(f'{p_value:.3f} accepts NULL. Good fit.')\n",
    "    \n",
    "    ax1.hist(scaled_kr_values, bins=10, histtype='step', label=f'-{j:.2f}%', density=True)\n",
    "    ax1.set_xlabel('scaled kr')\n",
    "    ax1.set_ylabel('frequency')\n",
    "    ax1.legend(loc='best')\n",
    "    \n",
    "    ax2.plot(range(1, len(chi_squares)+1), chi_squares, '-o', color='blue')\n",
    "    ax2.set_xlabel(f'Iteration')\n",
    "    ax2.set_ylabel(r'$\\chi^2$')\n",
    "plt.show()"
   ]
  },
  {
   "cell_type": "code",
   "execution_count": 10,
   "metadata": {},
   "outputs": [
    {
     "name": "stderr",
     "output_type": "stream",
     "text": [
      "Processing TCRs: 100%|██████████| 1161/1161 [00:38<00:00, 29.93it/s]\n",
      "1it [00:48, 48.31s/it]"
     ]
    },
    {
     "name": "stdout",
     "output_type": "stream",
     "text": [
      "0.000 rejects NULL. No good fit.\n"
     ]
    },
    {
     "name": "stderr",
     "output_type": "stream",
     "text": [
      "Processing TCRs: 100%|██████████| 1094/1094 [00:36<00:00, 29.87it/s]\n",
      "2it [01:32, 45.99s/it]"
     ]
    },
    {
     "name": "stdout",
     "output_type": "stream",
     "text": [
      "0.000 rejects NULL. No good fit.\n"
     ]
    },
    {
     "name": "stderr",
     "output_type": "stream",
     "text": [
      "Processing TCRs: 100%|██████████| 1027/1027 [00:35<00:00, 28.76it/s]\n",
      "3it [02:15, 44.68s/it]"
     ]
    },
    {
     "name": "stdout",
     "output_type": "stream",
     "text": [
      "0.000 rejects NULL. No good fit.\n"
     ]
    },
    {
     "name": "stderr",
     "output_type": "stream",
     "text": [
      "Processing TCRs: 100%|██████████| 960/960 [00:33<00:00, 28.48it/s]\n",
      "4it [02:56, 43.23s/it]"
     ]
    },
    {
     "name": "stdout",
     "output_type": "stream",
     "text": [
      "0.000 rejects NULL. No good fit.\n"
     ]
    },
    {
     "name": "stderr",
     "output_type": "stream",
     "text": [
      "Processing TCRs: 100%|██████████| 893/893 [00:32<00:00, 27.17it/s]\n",
      "5it [03:36, 43.20s/it]"
     ]
    },
    {
     "name": "stdout",
     "output_type": "stream",
     "text": [
      "0.000 rejects NULL. No good fit.\n"
     ]
    },
    {
     "name": "stderr",
     "output_type": "stream",
     "text": [
      "\n"
     ]
    },
    {
     "data": {
      "image/png": "[encoded data removed]",
      "text/plain": [
       "<Figure size 1000x500 with 2 Axes>"
      ]
     },
     "metadata": {},
     "output_type": "display_data"
    }
   ],
   "source": [
    "patient_id = 'BrMET019'\n",
    "region_number = 1\n",
    "filename = f\"{root_dir}/data/glioblastoma_data/PANPEP/{patient_id}/{patient_id}_region{region_number}.csv\"\n",
    "df = pd.read_csv(filename, sep=',')\n",
    "df = df[df['counts']>=1]\n",
    "ones_df = df[df['counts'] == 1]\n",
    "rest_df = df[df['counts'] != 1]\n",
    "\n",
    "x2s = []\n",
    "chi_squares = []\n",
    "fig, axes = plt.subplots(nrows=1, ncols=2, figsize=(10, 5))\n",
    "ax1, ax2 = axes\n",
    "for i, j in tqdm.tqdm(enumerate(np.arange(30, 55, 5)/100)):\n",
    "    n_to_remove = int(ones_df.shape[0]*j)\n",
    "    # print(ones_df.shape[0])\n",
    "    # print(n_to_remove)\n",
    "\n",
    "    # Randomly select rows to keep\n",
    "    ones_df_kept = ones_df.sample(n=ones_df.shape[0] - n_to_remove, random_state=42)\n",
    "\n",
    "    # Combine back with the rest of the data\n",
    "    df = pd.concat([rest_df, ones_df_kept])\n",
    "    # print(df.shape)\n",
    "    final_clone_count_values = df['counts'].values\n",
    "    initial_clone_size = 1\n",
    "    initial_clone_count_values = np.full(len(final_clone_count_values), initial_clone_size)\n",
    "    scaled_kr_values = df['kr'].values/max_kr_panpep\n",
    "    x1 = 10\n",
    "    verbose = False\n",
    "    _, x2, _, _ = run_optimization_for_fixed_x1(initial_clone_count_values=initial_clone_count_values,\n",
    "                                                final_clone_count_values=final_clone_count_values, \n",
    "                                                scaled_kr_values=scaled_kr_values,\n",
    "                                                fixed_x1=x1,\n",
    "                                                verbose=verbose)\n",
    "    x2s.append(x2)\n",
    "    probabilities = calc_probs_for_every_tcr(kr=scaled_kr_values, x1=x1, x2=x2, m=initial_clone_size, maxM=10000)\n",
    "    model_config = generate_configuration_per_tcr(probabilities, min_clone_size=initial_clone_size, max_clone_size=probabilities.shape[1]+initial_clone_size, sample_size=5000)\n",
    "    min_clone_size_to_consider = 1\n",
    "    max_clone_size_to_consider = 10\n",
    "    f_obs = count_clone_sizes(final_clone_count_values, min_size=min_clone_size_to_consider, max_size=max_clone_size_to_consider)\n",
    "    f_exp = np.mean(np.array([count_clone_sizes(model_config[:, j], min_size=min_clone_size_to_consider, max_size=max_clone_size_to_consider) for j in range(model_config.shape[1])]), axis=0)\n",
    "    chi2_stat = np.sum([(obs-exp)**2/exp for obs, exp in zip(f_obs, f_exp)])\n",
    "    chi_squares.append(chi2_stat)\n",
    "    dof = len(f_obs) -1\n",
    "    p_value = 1 - chi2.cdf(chi2_stat, dof)\n",
    "    if p_value <= 0.05:\n",
    "        print(f'{p_value:.3f} rejects NULL. No good fit.')\n",
    "    else:\n",
    "        print(f'{p_value:.3f} accepts NULL. Good fit.')\n",
    "    \n",
    "    ax1.hist(scaled_kr_values, bins=10, histtype='step', label=f'-{j:.2f}%', density=True)\n",
    "    ax1.set_xlabel('scaled kr')\n",
    "    ax1.set_ylabel('frequency')\n",
    "    ax1.legend(loc='best')\n",
    "    \n",
    "    ax2.plot(range(1, len(chi_squares)+1), chi_squares, '-o', color='blue')\n",
    "    ax2.set_xlabel(f'Iteration')\n",
    "    ax2.set_ylabel(r'$\\chi^2$')\n",
    "plt.show()"
   ]
  },
  {
   "cell_type": "code",
   "execution_count": 11,
   "metadata": {},
   "outputs": [
    {
     "name": "stderr",
     "output_type": "stream",
     "text": [
      "Processing TCRs: 100%|██████████| 826/826 [00:31<00:00, 26.51it/s]\n",
      "1it [00:38, 38.27s/it]"
     ]
    },
    {
     "name": "stdout",
     "output_type": "stream",
     "text": [
      "0.000 rejects NULL. No good fit.\n"
     ]
    },
    {
     "name": "stderr",
     "output_type": "stream",
     "text": [
      "Processing TCRs: 100%|██████████| 759/759 [00:29<00:00, 25.38it/s]\n",
      "2it [01:14, 37.34s/it]"
     ]
    },
    {
     "name": "stdout",
     "output_type": "stream",
     "text": [
      "0.000 rejects NULL. No good fit.\n"
     ]
    },
    {
     "name": "stderr",
     "output_type": "stream",
     "text": [
      "Processing TCRs: 100%|██████████| 692/692 [00:28<00:00, 24.66it/s]\n",
      "3it [01:49, 35.97s/it]"
     ]
    },
    {
     "name": "stdout",
     "output_type": "stream",
     "text": [
      "0.001 rejects NULL. No good fit.\n"
     ]
    },
    {
     "name": "stderr",
     "output_type": "stream",
     "text": [
      "Processing TCRs: 100%|██████████| 625/625 [00:26<00:00, 23.52it/s]\n",
      "4it [02:22, 34.89s/it]"
     ]
    },
    {
     "name": "stdout",
     "output_type": "stream",
     "text": [
      "0.002 rejects NULL. No good fit.\n"
     ]
    },
    {
     "name": "stderr",
     "output_type": "stream",
     "text": [
      "Processing TCRs: 100%|██████████| 558/558 [00:25<00:00, 22.21it/s]\n",
      "5it [02:53, 33.60s/it]"
     ]
    },
    {
     "name": "stdout",
     "output_type": "stream",
     "text": [
      "0.001 rejects NULL. No good fit.\n"
     ]
    },
    {
     "name": "stderr",
     "output_type": "stream",
     "text": [
      "Processing TCRs: 100%|██████████| 491/491 [00:24<00:00, 20.45it/s]\n",
      "6it [03:24, 34.00s/it]"
     ]
    },
    {
     "name": "stdout",
     "output_type": "stream",
     "text": [
      "0.000 rejects NULL. No good fit.\n"
     ]
    },
    {
     "name": "stderr",
     "output_type": "stream",
     "text": [
      "\n"
     ]
    },
    {
     "data": {
      "image/png": "[encoded data removed]",
      "text/plain": [
       "<Figure size 1000x500 with 2 Axes>"
      ]
     },
     "metadata": {},
     "output_type": "display_data"
    }
   ],
   "source": [
    "patient_id = 'BrMET019'\n",
    "region_number = 1\n",
    "filename = f\"{root_dir}/data/glioblastoma_data/PANPEP/{patient_id}/{patient_id}_region{region_number}.csv\"\n",
    "df = pd.read_csv(filename, sep=',')\n",
    "df = df[df['counts']>=1]\n",
    "ones_df = df[df['counts'] == 1]\n",
    "rest_df = df[df['counts'] != 1]\n",
    "\n",
    "x2s = []\n",
    "chi_squares = []\n",
    "fig, axes = plt.subplots(nrows=1, ncols=2, figsize=(10, 5))\n",
    "ax1, ax2 = axes\n",
    "for i, j in tqdm.tqdm(enumerate(np.arange(55, 85, 5)/100)):\n",
    "    n_to_remove = int(ones_df.shape[0]*j)\n",
    "    # print(ones_df.shape[0])\n",
    "    # print(n_to_remove)\n",
    "\n",
    "    # Randomly select rows to keep\n",
    "    ones_df_kept = ones_df.sample(n=ones_df.shape[0] - n_to_remove, random_state=42)\n",
    "\n",
    "    # Combine back with the rest of the data\n",
    "    df = pd.concat([rest_df, ones_df_kept])\n",
    "    # print(df.shape)\n",
    "    final_clone_count_values = df['counts'].values\n",
    "    initial_clone_size = 1\n",
    "    initial_clone_count_values = np.full(len(final_clone_count_values), initial_clone_size)\n",
    "    scaled_kr_values = df['kr'].values/max_kr_panpep\n",
    "    x1 = 10\n",
    "    verbose = False\n",
    "    _, x2, _, _ = run_optimization_for_fixed_x1(initial_clone_count_values=initial_clone_count_values,\n",
    "                                                final_clone_count_values=final_clone_count_values, \n",
    "                                                scaled_kr_values=scaled_kr_values,\n",
    "                                                fixed_x1=x1,\n",
    "                                                verbose=verbose)\n",
    "    x2s.append(x2)\n",
    "    probabilities = calc_probs_for_every_tcr(kr=scaled_kr_values, x1=x1, x2=x2, m=initial_clone_size, maxM=10000)\n",
    "    model_config = generate_configuration_per_tcr(probabilities, min_clone_size=initial_clone_size, max_clone_size=probabilities.shape[1]+initial_clone_size, sample_size=5000)\n",
    "    min_clone_size_to_consider = 1\n",
    "    max_clone_size_to_consider = 10\n",
    "    f_obs = count_clone_sizes(final_clone_count_values, min_size=min_clone_size_to_consider, max_size=max_clone_size_to_consider)\n",
    "    f_exp = np.mean(np.array([count_clone_sizes(model_config[:, j], min_size=min_clone_size_to_consider, max_size=max_clone_size_to_consider) for j in range(model_config.shape[1])]), axis=0)\n",
    "    chi2_stat = np.sum([(obs-exp)**2/exp for obs, exp in zip(f_obs, f_exp)])\n",
    "    chi_squares.append(chi2_stat)\n",
    "    dof = len(f_obs) -1\n",
    "    p_value = 1 - chi2.cdf(chi2_stat, dof)\n",
    "    if p_value <= 0.05:\n",
    "        print(f'{p_value:.3f} rejects NULL. No good fit.')\n",
    "    else:\n",
    "        print(f'{p_value:.3f} accepts NULL. Good fit.')\n",
    "    \n",
    "    ax1.hist(scaled_kr_values, bins=10, histtype='step', label=f'-{j:.2f}%', density=True)\n",
    "    ax1.set_xlabel('scaled kr')\n",
    "    ax1.set_ylabel('frequency')\n",
    "    ax1.legend(loc='best')\n",
    "    \n",
    "    ax2.plot(range(1, len(chi_squares)+1), chi_squares, '-o', color='blue')\n",
    "    ax2.set_xlabel(f'Iteration')\n",
    "    ax2.set_ylabel(r'$\\chi^2$')\n",
    "plt.show()"
   ]
  },
  {
   "cell_type": "code",
   "execution_count": 72,
   "metadata": {},
   "outputs": [
    {
     "name": "stderr",
     "output_type": "stream",
     "text": [
      "Processing TCRs: 100%|██████████| 326/326 [00:31<00:00, 10.26it/s]\n"
     ]
    }
   ],
   "source": [
    "probabilities = calc_probs_for_every_tcr(kr=scaled_kr_values, x1=x1, x2=x2, m=10, maxM=10000)"
   ]
  },
  {
   "cell_type": "code",
   "execution_count": 73,
   "metadata": {},
   "outputs": [
    {
     "name": "stderr",
     "output_type": "stream",
     "text": [
      "                                                                                         \r"
     ]
    }
   ],
   "source": [
    "model_config = generate_configuration_per_tcr(probabilities, min_clone_size=10, max_clone_size=probabilities.shape[1]+10, sample_size=5000)"
   ]
  },
  {
   "cell_type": "code",
   "execution_count": 77,
   "metadata": {},
   "outputs": [
    {
     "data": {
      "image/png": "[encoded data removed]",
      "text/plain": [
       "<Figure size 1000x500 with 1 Axes>"
      ]
     },
     "metadata": {},
     "output_type": "display_data"
    }
   ],
   "source": [
    "fig, ax = plt.subplots(nrows=1, ncols=1, figsize=(10, 5))\n",
    "data_config = final_clone_count_values.copy()\n",
    "data_config = np.unique(data_config, return_counts=True)\n",
    "x_data, y_data = data_config[0], data_config[1] / np.sum(data_config[1])\n",
    "\n",
    "least_number_of_observations = 10\n",
    "ci_df = ci_pdf(model_config, alpha=5, least_number_of_observations=least_number_of_observations)\n",
    "ci_df = ci_df[(ci_df['lower']!=ci_df['median']) &  (ci_df['median']!=ci_df['upper'])]\n",
    "\n",
    "facecolors = 'white'#'royalblue' if 'BrMET' in patient_id else 'red'\n",
    "edgecolors = 'black'#darkblue' if 'BrMET' in patient_id else 'darkred'\n",
    "ax.scatter(x_data, y_data, s=50, facecolors=facecolors, alpha=1.0, edgecolors=edgecolors, zorder=2, label='data')\n",
    "# for i in range(model_config.shape[1]):\n",
    "#     # if i == 100:\n",
    "#     #     break\n",
    "#     ax.plot(pdf(model_config[:, i])[0], pdf(model_config[:, i])[1], color='red', alpha=0.1)\n",
    "ax.fill_between(ci_df['clone_size'], ci_df['lower'], ci_df['upper'], color='royalblue' if 'BrMET' in patient_id else 'red', zorder=1, alpha=0.8, label=f'model')\n",
    "\n",
    "ax.set_xscale('log')\n",
    "ax.set_yscale('log')\n",
    "offset_x = 0.30\n",
    "\n",
    "# ax.set_xlim(min(x_data) - offset_x * min(x_data), max(x_data) + offset_x * max(x_data))\n",
    "# ax.set_ylim(min(y_data) - offset_y * min(y_data), max(y_data) + offset_y * max(y_data))\n",
    "\n",
    "ax.set_xlabel(r\"Clone size\", fontsize=18)\n",
    "ax.set_ylabel('Probability')\n",
    "for label in ax.get_xticklabels():\n",
    "    label.set_fontsize(18)\n",
    "for label in ax.get_yticklabels():\n",
    "    label.set_fontsize(18)\n",
    "ax.tick_params(\n",
    "axis=\"x\", which=\"major\", direction=\"out\", length=10, width=2, labelsize=18\n",
    ")\n",
    "ax.tick_params(\n",
    "axis=\"x\", which=\"minor\", direction=\"out\", length=5, width=2, labelsize=18\n",
    ")\n",
    "ax.tick_params(\n",
    "axis=\"y\", which=\"major\", direction=\"out\", length=10, width=2, labelsize=18\n",
    ")\n",
    "ax.tick_params(\n",
    "axis=\"y\", which=\"minor\", direction=\"out\", length=5, width=2, labelsize=18\n",
    ")\n",
    "\n",
    "for spine in ax.spines.values():\n",
    "    spine.set_linewidth(2)\n",
    "\n",
    "ax.legend(loc='upper right', fontsize=12)\n",
    "ax.set_title(f'{patient_id}-region{region_number}', fontsize=18)\n",
    "plt.show()"
   ]
  },
  {
   "cell_type": "code",
   "execution_count": 75,
   "metadata": {},
   "outputs": [
    {
     "name": "stdout",
     "output_type": "stream",
     "text": [
      "0.0\n",
      "∗∗∗\n"
     ]
    }
   ],
   "source": [
    "min_clone_size_to_consider = 10\n",
    "max_clone_size_to_consider = 100\n",
    "f_obs = count_clone_sizes(final_clone_count_values, min_size=min_clone_size_to_consider, max_size=max_clone_size_to_consider)\n",
    "f_exp = np.mean(np.array([count_clone_sizes(model_config[:, j], min_size=min_clone_size_to_consider, max_size=max_clone_size_to_consider) for j in range(model_config.shape[1])]), axis=0)\n",
    "chi2_stat = np.sum([(obs-exp)**2/exp for obs, exp in zip(f_obs, f_exp)])\n",
    "dof = len(f_obs) -1\n",
    "p_value = 1 - chi2.cdf(chi2_stat, dof)\n",
    "print(p_value)\n",
    "print(get_asterisks(p_value))"
   ]
  },
  {
   "cell_type": "code",
   "execution_count": 76,
   "metadata": {},
   "outputs": [
    {
     "name": "stdout",
     "output_type": "stream",
     "text": [
      "BrMET009-region1: 68%\n"
     ]
    }
   ],
   "source": [
    "data_points = pdf(final_clone_count_values)\n",
    "count_within_band = 0\n",
    "for x, y in zip(data_points[0], data_points[1]):\n",
    "    look_at = ci_df[ci_df['clone_size']==x]\n",
    "    if look_at.empty:\n",
    "        continue\n",
    "    lower_bound = look_at['lower'].values[0]\n",
    "    upper_bound = look_at['upper'].values[0]\n",
    "    if (lower_bound<=y) & (y<=upper_bound):\n",
    "        count_within_band += 1\n",
    "coverage_probability = count_within_band/np.sum(data_points[0]<=ci_df['clone_size'].max())\n",
    "print(f'{patient_id}-region{region_number}: {coverage_probability*100:.0f}%')"
   ]
  },
  {
   "cell_type": "markdown",
   "metadata": {},
   "source": [
    "## LATEST DEVELOPMENT:"
   ]
  },
  {
   "cell_type": "code",
   "execution_count": 16,
   "metadata": {},
   "outputs": [],
   "source": [
    "import tqdm"
   ]
  },
  {
   "cell_type": "code",
   "execution_count": 51,
   "metadata": {},
   "outputs": [
    {
     "name": "stderr",
     "output_type": "stream",
     "text": [
      "100%|██████████| 654/654 [00:00<00:00, 733.28it/s]\n"
     ]
    }
   ],
   "source": [
    "coverages = []\n",
    "prob_data = []\n",
    "prob_model = []\n",
    "prob_of2to9_per_config_all_patient = []\n",
    "for patient_id in patient_names[:1]:\n",
    "    region_number_logic = range(1, 4) if patient_id not in ['BrMET008', 'GBM032'] else range(1, 5)\n",
    "    for region_number in region_number_logic[:1]:\n",
    "        # print(patient_id, region_number)\n",
    "        try:\n",
    "            with h5py.File(f'/home/gddaslab/mxp140/tcr_project_ultimate/results/{patient_id}_region{region_number}_model_results_from_panpep.h5', 'r') as f:\n",
    "                data_config = f['data_config'][:]\n",
    "                # model_config = f['model_config'][:]\n",
    "                model_probs = f['probabilities'][:]\n",
    "            data_points = pdf(data_config)\n",
    "            prob_data.append(np.sum(data_points[1][1:10]))\n",
    "            model_config = np.zeros((model_probs.shape[0], data_config.sum()))\n",
    "            for row in tqdm.tqdm(range(model_probs.shape[0])):\n",
    "                model_config[row] = np.random.choice(range(1, model_probs.shape[1]+1), size=data_config.sum(), replace=True, p=model_probs[row, :])\n",
    "            # prob_model.append(np.sum(pdf(np.concatenate(model_config))[1][1:10]))\n",
    "            # prob_of2to9_per_config = []\n",
    "            # for col in tqdm.tqdm(range(model_config.shape[1])):\n",
    "            #     pdf_data = pdf(model_config[:, col])\n",
    "            #     prob_of2to9_per_config.append(pdf_data[1][1:10].sum())\n",
    "            # prob_of2to9_per_config_all_patient.append(prob_of2to9_per_config)             \n",
    "            # ci_df = ci_pdf(model_config, alpha=5, least_number_of_observations=10)\n",
    "            # ci_df = ci_df[(ci_df['lower']!=ci_df['median']) &  (ci_df['median']!=ci_df['upper'])]\n",
    "            # count_within_band = 0\n",
    "            # for x, y in zip(data_points[0], data_points[1]):\n",
    "            #     look_at = ci_df[ci_df['clone_size']==x]\n",
    "            #     if look_at.empty:\n",
    "            #         # print(f'clone {x} not found in {patient_id}-region{region_number}')\n",
    "            #         continue\n",
    "            #     lower_bound = look_at['lower'].values[0]\n",
    "            #     upper_bound = look_at['upper'].values[0]\n",
    "            #     if (lower_bound<=y) & (y<=upper_bound):\n",
    "            #         count_within_band += 1\n",
    "            # coverage_probability = count_within_band/np.sum(data_points[0]<=ci_df['clone_size'].max())\n",
    "            # print(f'{patient_id}-region{region_number}: {coverage_probability*100:.0f}%')\n",
    "            # coverages.append(coverage_probability)\n",
    "        except:\n",
    "            # print(f\"File not found for {patient_id}-region{region_number}\")\n",
    "            continue\n",
    "# print(f'Mean coverage per data: {np.mean(coverages)}')"
   ]
  },
  {
   "cell_type": "code",
   "execution_count": 8,
   "metadata": {},
   "outputs": [
    {
     "data": {
      "text/plain": [
       "np.float32(1.0)"
      ]
     },
     "execution_count": 8,
     "metadata": {},
     "output_type": "execute_result"
    }
   ],
   "source": [
    "model_probs[0, :].sum()"
   ]
  },
  {
   "cell_type": "code",
   "execution_count": 56,
   "metadata": {},
   "outputs": [
    {
     "data": {
      "text/plain": [
       "(654,)"
      ]
     },
     "execution_count": 56,
     "metadata": {},
     "output_type": "execute_result"
    }
   ],
   "source": [
    "data_config.shape"
   ]
  },
  {
   "cell_type": "code",
   "execution_count": 57,
   "metadata": {},
   "outputs": [
    {
     "data": {
      "text/plain": [
       "(654, 1227)"
      ]
     },
     "execution_count": 57,
     "metadata": {},
     "output_type": "execute_result"
    }
   ],
   "source": [
    "model_config.shape"
   ]
  },
  {
   "cell_type": "code",
   "execution_count": 54,
   "metadata": {},
   "outputs": [
    {
     "data": {
      "text/plain": [
       "array([ 1.,  1.,  1.,  2.,  1.,  1.,  1.,  1.,  1.,  1.,  1.,  2.,  2.,\n",
       "        2.,  4.,  1.,  1.,  1.,  4.,  1.,  1.,  1.,  2.,  2.,  1.,  1.,\n",
       "        2.,  1.,  1.,  1.,  8.,  1.,  1.,  1.,  2.,  1.,  1.,  1.,  1.,\n",
       "        1.,  2.,  1.,  1.,  1.,  1.,  3.,  1.,  1.,  1.,  1.,  1.,  1.,\n",
       "        1.,  1.,  2.,  1.,  4.,  1.,  2.,  1.,  1.,  1.,  1.,  2.,  1.,\n",
       "        1.,  2.,  1.,  1.,  1.,  1.,  1.,  1.,  1.,  1.,  2.,  1.,  1.,\n",
       "        2.,  1.,  1.,  1.,  2.,  1.,  1.,  1.,  1.,  2.,  1.,  1.,  2.,\n",
       "        1.,  1.,  1.,  1.,  1.,  1.,  1.,  1.,  1.,  1.,  1.,  1.,  1.,\n",
       "        2.,  1.,  3.,  1.,  6.,  4.,  1.,  1.,  1.,  1.,  1.,  1.,  1.,\n",
       "        1.,  1.,  2.,  1.,  1.,  2.,  1.,  6.,  1.,  1.,  1.,  1.,  2.,\n",
       "        1.,  1.,  2.,  1.,  1.,  1.,  5.,  1.,  1.,  1.,  1.,  1.,  1.,\n",
       "        1.,  5.,  1.,  1.,  2.,  3.,  5.,  1.,  2.,  1.,  1.,  1.,  3.,\n",
       "        2.,  1.,  1.,  1.,  3.,  1.,  1.,  1.,  1.,  1.,  6.,  1.,  1.,\n",
       "        1.,  1.,  5.,  1.,  1.,  5.,  1.,  2.,  3.,  1.,  1.,  1.,  1.,\n",
       "        2.,  1.,  2.,  1.,  2.,  1.,  1.,  1.,  1.,  1.,  1.,  1.,  1.,\n",
       "        2.,  1.,  1.,  3.,  1.,  2.,  8.,  1.,  1.,  4.,  1.,  1.,  2.,\n",
       "        1.,  3.,  1.,  1., 11.,  6.,  1.,  1.,  2.,  1.,  1.,  1.,  2.,\n",
       "        1.,  2.,  2.,  1.,  1.,  2.,  1.,  1.,  1., 11.,  1.,  1.,  1.,\n",
       "        1.,  1.,  1.,  8.,  2.,  6.,  1.,  1.,  1.,  3.,  1.,  3.,  1.,\n",
       "        1.,  1.,  1.,  1.,  3.,  3.,  1.,  3.,  1.,  1.,  1.,  1.,  2.,\n",
       "        1.,  1.,  1.,  9.,  2.,  1.,  1.,  3.,  1.,  4.,  2.,  1.,  1.,\n",
       "        5.,  1.,  1.,  3.,  1.,  2.,  1.,  1.,  1.,  1.,  1.,  3.,  1.,\n",
       "        3.,  1.,  1.,  2.,  2.,  2.,  1.,  1.,  2.,  1.,  2.,  1.,  1.,\n",
       "        1.,  1.,  2.,  1.,  1.,  1.,  1.,  2.,  1.,  2.,  1.,  1.,  8.,\n",
       "        2.,  2.,  1.,  2.,  2.,  1.,  1.,  1.,  1.,  1.,  1.,  1.,  1.,\n",
       "        1.,  4.,  1.,  1.,  1.,  1.,  1.,  1.,  3.,  1.,  1.,  1.,  1.,\n",
       "        1.,  1.,  1.,  1.,  5.,  2.,  3.,  7.,  1.,  1.,  1.,  1.,  1.,\n",
       "        2.,  1.,  1.,  1.,  1.,  3., 17.,  1.,  3.,  1.,  1.,  2.,  1.,\n",
       "        1.,  2.,  2.,  9.,  1.,  1.,  1.,  1.,  2.,  1.,  2.,  3.,  1.,\n",
       "        1.,  1.,  5.,  3.,  3.,  1.,  1.,  2.,  1.,  3.,  1.,  3.,  1.,\n",
       "        1.,  1.,  1.,  2.,  1.,  3.,  1.,  1.,  1.,  1.,  1.,  2.,  2.,\n",
       "        2.,  6.,  1.,  2.,  1.,  1.,  1.,  1.,  1.,  2.,  1.,  1.,  2.,\n",
       "        2.,  1.,  2.,  1.,  2.,  1.,  2.,  3.,  1.,  1.,  1.,  3.,  1.,\n",
       "        1.,  5.,  1.,  1.,  2.,  1.,  2.,  1.,  1.,  1.,  1.,  1.,  2.,\n",
       "        1.,  1.,  5.,  3.,  1.,  2.,  1.,  1.,  1.,  1.,  2.,  2.,  1.,\n",
       "        6.,  5.,  1.,  1.,  1.,  1.,  1.,  1.,  3.,  2.,  3.,  2.,  2.,\n",
       "        2.,  1.,  1.,  1.,  1.,  1.,  2.,  1.,  1.,  1.,  9.,  2.,  1.,\n",
       "        1.,  1.,  1.,  1.,  1.,  1.,  1.,  1.,  2.,  1.,  1.,  1.,  1.,\n",
       "        3.,  1.,  1.,  1.,  1.,  1.,  2.,  1.,  1.,  2.,  1.,  6.,  1.,\n",
       "        1.,  2.,  1.,  1.,  1.,  1.,  1.,  1.,  1., 18.,  1.,  2.,  3.,\n",
       "        2.,  1.,  1.,  1.,  1.,  1.,  1.,  1.,  1.,  1.,  1.,  1.,  1.,\n",
       "        2.,  1.,  1.,  1.,  1.,  1.,  2.,  1.,  3.,  1.,  1.,  2.,  1.,\n",
       "        1.,  2.,  1.,  2.,  1.,  1.,  1.,  1.,  2.,  1.,  2.,  1.,  1.,\n",
       "        1.,  1.,  1.,  1.,  1.,  1.,  1.,  1.,  1.,  1.,  1.,  1.,  1.,\n",
       "        1.,  1.,  1.,  1.,  1.,  1.,  1.,  1.,  1.,  1.,  1.,  1.,  1.,\n",
       "        1.,  5.,  1.,  1.,  2.,  1.,  1.,  1.,  1.,  1.,  1.,  1.,  1.,\n",
       "        1.,  1.,  1.,  1.,  1.,  3.,  1.,  1.,  1.,  1.,  1.,  1.,  1.,\n",
       "        1.,  1.,  1.,  1.,  1.,  1.,  1.,  1.,  1.,  1.,  2.,  3.,  2.,\n",
       "        2.,  1.,  1.,  1.,  1.,  1.,  1.,  1.,  1.,  1.,  2.,  1.,  1.,\n",
       "        1.,  2.,  1.,  1.,  1.,  2.,  1.,  1.,  2.,  6.,  1.,  1.,  2.,\n",
       "        1.,  1.,  1.,  1.])"
      ]
     },
     "execution_count": 54,
     "metadata": {},
     "output_type": "execute_result"
    }
   ],
   "source": [
    "model_config[:, 0]"
   ]
  },
  {
   "cell_type": "code",
   "execution_count": null,
   "metadata": {},
   "outputs": [],
   "source": [
    "pdf(model_config[:, 0][:100])"
   ]
  },
  {
   "cell_type": "code",
   "execution_count": null,
   "metadata": {},
   "outputs": [],
   "source": [
    "pdf()"
   ]
  },
  {
   "cell_type": "code",
   "execution_count": 42,
   "metadata": {},
   "outputs": [],
   "source": [
    "import numpy as np\n",
    "import random\n",
    "\n",
    "def fast_sample_sum_geq_N(probabilities, N, min_clone_size=1):\n",
    "    clone_sizes = np.arange(min_clone_size, len(probabilities) + min_clone_size)\n",
    "\n",
    "    # Initial sample\n",
    "    for _ in range(100):\n",
    "        sample = np.random.choice(clone_sizes, size=size, replace=True, p=probabilities)\n",
    "    \n",
    "    # if total >= N:\n",
    "    #     return np.sum(sample)\n",
    "    # else:\n",
    "    #     return 0\n",
    "            \n",
    "    # for val in sample:\n",
    "    #     result.append(val)\n",
    "    #     total += val\n",
    "    #     if total >= N:\n",
    "    #         break\n",
    "\n",
    "    # if total == N:\n",
    "    #     return result\n",
    "\n",
    "    # # Reduce if sum > N\n",
    "    # while total > N:\n",
    "    #     i = random.randrange(len(result))\n",
    "    #     total -= result[i]\n",
    "    #     del result[i]"
   ]
  },
  {
   "cell_type": "code",
   "execution_count": 47,
   "metadata": {},
   "outputs": [
    {
     "name": "stdout",
     "output_type": "stream",
     "text": [
      "8438\n"
     ]
    }
   ],
   "source": [
    "a = fast_sample_sum_geq_N(model_probs[0, :], data_config.sum())\n",
    "print(a)"
   ]
  },
  {
   "cell_type": "code",
   "execution_count": 41,
   "metadata": {},
   "outputs": [
    {
     "data": {
      "text/plain": [
       "np.int64(35370)"
      ]
     },
     "execution_count": 41,
     "metadata": {},
     "output_type": "execute_result"
    }
   ],
   "source": [
    "data_config.sum()"
   ]
  },
  {
   "cell_type": "code",
   "execution_count": 14,
   "metadata": {},
   "outputs": [
    {
     "data": {
      "text/plain": [
       "np.int64(1227)"
      ]
     },
     "execution_count": 14,
     "metadata": {},
     "output_type": "execute_result"
    }
   ],
   "source": [
    "data_config.sum()"
   ]
  },
  {
   "cell_type": "code",
   "execution_count": 13,
   "metadata": {},
   "outputs": [
    {
     "data": {
      "text/plain": [
       "np.int64(1289)"
      ]
     },
     "execution_count": 13,
     "metadata": {},
     "output_type": "execute_result"
    }
   ],
   "source": [
    "a.sum()"
   ]
  },
  {
   "cell_type": "code",
   "execution_count": 80,
   "metadata": {},
   "outputs": [],
   "source": [
    "import numpy as np\n",
    "import random\n",
    "\n",
    "def fast_sample_sum_geq_N(probabilities, target_sample_count=1000, min_clone_size=1, number_of_configs = 1000):\n",
    "    clone_sizes = np.arange(min_clone_size, len(probabilities) + min_clone_size)\n",
    "    \n",
    "    final_samples = []\n",
    "    for _ in range(number_of_configs):\n",
    "        samples_per_config = []\n",
    "        total = 0\n",
    "        while total <= target_sample_count:\n",
    "            sample = np.random.choice(clone_sizes, size=1000, replace=True, p=probabilities)\n",
    "            samples_per_config.extend(sample)\n",
    "            total += np.sum(samples_per_config)\n",
    "\n",
    "        if total == target_sample_count:\n",
    "            final_samples.append(samples_per_config)\n",
    "        \n",
    "        # Reduce if sum > N\n",
    "        while total > target_sample_count:\n",
    "            i = random.randrange(len(samples_per_config))\n",
    "            total -= samples_per_config[i]\n",
    "            del samples_per_config[i]\n",
    "        final_samples.append(samples_per_config)\n",
    "\n",
    "    return final_samples"
   ]
  },
  {
   "cell_type": "code",
   "execution_count": 158,
   "metadata": {},
   "outputs": [
    {
     "ename": "KeyboardInterrupt",
     "evalue": "",
     "output_type": "error",
     "traceback": [
      "\u001b[0;31m---------------------------------------------------------------------------\u001b[0m",
      "\u001b[0;31mKeyboardInterrupt\u001b[0m                         Traceback (most recent call last)",
      "Cell \u001b[0;32mIn[158], line 1\u001b[0m\n\u001b[0;32m----> 1\u001b[0m a \u001b[38;5;241m=\u001b[39m \u001b[43mfast_sample_sum_geq_N\u001b[49m\u001b[43m(\u001b[49m\u001b[43mmodel_probs\u001b[49m\u001b[43m[\u001b[49m\u001b[38;5;241;43m0\u001b[39;49m\u001b[43m,\u001b[49m\u001b[43m \u001b[49m\u001b[43m:\u001b[49m\u001b[43m]\u001b[49m\u001b[43m,\u001b[49m\u001b[43m \u001b[49m\u001b[43mtarget_sample_count\u001b[49m\u001b[38;5;241;43m=\u001b[39;49m\u001b[43mdata_config\u001b[49m\u001b[38;5;241;43m.\u001b[39;49m\u001b[43msum\u001b[49m\u001b[43m(\u001b[49m\u001b[43m)\u001b[49m\u001b[43m,\u001b[49m\u001b[43m \u001b[49m\u001b[43mmin_clone_size\u001b[49m\u001b[38;5;241;43m=\u001b[39;49m\u001b[38;5;241;43m1\u001b[39;49m\u001b[43m,\u001b[49m\u001b[43m \u001b[49m\u001b[43mnumber_of_configs\u001b[49m\u001b[43m \u001b[49m\u001b[38;5;241;43m=\u001b[39;49m\u001b[43m \u001b[49m\u001b[38;5;241;43m1000\u001b[39;49m\u001b[43m)\u001b[49m\n",
      "Cell \u001b[0;32mIn[157], line 20\u001b[0m, in \u001b[0;36mfast_sample_sum_geq_N\u001b[0;34m(probabilities, target_sample_count, min_clone_size, number_of_configs)\u001b[0m\n\u001b[1;32m     18\u001b[0m \u001b[38;5;66;03m# If sum > target, reduce the sample randomly until sum == target\u001b[39;00m\n\u001b[1;32m     19\u001b[0m \u001b[38;5;28;01mwhile\u001b[39;00m total \u001b[38;5;241m>\u001b[39m\u001b[38;5;241m=\u001b[39m target_sample_count:\n\u001b[0;32m---> 20\u001b[0m     i \u001b[38;5;241m=\u001b[39m \u001b[43mrandom\u001b[49m\u001b[38;5;241;43m.\u001b[39;49m\u001b[43mrandrange\u001b[49m\u001b[43m(\u001b[49m\u001b[38;5;28;43mlen\u001b[39;49m\u001b[43m(\u001b[49m\u001b[43msamples_per_config\u001b[49m\u001b[43m)\u001b[49m\u001b[43m)\u001b[49m\n\u001b[1;32m     21\u001b[0m     total \u001b[38;5;241m-\u001b[39m\u001b[38;5;241m=\u001b[39m samples_per_config[i]\n\u001b[1;32m     22\u001b[0m     \u001b[38;5;28;01mif\u001b[39;00m total \u001b[38;5;241m<\u001b[39m target_sample_count:\n",
      "File \u001b[0;32m~/.conda/envs/numba/lib/python3.12/random.py:308\u001b[0m, in \u001b[0;36mRandom.randrange\u001b[0;34m(self, start, stop, step)\u001b[0m\n\u001b[1;32m    306\u001b[0m         \u001b[38;5;28;01mraise\u001b[39;00m \u001b[38;5;167;01mTypeError\u001b[39;00m(\u001b[38;5;124m\"\u001b[39m\u001b[38;5;124mMissing a non-None stop argument\u001b[39m\u001b[38;5;124m\"\u001b[39m)\n\u001b[1;32m    307\u001b[0m     \u001b[38;5;28;01mif\u001b[39;00m istart \u001b[38;5;241m>\u001b[39m \u001b[38;5;241m0\u001b[39m:\n\u001b[0;32m--> 308\u001b[0m         \u001b[38;5;28;01mreturn\u001b[39;00m \u001b[38;5;28;43mself\u001b[39;49m\u001b[38;5;241;43m.\u001b[39;49m\u001b[43m_randbelow\u001b[49m\u001b[43m(\u001b[49m\u001b[43mistart\u001b[49m\u001b[43m)\u001b[49m\n\u001b[1;32m    309\u001b[0m     \u001b[38;5;28;01mraise\u001b[39;00m \u001b[38;5;167;01mValueError\u001b[39;00m(\u001b[38;5;124m\"\u001b[39m\u001b[38;5;124mempty range for randrange()\u001b[39m\u001b[38;5;124m\"\u001b[39m)\n\u001b[1;32m    311\u001b[0m \u001b[38;5;66;03m# Stop argument supplied.\u001b[39;00m\n",
      "File \u001b[0;32m~/.conda/envs/numba/lib/python3.12/random.py:242\u001b[0m, in \u001b[0;36mRandom._randbelow_with_getrandbits\u001b[0;34m(self, n)\u001b[0m\n\u001b[1;32m    239\u001b[0m             \u001b[38;5;28mcls\u001b[39m\u001b[38;5;241m.\u001b[39m_randbelow \u001b[38;5;241m=\u001b[39m \u001b[38;5;28mcls\u001b[39m\u001b[38;5;241m.\u001b[39m_randbelow_without_getrandbits\n\u001b[1;32m    240\u001b[0m             \u001b[38;5;28;01mbreak\u001b[39;00m\n\u001b[0;32m--> 242\u001b[0m \u001b[38;5;28;01mdef\u001b[39;00m\u001b[38;5;250m \u001b[39m\u001b[38;5;21m_randbelow_with_getrandbits\u001b[39m(\u001b[38;5;28mself\u001b[39m, n):\n\u001b[1;32m    243\u001b[0m     \u001b[38;5;124m\"\u001b[39m\u001b[38;5;124mReturn a random int in the range [0,n).  Defined for n > 0.\u001b[39m\u001b[38;5;124m\"\u001b[39m\n\u001b[1;32m    245\u001b[0m     getrandbits \u001b[38;5;241m=\u001b[39m \u001b[38;5;28mself\u001b[39m\u001b[38;5;241m.\u001b[39mgetrandbits\n",
      "\u001b[0;31mKeyboardInterrupt\u001b[0m: "
     ]
    }
   ],
   "source": [
    "a = fast_sample_sum_geq_N(model_probs[0, :], target_sample_count=data_config.sum(), min_clone_size=1, number_of_configs = 1000)"
   ]
  },
  {
   "cell_type": "code",
   "execution_count": 156,
   "metadata": {},
   "outputs": [
    {
     "name": "stdout",
     "output_type": "stream",
     "text": [
      "5, Violated\n",
      "10, Violated\n",
      "11, Violated\n",
      "15, Violated\n",
      "24, Violated\n",
      "29, Violated\n",
      "36, Violated\n",
      "37, Violated\n",
      "40, Violated\n",
      "42, Violated\n",
      "43, Violated\n",
      "44, Violated\n",
      "48, Violated\n",
      "49, Violated\n",
      "57, Violated\n",
      "61, Violated\n",
      "65, Violated\n",
      "77, Violated\n",
      "78, Violated\n",
      "83, Violated\n",
      "86, Violated\n",
      "88, Violated\n",
      "97, Violated\n",
      "98, Violated\n",
      "102, Violated\n",
      "107, Violated\n",
      "114, Violated\n",
      "115, Violated\n",
      "124, Violated\n",
      "125, Violated\n",
      "132, Violated\n",
      "133, Violated\n",
      "134, Violated\n",
      "146, Violated\n",
      "148, Violated\n",
      "160, Violated\n",
      "164, Violated\n",
      "169, Violated\n",
      "172, Violated\n",
      "177, Violated\n",
      "179, Violated\n",
      "182, Violated\n",
      "185, Violated\n",
      "191, Violated\n",
      "202, Violated\n",
      "204, Violated\n",
      "206, Violated\n",
      "208, Violated\n",
      "209, Violated\n",
      "213, Violated\n",
      "222, Violated\n",
      "230, Violated\n",
      "235, Violated\n",
      "241, Violated\n",
      "244, Violated\n",
      "253, Violated\n",
      "256, Violated\n",
      "258, Violated\n",
      "265, Violated\n",
      "267, Violated\n",
      "271, Violated\n",
      "276, Violated\n",
      "285, Violated\n",
      "288, Violated\n",
      "289, Violated\n",
      "297, Violated\n",
      "302, Violated\n",
      "303, Violated\n",
      "306, Violated\n",
      "307, Violated\n",
      "308, Violated\n",
      "309, Violated\n",
      "316, Violated\n",
      "321, Violated\n",
      "331, Violated\n",
      "333, Violated\n",
      "335, Violated\n",
      "336, Violated\n",
      "351, Violated\n",
      "354, Violated\n",
      "355, Violated\n",
      "358, Violated\n",
      "374, Violated\n",
      "379, Violated\n",
      "396, Violated\n",
      "400, Violated\n",
      "402, Violated\n",
      "405, Violated\n",
      "409, Violated\n",
      "411, Violated\n",
      "412, Violated\n",
      "415, Violated\n",
      "416, Violated\n",
      "436, Violated\n",
      "446, Violated\n",
      "455, Violated\n",
      "463, Violated\n",
      "464, Violated\n",
      "466, Violated\n",
      "468, Violated\n",
      "470, Violated\n",
      "474, Violated\n",
      "481, Violated\n",
      "483, Violated\n",
      "484, Violated\n",
      "485, Violated\n",
      "486, Violated\n",
      "493, Violated\n",
      "494, Violated\n",
      "501, Violated\n",
      "503, Violated\n",
      "504, Violated\n",
      "507, Violated\n",
      "509, Violated\n",
      "511, Violated\n",
      "514, Violated\n",
      "519, Violated\n",
      "520, Violated\n",
      "521, Violated\n",
      "528, Violated\n",
      "529, Violated\n",
      "530, Violated\n",
      "535, Violated\n",
      "536, Violated\n",
      "540, Violated\n",
      "543, Violated\n",
      "549, Violated\n",
      "554, Violated\n",
      "557, Violated\n",
      "561, Violated\n",
      "565, Violated\n",
      "568, Violated\n",
      "569, Violated\n",
      "571, Violated\n",
      "574, Violated\n",
      "575, Violated\n",
      "578, Violated\n",
      "583, Violated\n",
      "594, Violated\n",
      "595, Violated\n",
      "597, Violated\n",
      "600, Violated\n",
      "602, Violated\n",
      "604, Violated\n",
      "614, Violated\n",
      "616, Violated\n",
      "617, Violated\n",
      "618, Violated\n",
      "620, Violated\n",
      "624, Violated\n",
      "636, Violated\n",
      "645, Violated\n",
      "648, Violated\n",
      "649, Violated\n",
      "657, Violated\n",
      "659, Violated\n",
      "661, Violated\n",
      "664, Violated\n",
      "666, Violated\n",
      "669, Violated\n",
      "670, Violated\n",
      "671, Violated\n",
      "678, Violated\n",
      "680, Violated\n",
      "688, Violated\n",
      "696, Violated\n",
      "697, Violated\n",
      "710, Violated\n",
      "722, Violated\n",
      "732, Violated\n",
      "734, Violated\n",
      "736, Violated\n",
      "737, Violated\n",
      "740, Violated\n",
      "750, Violated\n",
      "756, Violated\n",
      "764, Violated\n",
      "767, Violated\n",
      "769, Violated\n",
      "770, Violated\n",
      "777, Violated\n",
      "778, Violated\n",
      "785, Violated\n",
      "796, Violated\n",
      "798, Violated\n",
      "802, Violated\n",
      "804, Violated\n",
      "805, Violated\n",
      "806, Violated\n",
      "807, Violated\n",
      "809, Violated\n",
      "810, Violated\n",
      "815, Violated\n",
      "817, Violated\n",
      "819, Violated\n",
      "824, Violated\n",
      "826, Violated\n",
      "831, Violated\n",
      "836, Violated\n",
      "839, Violated\n",
      "845, Violated\n",
      "847, Violated\n",
      "849, Violated\n",
      "852, Violated\n",
      "854, Violated\n",
      "855, Violated\n",
      "858, Violated\n",
      "865, Violated\n",
      "869, Violated\n",
      "875, Violated\n",
      "878, Violated\n",
      "880, Violated\n",
      "890, Violated\n",
      "894, Violated\n",
      "895, Violated\n",
      "900, Violated\n",
      "914, Violated\n",
      "920, Violated\n",
      "922, Violated\n",
      "923, Violated\n",
      "924, Violated\n",
      "931, Violated\n",
      "933, Violated\n",
      "944, Violated\n",
      "947, Violated\n",
      "948, Violated\n",
      "949, Violated\n",
      "950, Violated\n",
      "955, Violated\n",
      "956, Violated\n",
      "957, Violated\n",
      "958, Violated\n",
      "959, Violated\n",
      "964, Violated\n",
      "967, Violated\n",
      "968, Violated\n",
      "970, Violated\n",
      "982, Violated\n",
      "985, Violated\n"
     ]
    }
   ],
   "source": [
    "for i in range(len(a)):\n",
    "    if np.sum(a[i]) != data_config.sum():\n",
    "        print(f'{i}, Violated')"
   ]
  },
  {
   "cell_type": "code",
   "execution_count": 151,
   "metadata": {},
   "outputs": [
    {
     "data": {
      "text/plain": [
       "np.int64(1229)"
      ]
     },
     "execution_count": 151,
     "metadata": {},
     "output_type": "execute_result"
    }
   ],
   "source": [
    "np.sum(a[2])"
   ]
  },
  {
   "cell_type": "code",
   "execution_count": 138,
   "metadata": {},
   "outputs": [
    {
     "data": {
      "text/plain": [
       "np.int64(1556)"
      ]
     },
     "execution_count": 138,
     "metadata": {},
     "output_type": "execute_result"
    }
   ],
   "source": [
    "np.sum(np.random.choice(range(1, model_probs.shape[1]+1), size=data_config.sum(), replace=True, p=model_probs[0, :]))"
   ]
  },
  {
   "cell_type": "code",
   "execution_count": 58,
   "metadata": {},
   "outputs": [],
   "source": [
    "truth_array = []\n",
    "for i in range(len(prob_data))[:]:\n",
    "    a = np.percentile(prob_of2to9_per_config_all_patient[i], 2.5)\n",
    "    b = np.percentile(prob_of2to9_per_config_all_patient[i], 97.5)\n",
    "    c = prob_data[i]\n",
    "    truth_array.append(a<=c<=b)"
   ]
  },
  {
   "cell_type": "code",
   "execution_count": 60,
   "metadata": {},
   "outputs": [
    {
     "data": {
      "text/plain": [
       "np.int64(15)"
      ]
     },
     "execution_count": 60,
     "metadata": {},
     "output_type": "execute_result"
    }
   ],
   "source": [
    "np.sum(truth_array)"
   ]
  },
  {
   "cell_type": "code",
   "execution_count": 61,
   "metadata": {},
   "outputs": [
    {
     "data": {
      "text/plain": [
       "27.27272727272727"
      ]
     },
     "execution_count": 61,
     "metadata": {},
     "output_type": "execute_result"
    }
   ],
   "source": [
    "(15/55)*100"
   ]
  },
  {
   "cell_type": "code",
   "execution_count": 39,
   "metadata": {},
   "outputs": [
    {
     "data": {
      "text/plain": [
       "np.float64(0.2415902140672783)"
      ]
     },
     "execution_count": 39,
     "metadata": {},
     "output_type": "execute_result"
    }
   ],
   "source": [
    "np.percentile(prob_of2to9_per_config, 2.5)"
   ]
  },
  {
   "cell_type": "code",
   "execution_count": 40,
   "metadata": {},
   "outputs": [
    {
     "data": {
      "text/plain": [
       "np.float64(0.3073394495412844)"
      ]
     },
     "execution_count": 40,
     "metadata": {},
     "output_type": "execute_result"
    }
   ],
   "source": [
    "np.percentile(prob_of2to9_per_config, 97.5)"
   ]
  },
  {
   "cell_type": "code",
   "execution_count": 18,
   "metadata": {},
   "outputs": [
    {
     "data": {
      "text/plain": [
       "np.float64(0.04633042805780195)"
      ]
     },
     "execution_count": 18,
     "metadata": {},
     "output_type": "execute_result"
    }
   ],
   "source": [
    "np.std(prob_data)"
   ]
  },
  {
   "cell_type": "code",
   "execution_count": 19,
   "metadata": {},
   "outputs": [
    {
     "data": {
      "text/plain": [
       "np.float64(0.21874263050072232)"
      ]
     },
     "execution_count": 19,
     "metadata": {},
     "output_type": "execute_result"
    }
   ],
   "source": [
    "np.mean(prob_model)"
   ]
  },
  {
   "cell_type": "code",
   "execution_count": 20,
   "metadata": {},
   "outputs": [
    {
     "data": {
      "text/plain": [
       "np.float64(0.058816516912213124)"
      ]
     },
     "execution_count": 20,
     "metadata": {},
     "output_type": "execute_result"
    }
   ],
   "source": [
    "np.std(prob_model)"
   ]
  },
  {
   "cell_type": "code",
   "execution_count": 24,
   "metadata": {},
   "outputs": [
    {
     "data": {
      "text/plain": [
       "np.float64(0.10921720430107527)"
      ]
     },
     "execution_count": 24,
     "metadata": {},
     "output_type": "execute_result"
    }
   ],
   "source": [
    "np.percentile(prob_model, 2.5)"
   ]
  },
  {
   "cell_type": "code",
   "execution_count": 26,
   "metadata": {},
   "outputs": [
    {
     "data": {
      "text/plain": [
       "np.float64(0.3087819127701406)"
      ]
     },
     "execution_count": 26,
     "metadata": {},
     "output_type": "execute_result"
    }
   ],
   "source": [
    "np.percentile(prob_model, 97.5)"
   ]
  },
  {
   "cell_type": "code",
   "execution_count": 23,
   "metadata": {},
   "outputs": [
    {
     "data": {
      "text/plain": [
       "55"
      ]
     },
     "execution_count": 23,
     "metadata": {},
     "output_type": "execute_result"
    }
   ],
   "source": [
    "len(prob_model)"
   ]
  },
  {
   "cell_type": "code",
   "execution_count": null,
   "metadata": {},
   "outputs": [],
   "source": []
  },
  {
   "cell_type": "code",
   "execution_count": null,
   "metadata": {},
   "outputs": [],
   "source": [
    "all_configs = np.empty((prob_array.shape[0], sample_size))\n",
    "for i in tqdm.tqdm(\n",
    "    range(prob_array.shape[0]),\n",
    "    total=prob_array.shape[0],\n",
    "    desc=\"Generating configuration for each TCR\",\n",
    "    leave=False,\n",
    "    disable=disable_progressbar,\n",
    "):\n",
    "    # config_per_tcr = generate_configuration_per_tcr(prob_array[i, :], size)\n",
    "    config_per_tcr = np.random.choice(\n",
    "        range(min_clone_size, prob_array.shape[1] + min_clone_size),\n",
    "        size=sample_size,\n",
    "        replace=True,\n",
    "        p=prob_array[i, :] / sum(prob_array[i, :]),\n",
    "    )\n",
    "    all_configs[i, :] = config_per_tcr"
   ]
  },
  {
   "cell_type": "code",
   "execution_count": null,
   "metadata": {},
   "outputs": [],
   "source": [
    "np.random.choice(\n",
    "        range(min_clone_size, prob_array.shape[1] + min_clone_size),\n",
    "        size=sample_size,\n",
    "        replace=True,\n",
    "        p=prob_array[i, :] / sum(prob_array[i, :]),\n",
    "    )"
   ]
  },
  {
   "cell_type": "code",
   "execution_count": 37,
   "metadata": {},
   "outputs": [
    {
     "name": "stdout",
     "output_type": "stream",
     "text": [
      "BrMET008-region1: 89%\n",
      "BrMET008-region2: 100%\n",
      "BrMET008-region3: 100%\n",
      "BrMET008-region4: 100%\n",
      "BrMET009-region1: 3%\n",
      "BrMET009-region2: 6%\n",
      "BrMET009-region3: 6%\n",
      "BrMET010-region1: 45%\n",
      "BrMET010-region2: 30%\n",
      "BrMET010-region3: 50%\n",
      "BrMET018-region1: 9%\n",
      "BrMET018-region2: 100%\n",
      "BrMET018-region3: 31%\n",
      "BrMET019-region1: 40%\n",
      "BrMET019-region2: 24%\n",
      "BrMET019-region3: 67%\n",
      "BrMET025-region1: 50%\n",
      "BrMET025-region2: 67%\n",
      "BrMET025-region3: 75%\n",
      "BrMET027-region1: 12%\n",
      "BrMET027-region2: 31%\n",
      "BrMET027-region3: 21%\n",
      "BrMET028-region1: 100%\n",
      "BrMET028-region2: 80%\n",
      "BrMET028-region3: 100%\n",
      "GBM032-region1: 21%\n",
      "GBM032-region2: 62%\n",
      "GBM032-region3: 71%\n",
      "GBM032-region4: 19%\n",
      "GBM052-region1: 75%\n",
      "GBM052-region2: 30%\n",
      "GBM052-region3: 12%\n",
      "GBM055-region2: 44%\n",
      "GBM056-region1: 83%\n",
      "GBM056-region2: 44%\n",
      "GBM056-region3: 71%\n",
      "GBM059-region1: 71%\n",
      "GBM059-region2: 16%\n",
      "GBM059-region3: 38%\n",
      "GBM062-region1: 100%\n",
      "GBM062-region2: 100%\n",
      "GBM062-region3: 100%\n",
      "GBM063-region1: 80%\n",
      "GBM063-region3: 75%\n",
      "GBM064-region2: 67%\n",
      "GBM064-region3: 80%\n",
      "GBM070-region1: 80%\n",
      "GBM070-region2: 38%\n",
      "GBM070-region3: 75%\n",
      "GBM074-region1: 100%\n",
      "GBM074-region2: 83%\n",
      "GBM074-region3: 56%\n",
      "GBM079-region1: 67%\n",
      "GBM079-region2: 56%\n",
      "GBM079-region3: 100%\n",
      "Mean coverage per data: 0.5913685354267961\n"
     ]
    }
   ],
   "source": [
    "p_value_df = pd.DataFrame(columns=['patient', 'type', 'p_value'])\n",
    "chi_squared_values = []\n",
    "coverages = []\n",
    "for patient_id in patient_names[:]:\n",
    "    region_number_logic = range(1, 4) if patient_id not in ['BrMET008', 'GBM032'] else range(1, 5)\n",
    "    for region_number in region_number_logic[:]:\n",
    "        # print(patient_id, region_number)\n",
    "        try:\n",
    "            with h5py.File(f'/home/gddaslab/mxp140/tcr_project_ultimate/results/{patient_id}_region{region_number}_model_results_from_panpep.h5', 'r') as f:\n",
    "                data_config = f['data_config'][:]\n",
    "                model_config = f['model_config'][:]\n",
    "            data_points = pdf(data_config)\n",
    "            ci_df = ci_pdf(model_config, alpha=5, least_number_of_observations=10)\n",
    "            ci_df = ci_df[(ci_df['lower']!=ci_df['median']) &  (ci_df['median']!=ci_df['upper'])]\n",
    "            count_within_band = 0\n",
    "            for x, y in zip(data_points[0], data_points[1]):\n",
    "                if (x!=1) and (x<10):\n",
    "                    # print(x)\n",
    "                    look_at = ci_df[ci_df['clone_size']==x]\n",
    "                    if look_at.empty:\n",
    "                        # print(f'clone {x} not found in {patient_id}-region{region_number}')\n",
    "                        continue\n",
    "                    lower_bound = look_at['lower'].values[0]\n",
    "                    upper_bound = look_at['upper'].values[0]\n",
    "                    if (lower_bound<=y) & (y<=upper_bound):\n",
    "                        count_within_band += 1\n",
    "                else:\n",
    "                    # print(f'{x} not considered.')\n",
    "                    continue\n",
    "                    \n",
    "            coverage_probability = count_within_band/np.sum((data_points[0]<=ci_df['clone_size'].max()) & (data_points[0]!=1))\n",
    "            print(f'{patient_id}-region{region_number}: {coverage_probability*100:.0f}%')\n",
    "            coverages.append(coverage_probability)\n",
    "        except:\n",
    "            # print(f\"File not found for {patient_id}-region{region_number}\")\n",
    "            continue\n",
    "print(f'Mean coverage per data: {np.mean(coverages)}')"
   ]
  },
  {
   "cell_type": "code",
   "execution_count": 32,
   "metadata": {},
   "outputs": [
    {
     "data": {
      "text/plain": [
       "np.float64(0.21360671015843433)"
      ]
     },
     "execution_count": 32,
     "metadata": {},
     "output_type": "execute_result"
    }
   ],
   "source": [
    "b = data_points[1][1:11].sum()\n",
    "b"
   ]
  },
  {
   "cell_type": "code",
   "execution_count": 26,
   "metadata": {},
   "outputs": [],
   "source": [
    "a = [pdf(model_config[:, col])[1][1:11].sum() for col in range(model_config.shape[1])]"
   ]
  },
  {
   "cell_type": "code",
   "execution_count": 29,
   "metadata": {},
   "outputs": [],
   "source": [
    "a = np.sort(a)"
   ]
  },
  {
   "cell_type": "code",
   "execution_count": 33,
   "metadata": {},
   "outputs": [
    {
     "data": {
      "text/plain": [
       "np.False_"
      ]
     },
     "execution_count": 33,
     "metadata": {},
     "output_type": "execute_result"
    }
   ],
   "source": [
    "np.min(a)<=b<=np.max(a)"
   ]
  }
 ],
 "metadata": {
  "kernelspec": {
   "display_name": "numba",
   "language": "python",
   "name": "python3"
  },
  "language_info": {
   "codemirror_mode": {
    "name": "ipython",
    "version": 3
   },
   "file_extension": ".py",
   "mimetype": "text/x-python",
   "name": "python",
   "nbconvert_exporter": "python",
   "pygments_lexer": "ipython3",
   "version": "3.12.8"
  }
 },
 "nbformat": 4,
 "nbformat_minor": 2
}
