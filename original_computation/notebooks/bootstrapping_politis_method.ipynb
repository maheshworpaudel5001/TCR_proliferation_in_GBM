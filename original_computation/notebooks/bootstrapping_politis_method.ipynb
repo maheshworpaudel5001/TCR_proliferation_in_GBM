{
 "cells": [
  {
   "cell_type": "code",
   "execution_count": 1,
   "metadata": {},
   "outputs": [],
   "source": [
    "import sys\n",
    "root_dir = '/home/gddaslab/mxp140/tcr_project_ultimate'\n",
    "sys.path.append(root_dir)\n",
    "\n",
    "import warnings\n",
    "warnings.filterwarnings(\"ignore\")"
   ]
  },
  {
   "cell_type": "code",
   "execution_count": 2,
   "metadata": {},
   "outputs": [],
   "source": [
    "import tqdm\n",
    "import math\n",
    "import numpy as np\n",
    "import pandas as pd\n",
    "import seaborn as sns\n",
    "import matplotlib.pyplot as plt\n",
    "from minimization import run_optimization"
   ]
  },
  {
   "cell_type": "code",
   "execution_count": 41,
   "metadata": {},
   "outputs": [],
   "source": [
    "full_data = pd.read_csv('/home/gddaslab/mxp140/tcr_project_ultimate/data/BrMET_and_GBM_data-PANPEP.csv', sep=',')\n",
    "max_kr = max(full_data['kr'].values)\n",
    "patient_id ='BrMET009'\n",
    "patient_data = full_data[full_data['Patient']==patient_id]\n",
    "# Create a list of CDR3 sequences with repetition according to their counts\n",
    "cdr3_list = []\n",
    "for index, row in patient_data.iterrows():\n",
    "    cdr3_list.extend([row['CDR3']] * row['counts'])\n",
    "parameters_df = pd.read_excel('/home/gddaslab/mxp140/tcr_project_ultimate/results/results.xlsx', engine='openpyxl', sheet_name='parameters')"
   ]
  },
  {
   "cell_type": "markdown",
   "metadata": {},
   "source": [
    "[POLITIS METHOD](https://normaldeviate.wordpress.com/2013/01/27/bootstrapping-and-subsampling-part-ii/)"
   ]
  },
  {
   "cell_type": "code",
   "execution_count": 45,
   "metadata": {},
   "outputs": [
    {
     "name": "stdout",
     "output_type": "stream",
     "text": [
      "1000 subsamples of size 1000 created.\n"
     ]
    },
    {
     "name": "stderr",
     "output_type": "stream",
     "text": [
      "100%|██████████| 1000/1000 [00:20<00:00, 49.72it/s]\n"
     ]
    },
    {
     "name": "stdout",
     "output_type": "stream",
     "text": [
      "Samples saved as /home/gddaslab/mxp140/tcr_project_ultimate/results/BrMET009_bootstrapped_samples.csv.gz.\n"
     ]
    }
   ],
   "source": [
    "# Calculate the total number of samples needed\n",
    "n = patient_data['counts'].sum()\n",
    "b = 1000\n",
    "N = min(1000, math.comb(n, b))\n",
    "print(f'{N} subsamples of size {b} created.')\n",
    "\n",
    "all_sub_samples = []\n",
    "sub_samples_to_save = pd.DataFrame(columns=[f'sample{i+1}' for i in range(N)])\n",
    "for i in tqdm.tqdm(range(N)):\n",
    "    sub_samples = np.random.choice(cdr3_list, size=b, replace=False)\n",
    "    all_sub_samples.append(sub_samples)\n",
    "    sub_samples_to_save[f'sample{i+1}'] = sub_samples\n",
    "filename = f'/home/gddaslab/mxp140/tcr_project_ultimate/results/{patient_id}_bootstrapped_samples.csv.gz'\n",
    "sub_samples_to_save.to_csv(filename, compression='gzip', sep=',', index=False)\n",
    "print(f'Samples saved as {filename}.')"
   ]
  },
  {
   "cell_type": "code",
   "execution_count": 44,
   "metadata": {},
   "outputs": [
    {
     "name": "stdout",
     "output_type": "stream",
     "text": [
      "Confidence Interval: (np.float64(3.5690568887948126), np.float64(3.5690568887948126))\n"
     ]
    },
    {
     "data": {
      "image/png": "[encoded data removed]",
      "text/plain": [
       "<Figure size 500x500 with 1 Axes>"
      ]
     },
     "metadata": {},
     "output_type": "display_data"
    }
   ],
   "source": [
    "results = pd.read_csv(f'/home/gddaslab/mxp140/tcr_project_ultimate/results/{patient_id}_multiple_optimizations_from_bootstrapped_samples.csv', sep=',')\n",
    "t_values = np.linspace(-3, 3, 1000)\n",
    "theta_hat_b = results['x2'].values\n",
    "theta_hat_n = parameters_df[(parameters_df['Patient']==patient_id) & (parameters_df['Region']=='combined')]['x2_panpep'].values[0]\n",
    "L_n = [np.mean(np.sqrt(b) * (theta_hat_b - theta_hat_n) <= t) for t in t_values]\n",
    "alpha = 0.5\n",
    "# Step 5: Find the quantiles\n",
    "t_alpha_2 = np.quantile(L_n, alpha/2)\n",
    "t_1_alpha_2 = np.quantile(L_n, 1-(alpha/2))\n",
    "\n",
    "# Step 6: Define the confidence interval\n",
    "confidence_interval = (\n",
    "    theta_hat_n - t_1_alpha_2 / np.sqrt(n),\n",
    "    theta_hat_n - t_alpha_2 / np.sqrt(n)\n",
    ")\n",
    "\n",
    "print(\"Confidence Interval:\", confidence_interval)\n",
    "\n",
    "fig, ax = plt.subplots(nrows=1, ncols=1, figsize=(5, 5))\n",
    "sns.histplot(data=results, x='x2')\n",
    "ax.vlines(x=theta_hat_n, ymin=0, ymax=np.max(ax.get_yticks()), color='black', linestyle = 'dashed')\n",
    "ax.vlines(x=confidence_interval[0], ymin=0, ymax=np.max(ax.get_yticks()), color='red')\n",
    "ax.vlines(x=confidence_interval[1], ymin=0, ymax=np.max(ax.get_yticks()), color='red')\n",
    "plt.show()"
   ]
  },
  {
   "cell_type": "code",
   "execution_count": null,
   "metadata": {},
   "outputs": [],
   "source": []
  }
 ],
 "metadata": {
  "kernelspec": {
   "display_name": "numba",
   "language": "python",
   "name": "python3"
  },
  "language_info": {
   "codemirror_mode": {
    "name": "ipython",
    "version": 3
   },
   "file_extension": ".py",
   "mimetype": "text/x-python",
   "name": "python",
   "nbconvert_exporter": "python",
   "pygments_lexer": "ipython3",
   "version": "3.12.8"
  }
 },
 "nbformat": 4,
 "nbformat_minor": 2
}
