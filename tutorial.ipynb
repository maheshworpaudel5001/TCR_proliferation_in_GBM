{
 "cells": [
  {
   "cell_type": "code",
   "execution_count": 4,
   "metadata": {},
   "outputs": [],
   "source": [
    "from probability import probability\n",
    "import warnings\n",
    "import numpy as np\n",
    "from numba import jit\n",
    "from scipy.integrate import quad\n",
    "\n",
    "# Suppress only IntegrationWarning\n",
    "warnings.filterwarnings(\"ignore\")"
   ]
  },
  {
   "cell_type": "code",
   "execution_count": 5,
   "metadata": {},
   "outputs": [],
   "source": [
    "@jit(nopython=True)\n",
    "def integrand(x, xw, xp, ri, Mi):\n",
    "    p = np.exp(-xp * ri * (xw - x))\n",
    "    integrand_value = np.exp(x) * p * ((1 - p) ** (Mi - 1))\n",
    "    return integrand_value\n",
    "\n",
    "\n",
    "def probability(xw, xp, ri, Mi):\n",
    "    factor_up_front = 1.0 / (np.exp(xw) - 1)\n",
    "    integral = quad(\n",
    "        integrand,\n",
    "        0,\n",
    "        xw,\n",
    "        args=(xw, xp, ri, Mi),\n",
    "        limit=200,\n",
    "        epsabs=1e-10,\n",
    "        epsrel=1e-10,\n",
    "    )[0]\n",
    "    return factor_up_front * integral"
   ]
  },
  {
   "cell_type": "markdown",
   "metadata": {},
   "source": [
    "For a given set of $(x_w, x_p, r_i, M_i)$, import 'probability' function from 'probability.py' file. This function calculates probability of proliferation for a single TCR indexed by $i$ given the waiting time $x_w$, proliferation rate $x_p$, propensity to proliferate $r_i$ and observed/expected clone size $M_i$."
   ]
  },
  {
   "cell_type": "code",
   "execution_count": 11,
   "metadata": {},
   "outputs": [],
   "source": [
    "probability = np.vectorize(probability)\n",
    "def new_neg_likelihood(\n",
    "    params, fixed_xw, clone_count_values, scaled_kr_values, verbose=False\n",
    "):\n",
    "    # params is now just x2, fixed_x1 is provided separately\n",
    "    xp = params[0]  # params is now a 1D array with just x2\n",
    "    xw = fixed_xw\n",
    "    n = len(clone_count_values)\n",
    "    xp_values = np.full(n, xp)\n",
    "    xw_values = np.full(n, xw)\n",
    "    \n",
    "    probs = probability(xw_values, xp_values, scaled_kr_values, clone_count_values)\n",
    "    # Replace zero values with the smallest positive value allowed in Python\n",
    "    smallest_positive_value = np.finfo(float).eps\n",
    "    probabilities = np.where(probs == 0, smallest_positive_value, probs)\n",
    "    sum_log_probs = np.sum(np.log(probabilities))\n",
    "    neg_sum = -sum_log_probs\n",
    "\n",
    "    if verbose:\n",
    "        print(f\"Neg-logL: {neg_sum:.8f}\")\n",
    "        print(f\"xp: {xp:.8f}\")\n",
    "        print(f\"=\" * 80)\n",
    "    return neg_sum"
   ]
  },
  {
   "cell_type": "code",
   "execution_count": 12,
   "metadata": {},
   "outputs": [
    {
     "name": "stdout",
     "output_type": "stream",
     "text": [
      "Neg-logL: 131.25685931\n",
      "xp: 0.20000000\n",
      "================================================================================\n"
     ]
    },
    {
     "data": {
      "text/plain": [
       "np.float64(131.25685931382287)"
      ]
     },
     "execution_count": 12,
     "metadata": {},
     "output_type": "execute_result"
    }
   ],
   "source": [
    "new_neg_likelihood([0.2], 100, range(1, 11), [0.1]*10, verbose=True)"
   ]
  },
  {
   "cell_type": "code",
   "execution_count": null,
   "metadata": {},
   "outputs": [],
   "source": [
    "The negative log-likelihood is defined in minimization.py.\n"
   ]
  },
  {
   "cell_type": "markdown",
   "metadata": {},
   "source": []
  }
 ],
 "metadata": {
  "kernelspec": {
   "display_name": "numba",
   "language": "python",
   "name": "python3"
  },
  "language_info": {
   "codemirror_mode": {
    "name": "ipython",
    "version": 3
   },
   "file_extension": ".py",
   "mimetype": "text/x-python",
   "name": "python",
   "nbconvert_exporter": "python",
   "pygments_lexer": "ipython3",
   "version": "3.12.8"
  }
 },
 "nbformat": 4,
 "nbformat_minor": 2
}
