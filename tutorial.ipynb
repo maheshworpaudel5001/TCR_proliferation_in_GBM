{
 "cells": [
  {
   "cell_type": "code",
   "execution_count": 1,
   "metadata": {},
   "outputs": [],
   "source": [
    "import tqdm\n",
    "import numpy as np\n",
    "import pandas as pd\n",
    "import matplotlib.pyplot as plt\n",
    "from scipy.integrate import quad\n",
    "from scipy.optimize import minimize\n",
    "from concurrent.futures import ProcessPoolExecutor"
   ]
  },
  {
   "cell_type": "code",
   "execution_count": 2,
   "metadata": {},
   "outputs": [],
   "source": [
    "def integrand(x, xw, xp, ri, Mi):\n",
    "    p = np.exp(-xp * ri * (xw - x))\n",
    "    integrand_value = np.exp(x) * p * ((1 - p) ** (Mi - 1))\n",
    "    return integrand_value\n",
    "\n",
    "\n",
    "def probability(xw, xp, ri, Mi):\n",
    "    factor_up_front = 1.0 / (np.exp(xw) - 1)\n",
    "    integral = quad(\n",
    "        integrand,\n",
    "        0,\n",
    "        xw,\n",
    "        args=(xw, xp, ri, Mi),\n",
    "        limit=200,\n",
    "        epsabs=1e-10,\n",
    "        epsrel=1e-10,\n",
    "    )[0]\n",
    "    return factor_up_front * integral\n",
    "probability = np.vectorize(probability)"
   ]
  },
  {
   "cell_type": "markdown",
   "metadata": {},
   "source": [
    "The ``probability`` function calculates the likelihood of a TCR proliferating based on its waiting time, proliferation rate, propensity, and expected clone size.\n",
    "\n",
    "Parameters:\n",
    "\n",
    "xw: The waiting time for the TCR.\n",
    "\n",
    "xp: The proliferation rate of the TCR.\n",
    "\n",
    "ri: The propensity to proliferate for the TCR.\n",
    "\n",
    "Mi: The observed or expected clone size."
   ]
  },
  {
   "cell_type": "code",
   "execution_count": 3,
   "metadata": {},
   "outputs": [],
   "source": [
    "\n",
    "def neg_likelihood(\n",
    "    params, fixed_xw, clone_count_values, r_values, verbose=False\n",
    "):\n",
    "    # params is now just xp, fixed_xw is provided separately\n",
    "    xp = params[0]  # params is now a 1D array with just xp\n",
    "    xw = fixed_xw\n",
    "    n = len(clone_count_values)\n",
    "    xp_values = np.full(n, xp)\n",
    "    xw_values = np.full(n, xw)\n",
    "    \n",
    "    probs = probability(xw_values, xp_values, r_values, clone_count_values)\n",
    "    # Replace zero values with the smallest positive value allowed in Python\n",
    "    smallest_positive_value = np.finfo(float).eps\n",
    "    probabilities = np.where(probs == 0, smallest_positive_value, probs)\n",
    "    sum_log_probs = np.sum(np.log(probabilities))\n",
    "    neg_sum = -sum_log_probs\n",
    "\n",
    "    if verbose:\n",
    "        print(f\"Neg-logL: {neg_sum:.8f}\")\n",
    "        print(f\"xp: {xp:.8f}\")\n",
    "        print(f\"=\" * 80)\n",
    "    return neg_sum"
   ]
  },
  {
   "cell_type": "markdown",
   "metadata": {},
   "source": [
    "The neg_likelihood function computes the negative log-likelihood for a collection of TCRs in a patient/datset provided parameters and observed data. Here's a detailed breakdown of its purpose and functionality:\n",
    "\n",
    "Parameters:\n",
    "params: This is expected to be a list or array containing the parameters for the model. In this case, it primarily contains the proliferation rate (xp).\n",
    "fixed_xw: This is the fixed waiting time for the TCR, which is provided separately and remains constant during the optimization process.\n",
    "clone_count_values: This represents the observed counts of TCR clones, which are used to evaluate the model's fit to the data. It is an 1D-array.\n",
    "r_values: These are the propensity values for the TCRs, which are also used in the probability calculations.1D-array.\n",
    "verbose: A boolean flag that, when set to True, enables the function to print detailed output about the negative log-likelihood and the current parameter values.\n",
    "\n",
    "Context:\n",
    "The neg_likelihood function is typically used in statistical modeling and optimization contexts, particularly in fitting models to data. By minimizing the negative log-likelihood, one can find the parameter values that best explain the observed data.\n",
    "In summary, the neg_likelihood function calculates the negative log-likelihood of a statistical model based on the proliferation rate and other parameters, allowing for optimization and fitting of the model to observed TCR clone data."
   ]
  },
  {
   "cell_type": "code",
   "execution_count": 4,
   "metadata": {},
   "outputs": [],
   "source": [
    "def run_optimization(\n",
    "    clone_count_values,\n",
    "    r_values,\n",
    "    fixed_xw,\n",
    "    bounds=((1e-10, 100),),\n",
    "    initial_guess=[5],\n",
    "    verbose=False,\n",
    "):\n",
    "    bounds = [bounds[0]]\n",
    "    initial_guess = initial_guess\n",
    "    result = minimize(\n",
    "        neg_likelihood,\n",
    "        initial_guess,\n",
    "        args=(fixed_xw, clone_count_values, r_values, verbose),\n",
    "        method=\"Nelder-Mead\",\n",
    "        bounds=bounds,\n",
    "    )\n",
    "    xp = result.x[0]\n",
    "    return fixed_xw, xp, initial_guess[0], result.fun"
   ]
  },
  {
   "cell_type": "markdown",
   "metadata": {},
   "source": [
    "The ``run_optimization`` function is designed to optimize the proliferation rate of T-cell receptors (TCRs) based on observed clone count data. Here's a detailed breakdown of its purpose and functionality:\n",
    "Parameters:\n",
    "\n",
    "clone_count_values: This is an array or list of observed counts of TCR clones, which the optimization will aim to fit.\n",
    "\n",
    "r_values: This likely represents the scaled propensity values for the TCRs, which are used in the likelihood calculations.\n",
    "\n",
    "fixed_xw: This is the fixed waiting time for the TCR, which remains constant during the optimization process.\n",
    "\n",
    "bounds: This is a tuple defining the bounds for the proliferation rate (xp). The default is set to a range between 0 and 100.\n",
    "\n",
    "initial_guess: This is the initial guess for the proliferation rate, with a default value of `[5]`.\n",
    "\n",
    "verbose: A boolean flag that, when set to True, enables the function to print detailed output during the optimization process.\n",
    "\n",
    "Functionality:\n",
    "The function first sets the bounds to only include the first element of the provided bounds tuple, which is the range for xp.\n",
    "It then initializes the initial_guess for the optimization.\n",
    "The core of the function uses the minimize function from a numerical optimization library (we use `scipy.optimize`) to minimize the negative log-likelihood calculated by the neg_likelihood function.\n",
    "The minimize function is called with the following parameters:\n",
    "The objective function to minimize (neg_likelihood).\n",
    "The initial guess for the proliferation rate.\n",
    "Additional arguments for the neg_likelihood function, including fixed_xw, clone_count_values, r_values, and verbose.\n",
    "The optimization method specified as \"Nelder-Mead\", which is a simplex algorithm for multidimensional unconstrained optimization.\n",
    "The bounds for the optimization.\n",
    "\n",
    "After the optimization process, the function extracts the optimized proliferation rate (xp) from the result.\n",
    "Finally, it returns the fixed waiting time (fixed_xw), the optimized proliferation rate (xp), the initial guess, and the final value of the minimized function (negative log-likelihood)."
   ]
  },
  {
   "cell_type": "markdown",
   "metadata": {},
   "source": [
    "## Sample Data"
   ]
  },
  {
   "cell_type": "code",
   "execution_count": 5,
   "metadata": {},
   "outputs": [
    {
     "data": {
      "text/html": [
       "<div>\n",
       "<style scoped>\n",
       "    .dataframe tbody tr th:only-of-type {\n",
       "        vertical-align: middle;\n",
       "    }\n",
       "\n",
       "    .dataframe tbody tr th {\n",
       "        vertical-align: top;\n",
       "    }\n",
       "\n",
       "    .dataframe thead th {\n",
       "        text-align: right;\n",
       "    }\n",
       "</style>\n",
       "<table border=\"1\" class=\"dataframe\">\n",
       "  <thead>\n",
       "    <tr style=\"text-align: right;\">\n",
       "      <th></th>\n",
       "      <th>CDR3</th>\n",
       "      <th>r_i</th>\n",
       "      <th>counts</th>\n",
       "    </tr>\n",
       "  </thead>\n",
       "  <tbody>\n",
       "    <tr>\n",
       "      <th>0</th>\n",
       "      <td>CAFRAKLNNYGYTF</td>\n",
       "      <td>17.188025</td>\n",
       "      <td>1</td>\n",
       "    </tr>\n",
       "    <tr>\n",
       "      <th>1</th>\n",
       "      <td>CAFRTWRPQETQYF</td>\n",
       "      <td>23.242105</td>\n",
       "      <td>1</td>\n",
       "    </tr>\n",
       "    <tr>\n",
       "      <th>2</th>\n",
       "      <td>CAFSSGRGYEQYF</td>\n",
       "      <td>38.622536</td>\n",
       "      <td>1</td>\n",
       "    </tr>\n",
       "    <tr>\n",
       "      <th>3</th>\n",
       "      <td>CAIRDPGAEVSYTF</td>\n",
       "      <td>28.988109</td>\n",
       "      <td>2</td>\n",
       "    </tr>\n",
       "    <tr>\n",
       "      <th>4</th>\n",
       "      <td>CAIRDSPGSYNEQFF</td>\n",
       "      <td>39.799374</td>\n",
       "      <td>2</td>\n",
       "    </tr>\n",
       "  </tbody>\n",
       "</table>\n",
       "</div>"
      ],
      "text/plain": [
       "              CDR3        r_i  counts\n",
       "0   CAFRAKLNNYGYTF  17.188025       1\n",
       "1   CAFRTWRPQETQYF  23.242105       1\n",
       "2    CAFSSGRGYEQYF  38.622536       1\n",
       "3   CAIRDPGAEVSYTF  28.988109       2\n",
       "4  CAIRDSPGSYNEQFF  39.799374       2"
      ]
     },
     "execution_count": 5,
     "metadata": {},
     "output_type": "execute_result"
    }
   ],
   "source": [
    "#Here we pull sample data. We take 'BrMET008_region1' as sample patient region.\n",
    "data = pd.read_csv('BrMET008_region1.csv', sep=',')\n",
    "data.head()"
   ]
  },
  {
   "cell_type": "code",
   "execution_count": 6,
   "metadata": {},
   "outputs": [
    {
     "name": "stdout",
     "output_type": "stream",
     "text": [
      "Neg-logL: 690.05844956\n",
      "xp: 5.00000000\n",
      "================================================================================\n",
      "Neg-logL: 695.92226031\n",
      "xp: 5.25000000\n",
      "================================================================================\n",
      "Neg-logL: 684.50353974\n",
      "xp: 4.75000000\n",
      "================================================================================\n",
      "Neg-logL: 679.32394002\n",
      "xp: 4.50000000\n",
      "================================================================================\n",
      "Neg-logL: 670.43290174\n",
      "xp: 4.00000000\n",
      "================================================================================\n",
      "Neg-logL: 664.28916119\n",
      "xp: 3.50000000\n",
      "================================================================================\n",
      "Neg-logL: 666.91266987\n",
      "xp: 2.50000000\n",
      "================================================================================\n",
      "Neg-logL: 662.32075601\n",
      "xp: 3.00000000\n",
      "================================================================================\n",
      "Neg-logL: 666.91266987\n",
      "xp: 2.50000000\n",
      "================================================================================\n",
      "Neg-logL: 662.66385254\n",
      "xp: 3.25000000\n",
      "================================================================================\n",
      "Neg-logL: 663.59016065\n",
      "xp: 2.75000000\n",
      "================================================================================\n",
      "Neg-logL: 662.31352304\n",
      "xp: 3.12500000\n",
      "================================================================================\n",
      "Neg-logL: 662.66385254\n",
      "xp: 3.25000000\n",
      "================================================================================\n",
      "Neg-logL: 662.26984665\n",
      "xp: 3.06250000\n",
      "================================================================================\n",
      "Neg-logL: 662.32075601\n",
      "xp: 3.00000000\n",
      "================================================================================\n",
      "Neg-logL: 662.28020046\n",
      "xp: 3.09375000\n",
      "================================================================================\n",
      "Neg-logL: 662.28313328\n",
      "xp: 3.03125000\n",
      "================================================================================\n",
      "Neg-logL: 662.27211103\n",
      "xp: 3.07812500\n",
      "================================================================================\n",
      "Neg-logL: 662.27349201\n",
      "xp: 3.04687500\n",
      "================================================================================\n",
      "Neg-logL: 662.27024545\n",
      "xp: 3.07031250\n",
      "================================================================================\n",
      "Neg-logL: 662.27092526\n",
      "xp: 3.05468750\n",
      "================================================================================\n",
      "Neg-logL: 662.26986204\n",
      "xp: 3.06640625\n",
      "================================================================================\n",
      "Neg-logL: 662.27020061\n",
      "xp: 3.05859375\n",
      "================================================================================\n",
      "Neg-logL: 662.26980826\n",
      "xp: 3.06445312\n",
      "================================================================================\n",
      "Neg-logL: 662.26986204\n",
      "xp: 3.06640625\n",
      "================================================================================\n",
      "Neg-logL: 662.26981593\n",
      "xp: 3.06347656\n",
      "================================================================================\n",
      "Neg-logL: 662.26982364\n",
      "xp: 3.06542969\n",
      "================================================================================\n",
      "Neg-logL: 662.26980921\n",
      "xp: 3.06396484\n",
      "================================================================================\n",
      "Neg-logL: 662.26981307\n",
      "xp: 3.06494141\n",
      "================================================================================\n",
      "Neg-logL: 662.26980802\n",
      "xp: 3.06420898\n",
      "================================================================================\n",
      "Neg-logL: 662.26980921\n",
      "xp: 3.06396484\n",
      "================================================================================\n",
      "Neg-logL: 662.26980796\n",
      "xp: 3.06433105\n",
      "================================================================================\n",
      "Neg-logL: 662.26980826\n",
      "xp: 3.06445312\n",
      "================================================================================\n",
      "Neg-logL: 662.26980794\n",
      "xp: 3.06427002\n",
      "================================================================================\n"
     ]
    }
   ],
   "source": [
    "# Here we show how to run optimization and extract optimum parameters.\n",
    "clone_count_values = data['counts'].values\n",
    "scaling_constant = 223.63591068\n",
    "r_values = data['r_i'].values/scaling_constant\n",
    "xw_opt, xp_opt, _, neg_logl = run_optimization(clone_count_values=clone_count_values, r_values=r_values, fixed_xw=100, verbose=True)"
   ]
  },
  {
   "cell_type": "markdown",
   "metadata": {},
   "source": [
    "The block below defines two functions, `calc_probs_for_single_tcr` and `calc_probs_for_every_tcr`, which are used to compute the probability distributions of clone sizes for every observed unique T-cell receptors (TCRs) based on model parameters.\n",
    "1. `calc_probs_for_single_tcr`\n",
    "Purpose:\n",
    "Calculates the probability distribution of clone sizes for a single TCR, given its propensity (ri), waiting time (xw), proliferation rate (xp), and the user given maximum clone size (maxM).\n",
    "How it works:\n",
    "It returns a list of probabilities, where each entry corresponds to the probability of observing a clone size from 1 up to maxM, as computed by the probability function.\n",
    "2. `calc_probs_for_every_tcr`\n",
    "Purpose:\n",
    "Efficiently computes the probability distributions for all TCRs in a dataset, leveraging parallel processing for speed.\n",
    "How it works:\n",
    "Takes an array of propensities (r), corresponding for each TCR and calculates their probability distribution using `calc_probs_for_single_tcr`.\n",
    "Uses Python’s `ProcessPoolExecutor` to parallelize the computation across multiple CPU cores, which is especially useful when dealing with large datasets.\n",
    "Progress is tracked using `tqdm` for a visual progress bar.\n",
    "The results are collected into a 2D NumPy array, where each row corresponds to a TCR and each column to the probability of clone sizes ranging from 1 to `maxM`.\n",
    "If the input is not a 1D array, it raises a ValueError to ensure correct usage.\n",
    "Summary:\n",
    "These functions are essential for simulating or analyzing the expected clone size distributions for a population of TCRs, given model parameters, and are optimized for performance using parallel computation."
   ]
  },
  {
   "cell_type": "code",
   "execution_count": 7,
   "metadata": {},
   "outputs": [],
   "source": [
    "def calc_probs_for_single_tcr(ri, xw, xp, maxM):\n",
    "    return [probability(xw, xp, ri, M) for M in range(1, maxM + 1)]\n",
    "\n",
    "\n",
    "def calc_probs_for_every_tcr(r, xw, xp, maxM, disable_progressbar=False):\n",
    "    if isinstance(r, np.ndarray) and r.ndim == 1:\n",
    "        with ProcessPoolExecutor(max_workers=min(len(r), 30)) as executor:\n",
    "            # Submit all tasks and get futures\n",
    "            futures = [\n",
    "                executor.submit(calc_probs_for_single_tcr, r_i, xw, xp, maxM)\n",
    "                for r_i in r\n",
    "            ]\n",
    "            # Use tqdm to track completion of futures\n",
    "            results = list(\n",
    "                tqdm.tqdm(\n",
    "                    (future.result() for future in futures),\n",
    "                    total=len(r),\n",
    "                    desc=\"Processing TCRs\",\n",
    "                    disable=disable_progressbar,\n",
    "                )\n",
    "            )\n",
    "        return np.array(results)\n",
    "    else:\n",
    "        raise ValueError(\"kr must be 1D array or a 1D list.\")"
   ]
  },
  {
   "cell_type": "code",
   "execution_count": 8,
   "metadata": {},
   "outputs": [
    {
     "name": "stdout",
     "output_type": "stream",
     "text": [
      "probs_for first TCR = 1.00\n"
     ]
    }
   ],
   "source": [
    "ri_for_first_tcr = data['r_i'].values[0]\n",
    "probs = calc_probs_for_single_tcr(ri_for_first_tcr/scaling_constant, xw_opt, xp_opt, 1000)\n",
    "print(f'probs_for first TCR = {np.sum(probs):.2f}')"
   ]
  },
  {
   "cell_type": "markdown",
   "metadata": {},
   "source": [
    "##### In the above block of execution, note that we check of the sum of the probabilities calculated for the TCR between 1 and maxM=1000 sum to 1. We recommend to choose a large value of maxM (at least 1 order higher than the order of maximum observed clone size) as it ensures the probabilities sum to 1 for all the observed TCRs."
   ]
  },
  {
   "cell_type": "code",
   "execution_count": 9,
   "metadata": {},
   "outputs": [
    {
     "name": "stderr",
     "output_type": "stream",
     "text": [
      "Processing TCRs: 100%|██████████| 654/654 [00:31<00:00, 20.71it/s]\n"
     ]
    },
    {
     "name": "stdout",
     "output_type": "stream",
     "text": [
      "(654, 1000)\n"
     ]
    }
   ],
   "source": [
    "ri_for_all_tcrs = data['r_i'].values\n",
    "probs_ = calc_probs_for_every_tcr(ri_for_all_tcrs/scaling_constant, xw_opt, xp_opt, 1000, disable_progressbar=False)\n",
    "print(probs_.shape)"
   ]
  },
  {
   "cell_type": "markdown",
   "metadata": {},
   "source": [
    "### Given the probability arrray `probs_` calculated above which is of shape (number_of_tcrs, range(1, maxM+1)), the code block below has a function 'generate_configuration' which generates configuration for each tcr (row in `probs_`) between minimum clone size  `min_clone_size` and maximum clone size `max_clone_size` from the probability values corresponding to each row. The `sample_size` argument allows to choose the number of clones to generate in one configuration. The `disable_progressbar` allows you to track the progress of generating the configuration."
   ]
  },
  {
   "cell_type": "code",
   "execution_count": 10,
   "metadata": {},
   "outputs": [],
   "source": [
    "def generate_configuration(\n",
    "    prob_array,\n",
    "    min_clone_size=1,\n",
    "    max_clone_size=None,\n",
    "    sample_size=1,\n",
    "    disable_progressbar=False,\n",
    "):\n",
    "    if prob_array.ndim == 1:\n",
    "        assert max_clone_size == min_clone_size + len(\n",
    "            prob_array\n",
    "        ), f\"max_clone_size ({max_clone_size}) must equal min_clone_size ({min_clone_size}) + len(prob_array) ({len(prob_array)})\"\n",
    "        config_per_tcr = np.random.choice(\n",
    "            range(min_clone_size, len(prob_array) + min_clone_size),\n",
    "            size=sample_size,\n",
    "            replace=True,\n",
    "            p=prob_array / sum(prob_array),\n",
    "        )\n",
    "        return config_per_tcr\n",
    "    elif prob_array.ndim == 2:  # Ensure we only handle 1D and 2D arrays\n",
    "        assert (\n",
    "            max_clone_size == min_clone_size + prob_array.shape[1]\n",
    "        ), f\"max_clone_size ({max_clone_size}) must equal min_clone_size ({min_clone_size}) + prob_array.shape[1] ({prob_array.shape[1]})\"\n",
    "\n",
    "        all_configs = np.empty((prob_array.shape[0], sample_size))\n",
    "        for i in tqdm.tqdm(\n",
    "            range(prob_array.shape[0]),\n",
    "            total=prob_array.shape[0],\n",
    "            desc=\"Generating configuration for each TCR\",\n",
    "            leave=True,\n",
    "            disable=disable_progressbar,\n",
    "        ):\n",
    "            # config_per_tcr = generate_configuration_per_tcr(prob_array[i, :], size)\n",
    "            config_per_tcr = np.random.choice(\n",
    "                range(min_clone_size, prob_array.shape[1] + min_clone_size),\n",
    "                size=sample_size,\n",
    "                replace=True,\n",
    "                p=prob_array[i, :] / sum(prob_array[i, :]),\n",
    "            )\n",
    "            all_configs[i, :] = config_per_tcr\n",
    "        return all_configs\n",
    "    else:\n",
    "        raise ValueError(\"Input array must be either 1D or 2D.\")"
   ]
  },
  {
   "cell_type": "code",
   "execution_count": 11,
   "metadata": {},
   "outputs": [
    {
     "name": "stderr",
     "output_type": "stream",
     "text": [
      "Generating configuration for each TCR: 100%|██████████| 654/654 [00:00<00:00, 8101.82it/s]"
     ]
    },
    {
     "name": "stdout",
     "output_type": "stream",
     "text": [
      "(654, 1000)\n"
     ]
    },
    {
     "name": "stderr",
     "output_type": "stream",
     "text": [
      "\n"
     ]
    }
   ],
   "source": [
    "model_config = generate_configuration(probs_, min_clone_size=1, max_clone_size=probs_.shape[1]+1, sample_size=1000, disable_progressbar=False)\n",
    "print(model_config.shape)"
   ]
  },
  {
   "cell_type": "markdown",
   "metadata": {},
   "source": [
    "##### As you can see above, for BrMET008-region1 there are 654 unique TCRs and the above function generated configuration for each tcr rowwise with a sample size of 1000. We now consider that each column each a possible configuration likely to be observed as model generated. Hence there are 1000 configurations we have generated.\n",
    "\n",
    "##### The code block below then processes above configuration to calculate confidence interval at each generated clone size with following restrictions:\n",
    "1. A clone size has to be observed at least `least_number_of_observations` times. We choose this value to be 10.\n",
    "At each generated clone size, the confidence interval is central 95% mass of probabilities for the respective clone size obtained from `sample_size=1000` configurations we generated."
   ]
  },
  {
   "cell_type": "code",
   "execution_count": 14,
   "metadata": {},
   "outputs": [],
   "source": [
    "def process_column(col_data):\n",
    "    values, probabilities = np.unique(col_data, return_counts=True)\n",
    "    return values, probabilities/sum(probabilities)\n",
    "\n",
    "def ci_pdf(configs, alpha=5, least_number_of_observations=1):\n",
    "\n",
    "    # configs must be a two dimensional array of shape (#tcr, #configs per tcr)\n",
    "    if configs.ndim >= 2:\n",
    "        pdf_dict = {}\n",
    "\n",
    "        # Use ProcessPoolExecutor to parallelize the processing of columns\n",
    "        with ProcessPoolExecutor() as executor:\n",
    "            results = list(\n",
    "                executor.map(\n",
    "                    process_column, [configs[:, col] for col in range(configs.shape[1])]\n",
    "                )\n",
    "            )\n",
    "\n",
    "        # Iterate over the results and populate the pdf_dict\n",
    "        for values, probabilities in results:\n",
    "            for value, probability in zip(values, probabilities):\n",
    "                if value not in pdf_dict:\n",
    "                    pdf_dict[value] = []\n",
    "                pdf_dict[value].append(probability)\n",
    "\n",
    "        # Calculate alpha% level of significance\n",
    "        confidence_intervals = {}\n",
    "        for key, probs in pdf_dict.items():\n",
    "            if len(probs) > least_number_of_observations:\n",
    "                median_prob = np.median(probs)\n",
    "                lb = np.percentile(probs, alpha / 2)\n",
    "                ub = np.percentile(probs, 100 - alpha / 2)\n",
    "                confidence_intervals[key] = (lb, median_prob, ub)\n",
    "            else:\n",
    "                continue\n",
    "\n",
    "        df = pd.DataFrame.from_dict(\n",
    "            confidence_intervals, orient=\"index\", columns=[\"lower\", \"median\", \"upper\"]\n",
    "        )\n",
    "\n",
    "        # Add the keys as a column named 'clone_size'\n",
    "        df.reset_index(inplace=True)\n",
    "        df.rename(columns={\"index\": \"clone_size\"}, inplace=True)\n",
    "\n",
    "        # Order the rows in increasing clone size\n",
    "        df.sort_values(by=\"clone_size\", inplace=True)\n",
    "\n",
    "        if df.empty:\n",
    "            raise ValueError(\"The resulting DataFrame is empty.\")\n",
    "        else:\n",
    "            return df\n",
    "    else:\n",
    "        raise ValueError(\"CI cannot be calculated for single configuration.\")"
   ]
  },
  {
   "cell_type": "code",
   "execution_count": 15,
   "metadata": {},
   "outputs": [
    {
     "data": {
      "text/html": [
       "<div>\n",
       "<style scoped>\n",
       "    .dataframe tbody tr th:only-of-type {\n",
       "        vertical-align: middle;\n",
       "    }\n",
       "\n",
       "    .dataframe tbody tr th {\n",
       "        vertical-align: top;\n",
       "    }\n",
       "\n",
       "    .dataframe thead th {\n",
       "        text-align: right;\n",
       "    }\n",
       "</style>\n",
       "<table border=\"1\" class=\"dataframe\">\n",
       "  <thead>\n",
       "    <tr style=\"text-align: right;\">\n",
       "      <th></th>\n",
       "      <th>clone_size</th>\n",
       "      <th>lower</th>\n",
       "      <th>median</th>\n",
       "      <th>upper</th>\n",
       "    </tr>\n",
       "  </thead>\n",
       "  <tbody>\n",
       "    <tr>\n",
       "      <th>0</th>\n",
       "      <td>1.0</td>\n",
       "      <td>0.681957</td>\n",
       "      <td>0.715596</td>\n",
       "      <td>0.747706</td>\n",
       "    </tr>\n",
       "    <tr>\n",
       "      <th>1</th>\n",
       "      <td>2.0</td>\n",
       "      <td>0.126911</td>\n",
       "      <td>0.152905</td>\n",
       "      <td>0.183486</td>\n",
       "    </tr>\n",
       "    <tr>\n",
       "      <th>2</th>\n",
       "      <td>3.0</td>\n",
       "      <td>0.039755</td>\n",
       "      <td>0.055046</td>\n",
       "      <td>0.073394</td>\n",
       "    </tr>\n",
       "    <tr>\n",
       "      <th>3</th>\n",
       "      <td>4.0</td>\n",
       "      <td>0.015291</td>\n",
       "      <td>0.025994</td>\n",
       "      <td>0.039755</td>\n",
       "    </tr>\n",
       "    <tr>\n",
       "      <th>4</th>\n",
       "      <td>5.0</td>\n",
       "      <td>0.006116</td>\n",
       "      <td>0.013761</td>\n",
       "      <td>0.024465</td>\n",
       "    </tr>\n",
       "  </tbody>\n",
       "</table>\n",
       "</div>"
      ],
      "text/plain": [
       "   clone_size     lower    median     upper\n",
       "0         1.0  0.681957  0.715596  0.747706\n",
       "1         2.0  0.126911  0.152905  0.183486\n",
       "2         3.0  0.039755  0.055046  0.073394\n",
       "3         4.0  0.015291  0.025994  0.039755\n",
       "4         5.0  0.006116  0.013761  0.024465"
      ]
     },
     "execution_count": 15,
     "metadata": {},
     "output_type": "execute_result"
    }
   ],
   "source": [
    "ci_df = ci_pdf(model_config, alpha=5, least_number_of_observations=10)\n",
    "ci_df.head()"
   ]
  },
  {
   "cell_type": "markdown",
   "metadata": {},
   "source": [
    "##### The code block below has a function `plot_pdf` which simply plots the observed data in terms of probabilities."
   ]
  },
  {
   "cell_type": "code",
   "execution_count": 16,
   "metadata": {},
   "outputs": [],
   "source": [
    "def plot_pdf(config_data, raw=True):\n",
    "    fig, ax = plt.subplots(\n",
    "        nrows=1,\n",
    "        ncols=1,\n",
    "        figsize=(10, 5),\n",
    "    )\n",
    "    if raw:\n",
    "        data = np.unique(config_data, return_counts=True)\n",
    "        x_data, y_data = data[0], data[1] / sum(data[1])\n",
    "    else:\n",
    "        x_data, y_data = config_data[0], config_data[1]\n",
    "\n",
    "    ax.scatter(\n",
    "        x_data,\n",
    "        y_data,\n",
    "        s=50,\n",
    "        facecolors=\"blue\",\n",
    "        edgecolors=\"blue\",\n",
    "        label=\"data\",\n",
    "        zorder=2,\n",
    "    )\n",
    "    ax.set_xscale(\"log\")\n",
    "    ax.set_yscale(\"log\")\n",
    "\n",
    "    offset = 0.30\n",
    "    ax.set_xlim(min(x_data) - offset * min(x_data), max(x_data) + offset * max(x_data))\n",
    "    ax.set_ylim(min(y_data) - offset * min(y_data), max(y_data) + offset * max(y_data))\n",
    "\n",
    "    ax.legend(loc=\"best\")\n",
    "    return fig, ax"
   ]
  },
  {
   "cell_type": "markdown",
   "metadata": {},
   "source": [
    "##### Then we add the CI band in the plot as below.The data points are shown as solid blue dots and the CI is shown in blue bands. Note that the band in fact is a discrete band and any shaded region between consecutive clone sizes carry no meaning. We could have chosen to show a whisker at each clone size and considered it as a model error bar."
   ]
  },
  {
   "cell_type": "code",
   "execution_count": 17,
   "metadata": {},
   "outputs": [
    {
     "data": {
      "image/png": "[encoded data removed]",
      "text/plain": [
       "<Figure size 1000x500 with 1 Axes>"
      ]
     },
     "metadata": {},
     "output_type": "display_data"
    }
   ],
   "source": [
    "fig, ax = plot_pdf(clone_count_values)\n",
    "ax.fill_between(ci_df['clone_size'], ci_df['lower'], ci_df['upper'], color='royalblue', alpha=0.5, label='CI')\n",
    "plt.legend(loc='best')\n",
    "plt.show()"
   ]
  },
  {
   "cell_type": "markdown",
   "metadata": {},
   "source": [
    "# Coverage probability: This quantity is the fraction of data points that lie inside the confidence interval. Following is how we calculate the coverage probability for patient region 'BrMET008-region1\" regarding the above plot."
   ]
  },
  {
   "cell_type": "markdown",
   "metadata": {},
   "source": [
    "We have the discrete observed countsfor this patient region as `clone_count_values`. We create a PDF out of it and call it `data` which we collect and frame it as a dataframe `data_df` with column names `x` and `y` where `x` contains the observed clone sizes and `y` contains the corresponding probability normalized to observed data. Then we merge `data_df` with the `ci_df` that we calculated earlier on the same observed clone sizes in the data and that appears during the generation of configuration via model. Then for each observed clone size `x` we check if the corresponding probability `y` lies inside the `95%` mass of probabilities generated at that clone size from the model. Finally we count the fraction of instances that lies inside the 95% mass per clone size."
   ]
  },
  {
   "cell_type": "code",
   "execution_count": 18,
   "metadata": {},
   "outputs": [
    {
     "name": "stdout",
     "output_type": "stream",
     "text": [
      "Coverage probability for patient region BrMET008-region1: 100.0%\n"
     ]
    }
   ],
   "source": [
    "data = np.unique(clone_count_values, return_counts=True)\n",
    "x, y = data[0], data[1] / sum(data[1])\n",
    "data_df = pd.DataFrame({'x':x, 'y':y})\n",
    "new_df = pd.merge(left=ci_df, right=data_df, left_on='clone_size', right_on='x')\n",
    "new_df['y_in_CI'] = (new_df['y'] >= new_df['lower']) & (new_df['y'] <= new_df['upper'])\n",
    "count_inside_CI = new_df['y_in_CI'].sum()/new_df.shape[0]\n",
    "print(f\"Coverage probability for patient region BrMET008-region1: {count_inside_CI*100}%\")"
   ]
  },
  {
   "cell_type": "markdown",
   "metadata": {},
   "source": [
    "We must have chosen an ideal case by random chance here as the coverage probability is 100%."
   ]
  },
  {
   "cell_type": "markdown",
   "metadata": {},
   "source": [
    "## Ranking the neoantigens based on the mean clone size they produce:"
   ]
  },
  {
   "cell_type": "markdown",
   "metadata": {},
   "source": [
    "##### First we import the relevant data. The dataframe below has 3 columns. The first column `Peptide` contains peptide sequences. The second column `CDR3` contains TCR sequences. The 3rd column `Score` contains PanPep score for the pair of peptide and tcr correspnoding to the row."
   ]
  },
  {
   "cell_type": "code",
   "execution_count": 31,
   "metadata": {},
   "outputs": [
    {
     "data": {
      "text/html": [
       "<div>\n",
       "<style scoped>\n",
       "    .dataframe tbody tr th:only-of-type {\n",
       "        vertical-align: middle;\n",
       "    }\n",
       "\n",
       "    .dataframe tbody tr th {\n",
       "        vertical-align: top;\n",
       "    }\n",
       "\n",
       "    .dataframe thead th {\n",
       "        text-align: right;\n",
       "    }\n",
       "</style>\n",
       "<table border=\"1\" class=\"dataframe\">\n",
       "  <thead>\n",
       "    <tr style=\"text-align: right;\">\n",
       "      <th></th>\n",
       "      <th>Peptide</th>\n",
       "      <th>CDR3</th>\n",
       "      <th>Score</th>\n",
       "    </tr>\n",
       "  </thead>\n",
       "  <tbody>\n",
       "    <tr>\n",
       "      <th>0</th>\n",
       "      <td>YPRRIQLSRM</td>\n",
       "      <td>CAFRAKLNNYGYTF</td>\n",
       "      <td>0.254282</td>\n",
       "    </tr>\n",
       "    <tr>\n",
       "      <th>1</th>\n",
       "      <td>YPRRIQLSRM</td>\n",
       "      <td>CAFRTWRPQETQYF</td>\n",
       "      <td>0.320246</td>\n",
       "    </tr>\n",
       "    <tr>\n",
       "      <th>2</th>\n",
       "      <td>YPRRIQLSRM</td>\n",
       "      <td>CAFSSGRGYEQYF</td>\n",
       "      <td>0.495913</td>\n",
       "    </tr>\n",
       "    <tr>\n",
       "      <th>3</th>\n",
       "      <td>YPRRIQLSRM</td>\n",
       "      <td>CAIRDPGAEVSYTF</td>\n",
       "      <td>0.403382</td>\n",
       "    </tr>\n",
       "    <tr>\n",
       "      <th>4</th>\n",
       "      <td>YPRRIQLSRM</td>\n",
       "      <td>CAIRDSPGSYNEQFF</td>\n",
       "      <td>0.584113</td>\n",
       "    </tr>\n",
       "  </tbody>\n",
       "</table>\n",
       "</div>"
      ],
      "text/plain": [
       "      Peptide             CDR3     Score\n",
       "0  YPRRIQLSRM   CAFRAKLNNYGYTF  0.254282\n",
       "1  YPRRIQLSRM   CAFRTWRPQETQYF  0.320246\n",
       "2  YPRRIQLSRM    CAFSSGRGYEQYF  0.495913\n",
       "3  YPRRIQLSRM   CAIRDPGAEVSYTF  0.403382\n",
       "4  YPRRIQLSRM  CAIRDSPGSYNEQFF  0.584113"
      ]
     },
     "execution_count": 31,
     "metadata": {},
     "output_type": "execute_result"
    }
   ],
   "source": [
    "panpep_score_df = pd.read_csv('BrMET008_region1_panpep_scores.csv', sep=',')\n",
    "panpep_score_df.head()"
   ]
  },
  {
   "cell_type": "code",
   "execution_count": 20,
   "metadata": {},
   "outputs": [
    {
     "data": {
      "text/plain": [
       "69"
      ]
     },
     "execution_count": 20,
     "metadata": {},
     "output_type": "execute_result"
    }
   ],
   "source": [
    "unique_peptide_count = panpep_score_df['Peptide'].nunique()\n",
    "unique_peptide_count"
   ]
  },
  {
   "cell_type": "markdown",
   "metadata": {},
   "source": [
    "##### There are 69 unique peptide sequences. We then run the pipeline 'calc_probs_for_every_tcr -> generate_configuration -> mean(generated configurations)' as below for each peptide at a time. In each peptide case, the propensity values are substituted by the PanPep score values corresponding to the peptide. The score values are rescaled by the total number of unique peptides for patient region BrMET008-region1 and then divided by the same scaling constant used to scale the original propensity values."
   ]
  },
  {
   "cell_type": "code",
   "execution_count": 21,
   "metadata": {},
   "outputs": [
    {
     "name": "stderr",
     "output_type": "stream",
     "text": [
      "Processing TCRs: 100%|██████████| 654/654 [00:32<00:00, 20.29it/s]\n",
      "Generating configuration for each TCR: 100%|██████████| 654/654 [00:00<00:00, 8054.03it/s]\n",
      "Processing TCRs: 100%|██████████| 654/654 [00:31<00:00, 20.84it/s]\n",
      "Generating configuration for each TCR: 100%|██████████| 654/654 [00:00<00:00, 8082.96it/s]\n",
      "Processing TCRs: 100%|██████████| 654/654 [00:32<00:00, 20.12it/s]\n",
      "Generating configuration for each TCR: 100%|██████████| 654/654 [00:00<00:00, 8188.11it/s]\n",
      "Processing TCRs: 100%|██████████| 654/654 [00:30<00:00, 21.24it/s]\n",
      "Generating configuration for each TCR: 100%|██████████| 654/654 [00:00<00:00, 8154.42it/s]\n",
      "Processing TCRs: 100%|██████████| 654/654 [00:31<00:00, 20.86it/s]\n",
      "Generating configuration for each TCR: 100%|██████████| 654/654 [00:00<00:00, 8180.10it/s]\n",
      "Processing TCRs: 100%|██████████| 654/654 [00:31<00:00, 20.48it/s]\n",
      "Generating configuration for each TCR: 100%|██████████| 654/654 [00:00<00:00, 8098.57it/s]\n",
      "Processing TCRs: 100%|██████████| 654/654 [00:33<00:00, 19.41it/s]\n",
      "Generating configuration for each TCR: 100%|██████████| 654/654 [00:00<00:00, 8042.34it/s]\n",
      "Processing TCRs: 100%|██████████| 654/654 [00:34<00:00, 19.13it/s]\n",
      "Generating configuration for each TCR: 100%|██████████| 654/654 [00:00<00:00, 7948.22it/s]\n",
      "Processing TCRs: 100%|██████████| 654/654 [00:31<00:00, 20.70it/s]\n",
      "Generating configuration for each TCR: 100%|██████████| 654/654 [00:00<00:00, 8174.98it/s]\n",
      "Processing TCRs: 100%|██████████| 654/654 [00:32<00:00, 19.92it/s]\n",
      "Generating configuration for each TCR: 100%|██████████| 654/654 [00:00<00:00, 8096.85it/s]\n",
      "Processing TCRs: 100%|██████████| 654/654 [00:33<00:00, 19.69it/s]\n",
      "Generating configuration for each TCR: 100%|██████████| 654/654 [00:00<00:00, 8091.14it/s]\n",
      "Processing TCRs: 100%|██████████| 654/654 [00:31<00:00, 20.60it/s]\n",
      "Generating configuration for each TCR: 100%|██████████| 654/654 [00:00<00:00, 8152.07it/s]\n",
      "Processing TCRs: 100%|██████████| 654/654 [00:31<00:00, 20.67it/s]\n",
      "Generating configuration for each TCR: 100%|██████████| 654/654 [00:00<00:00, 8082.06it/s]\n",
      "Processing TCRs: 100%|██████████| 654/654 [00:32<00:00, 20.32it/s]\n",
      "Generating configuration for each TCR: 100%|██████████| 654/654 [00:00<00:00, 8101.13it/s]\n",
      "Processing TCRs: 100%|██████████| 654/654 [00:30<00:00, 21.34it/s]\n",
      "Generating configuration for each TCR: 100%|██████████| 654/654 [00:00<00:00, 8237.96it/s]\n",
      "Processing TCRs: 100%|██████████| 654/654 [00:31<00:00, 21.01it/s]\n",
      "Generating configuration for each TCR: 100%|██████████| 654/654 [00:00<00:00, 8187.45it/s]\n",
      "Processing TCRs: 100%|██████████| 654/654 [00:33<00:00, 19.80it/s]\n",
      "Generating configuration for each TCR: 100%|██████████| 654/654 [00:00<00:00, 8081.37it/s]\n",
      "Processing TCRs: 100%|██████████| 654/654 [00:32<00:00, 20.04it/s]\n",
      "Generating configuration for each TCR: 100%|██████████| 654/654 [00:00<00:00, 8138.72it/s]\n",
      "Processing TCRs: 100%|██████████| 654/654 [00:31<00:00, 20.67it/s]\n",
      "Generating configuration for each TCR: 100%|██████████| 654/654 [00:00<00:00, 8049.26it/s]\n",
      "Processing TCRs: 100%|██████████| 654/654 [00:32<00:00, 20.11it/s]\n",
      "Generating configuration for each TCR: 100%|██████████| 654/654 [00:00<00:00, 8026.25it/s]\n",
      "Processing TCRs: 100%|██████████| 654/654 [00:32<00:00, 20.06it/s]\n",
      "Generating configuration for each TCR: 100%|██████████| 654/654 [00:00<00:00, 8137.66it/s]\n",
      "Processing TCRs: 100%|██████████| 654/654 [00:31<00:00, 20.62it/s]\n",
      "Generating configuration for each TCR: 100%|██████████| 654/654 [00:00<00:00, 8106.01it/s]\n",
      "Processing TCRs: 100%|██████████| 654/654 [00:32<00:00, 19.97it/s]\n",
      "Generating configuration for each TCR: 100%|██████████| 654/654 [00:00<00:00, 8144.52it/s]\n",
      "Processing TCRs: 100%|██████████| 654/654 [00:31<00:00, 20.90it/s]\n",
      "Generating configuration for each TCR: 100%|██████████| 654/654 [00:00<00:00, 8193.47it/s]\n",
      "Processing TCRs: 100%|██████████| 654/654 [00:32<00:00, 20.06it/s]\n",
      "Generating configuration for each TCR: 100%|██████████| 654/654 [00:00<00:00, 8039.92it/s]\n",
      "Processing TCRs: 100%|██████████| 654/654 [00:33<00:00, 19.77it/s]\n",
      "Generating configuration for each TCR: 100%|██████████| 654/654 [00:00<00:00, 8071.26it/s]\n",
      "Processing TCRs: 100%|██████████| 654/654 [00:32<00:00, 20.32it/s]\n",
      "Generating configuration for each TCR: 100%|██████████| 654/654 [00:00<00:00, 8109.39it/s]\n",
      "Processing TCRs: 100%|██████████| 654/654 [00:32<00:00, 20.20it/s]\n",
      "Generating configuration for each TCR: 100%|██████████| 654/654 [00:00<00:00, 8060.73it/s]\n",
      "Processing TCRs: 100%|██████████| 654/654 [00:30<00:00, 21.49it/s]\n",
      "Generating configuration for each TCR: 100%|██████████| 654/654 [00:00<00:00, 8197.46it/s]\n",
      "Processing TCRs: 100%|██████████| 654/654 [00:31<00:00, 20.99it/s]\n",
      "Generating configuration for each TCR: 100%|██████████| 654/654 [00:00<00:00, 8175.18it/s]\n",
      "Processing TCRs: 100%|██████████| 654/654 [00:32<00:00, 20.21it/s]\n",
      "Generating configuration for each TCR: 100%|██████████| 654/654 [00:00<00:00, 8093.67it/s]\n",
      "Processing TCRs: 100%|██████████| 654/654 [00:32<00:00, 20.37it/s]\n",
      "Generating configuration for each TCR: 100%|██████████| 654/654 [00:00<00:00, 8082.92it/s]\n",
      "Processing TCRs: 100%|██████████| 654/654 [00:32<00:00, 19.97it/s]\n",
      "Generating configuration for each TCR: 100%|██████████| 654/654 [00:00<00:00, 8084.08it/s]\n",
      "Processing TCRs: 100%|██████████| 654/654 [00:31<00:00, 20.68it/s]\n",
      "Generating configuration for each TCR: 100%|██████████| 654/654 [00:00<00:00, 8157.70it/s]\n",
      "Processing TCRs: 100%|██████████| 654/654 [00:31<00:00, 20.68it/s]\n",
      "Generating configuration for each TCR: 100%|██████████| 654/654 [00:00<00:00, 8111.50it/s]\n",
      "Processing TCRs: 100%|██████████| 654/654 [00:31<00:00, 20.50it/s]\n",
      "Generating configuration for each TCR: 100%|██████████| 654/654 [00:00<00:00, 8101.11it/s]\n",
      "Processing TCRs: 100%|██████████| 654/654 [00:32<00:00, 20.34it/s]\n",
      "Generating configuration for each TCR: 100%|██████████| 654/654 [00:00<00:00, 8101.82it/s]\n",
      "Processing TCRs: 100%|██████████| 654/654 [00:32<00:00, 19.97it/s]\n",
      "Generating configuration for each TCR: 100%|██████████| 654/654 [00:00<00:00, 7797.21it/s]\n",
      "Processing TCRs: 100%|██████████| 654/654 [00:32<00:00, 20.30it/s]\n",
      "Generating configuration for each TCR: 100%|██████████| 654/654 [00:00<00:00, 8072.83it/s]\n",
      "Processing TCRs: 100%|██████████| 654/654 [00:32<00:00, 20.04it/s]\n",
      "Generating configuration for each TCR: 100%|██████████| 654/654 [00:00<00:00, 8025.52it/s]\n",
      "Processing TCRs: 100%|██████████| 654/654 [00:32<00:00, 20.07it/s]\n",
      "Generating configuration for each TCR: 100%|██████████| 654/654 [00:00<00:00, 8032.50it/s]\n",
      "Processing TCRs: 100%|██████████| 654/654 [00:31<00:00, 20.48it/s]\n",
      "Generating configuration for each TCR: 100%|██████████| 654/654 [00:00<00:00, 8148.97it/s]\n",
      "Processing TCRs: 100%|██████████| 654/654 [00:32<00:00, 19.82it/s]\n",
      "Generating configuration for each TCR: 100%|██████████| 654/654 [00:00<00:00, 8141.21it/s]\n",
      "Processing TCRs: 100%|██████████| 654/654 [00:33<00:00, 19.29it/s]\n",
      "Generating configuration for each TCR: 100%|██████████| 654/654 [00:00<00:00, 8003.21it/s]\n",
      "Processing TCRs: 100%|██████████| 654/654 [00:31<00:00, 20.92it/s]\n",
      "Generating configuration for each TCR: 100%|██████████| 654/654 [00:00<00:00, 8158.06it/s]\n",
      "Processing TCRs: 100%|██████████| 654/654 [00:31<00:00, 21.05it/s]\n",
      "Generating configuration for each TCR: 100%|██████████| 654/654 [00:00<00:00, 8146.31it/s]\n",
      "Processing TCRs: 100%|██████████| 654/654 [00:30<00:00, 21.76it/s]\n",
      "Generating configuration for each TCR: 100%|██████████| 654/654 [00:00<00:00, 8214.52it/s]\n",
      "Processing TCRs: 100%|██████████| 654/654 [00:33<00:00, 19.64it/s]\n",
      "Generating configuration for each TCR: 100%|██████████| 654/654 [00:00<00:00, 8104.19it/s]\n",
      "Processing TCRs: 100%|██████████| 654/654 [00:30<00:00, 21.74it/s]\n",
      "Generating configuration for each TCR: 100%|██████████| 654/654 [00:00<00:00, 8215.48it/s]\n",
      "Processing TCRs: 100%|██████████| 654/654 [00:30<00:00, 21.17it/s]\n",
      "Generating configuration for each TCR: 100%|██████████| 654/654 [00:00<00:00, 8197.53it/s]\n",
      "Processing TCRs: 100%|██████████| 654/654 [00:33<00:00, 19.52it/s]\n",
      "Generating configuration for each TCR: 100%|██████████| 654/654 [00:00<00:00, 8003.60it/s]\n",
      "Processing TCRs: 100%|██████████| 654/654 [00:32<00:00, 19.84it/s]\n",
      "Generating configuration for each TCR: 100%|██████████| 654/654 [00:00<00:00, 8050.53it/s]\n",
      "Processing TCRs: 100%|██████████| 654/654 [00:31<00:00, 20.98it/s]\n",
      "Generating configuration for each TCR: 100%|██████████| 654/654 [00:00<00:00, 8121.95it/s]\n",
      "Processing TCRs: 100%|██████████| 654/654 [00:32<00:00, 20.39it/s]\n",
      "Generating configuration for each TCR: 100%|██████████| 654/654 [00:00<00:00, 8183.40it/s]\n",
      "Processing TCRs: 100%|██████████| 654/654 [00:31<00:00, 20.53it/s]\n",
      "Generating configuration for each TCR: 100%|██████████| 654/654 [00:00<00:00, 7851.47it/s]\n",
      "Processing TCRs: 100%|██████████| 654/654 [00:32<00:00, 20.32it/s]\n",
      "Generating configuration for each TCR: 100%|██████████| 654/654 [00:00<00:00, 8075.35it/s]\n",
      "Processing TCRs: 100%|██████████| 654/654 [00:31<00:00, 20.61it/s]\n",
      "Generating configuration for each TCR: 100%|██████████| 654/654 [00:00<00:00, 8174.50it/s]\n",
      "Processing TCRs: 100%|██████████| 654/654 [00:32<00:00, 20.19it/s]\n",
      "Generating configuration for each TCR: 100%|██████████| 654/654 [00:00<00:00, 8025.10it/s]\n",
      "Processing TCRs: 100%|██████████| 654/654 [00:31<00:00, 20.44it/s]\n",
      "Generating configuration for each TCR: 100%|██████████| 654/654 [00:00<00:00, 8131.75it/s]\n",
      "Processing TCRs: 100%|██████████| 654/654 [00:31<00:00, 20.61it/s]\n",
      "Generating configuration for each TCR: 100%|██████████| 654/654 [00:00<00:00, 8216.10it/s]\n",
      "Processing TCRs: 100%|██████████| 654/654 [00:33<00:00, 19.77it/s]\n",
      "Generating configuration for each TCR: 100%|██████████| 654/654 [00:00<00:00, 8078.65it/s]\n",
      "Processing TCRs: 100%|██████████| 654/654 [00:29<00:00, 22.28it/s]\n",
      "Generating configuration for each TCR: 100%|██████████| 654/654 [00:00<00:00, 7896.74it/s]\n",
      "Processing TCRs: 100%|██████████| 654/654 [00:32<00:00, 20.37it/s]\n",
      "Generating configuration for each TCR: 100%|██████████| 654/654 [00:00<00:00, 7682.13it/s]\n",
      "Processing TCRs: 100%|██████████| 654/654 [00:33<00:00, 19.58it/s]\n",
      "Generating configuration for each TCR: 100%|██████████| 654/654 [00:00<00:00, 7860.83it/s]\n",
      "Processing TCRs: 100%|██████████| 654/654 [00:30<00:00, 21.73it/s]\n",
      "Generating configuration for each TCR: 100%|██████████| 654/654 [00:00<00:00, 7802.31it/s]\n",
      "Processing TCRs: 100%|██████████| 654/654 [00:29<00:00, 21.94it/s]\n",
      "Generating configuration for each TCR: 100%|██████████| 654/654 [00:00<00:00, 8238.13it/s]\n",
      "Processing TCRs: 100%|██████████| 654/654 [00:32<00:00, 19.82it/s]\n",
      "Generating configuration for each TCR: 100%|██████████| 654/654 [00:00<00:00, 8062.06it/s]\n",
      "Processing TCRs: 100%|██████████| 654/654 [00:31<00:00, 20.52it/s]\n",
      "Generating configuration for each TCR: 100%|██████████| 654/654 [00:00<00:00, 8098.74it/s]\n",
      "Processing TCRs: 100%|██████████| 654/654 [00:31<00:00, 21.00it/s]\n",
      "Generating configuration for each TCR: 100%|██████████| 654/654 [00:00<00:00, 8090.19it/s]\n",
      "100%|██████████| 69/69 [37:10<00:00, 32.33s/it]\n"
     ]
    }
   ],
   "source": [
    "peptide_vs_mean_clone_size_dict = {}\n",
    "for _, (peptide, df) in tqdm.tqdm(enumerate(panpep_score_df.groupby(by='Peptide')), total=unique_peptide_count):\n",
    "    r_values = df['Score'].values * unique_peptide_count\n",
    "    probs_ = calc_probs_for_every_tcr(r_values/scaling_constant, xw_opt, xp_opt, 1000, disable_progressbar=False)\n",
    "    model_config = generate_configuration(probs_, min_clone_size=1, max_clone_size=probs_.shape[1]+1, sample_size=1000, disable_progressbar=False)\n",
    "    mean_clone_size = np.mean(model_config)\n",
    "    peptide_vs_mean_clone_size_dict[peptide] = mean_clone_size\n",
    "peptide_vs_mean_clone_size_dict_sorted = sorted(peptide_vs_mean_clone_size_dict.items(), key=lambda x: x[1], reverse=True)"
   ]
  },
  {
   "cell_type": "markdown",
   "metadata": {},
   "source": [
    "##### To run the above code block it took `37` minutes using 1 node and 30 cpus. So, it is recommended to heavily parallelize the computation.\n",
    "##### Below we plot the mean clone size of the TCR produced in each scenario when we substituted all of the peptides by one of the peptides.\n"
   ]
  },
  {
   "cell_type": "code",
   "execution_count": 25,
   "metadata": {},
   "outputs": [
    {
     "data": {
      "image/png": "[encoded data removed]",
      "text/plain": [
       "<Figure size 1000x600 with 1 Axes>"
      ]
     },
     "metadata": {},
     "output_type": "display_data"
    }
   ],
   "source": [
    "import matplotlib.pyplot as plt\n",
    "\n",
    "keys = [item[0] for item in peptide_vs_mean_clone_size_dict_sorted]\n",
    "values = [item[1] for item in peptide_vs_mean_clone_size_dict_sorted]\n",
    "\n",
    "plt.figure(figsize=(10, 6))\n",
    "plt.bar(keys, values)\n",
    "plt.xticks(rotation=90)\n",
    "plt.xlabel('Peptide')\n",
    "plt.ylabel('Mean Clone Size')\n",
    "plt.title('Mean Clone Size for each Peptide')\n",
    "plt.show()\n"
   ]
  }
 ],
 "metadata": {
  "kernelspec": {
   "display_name": "numba",
   "language": "python",
   "name": "python3"
  },
  "language_info": {
   "codemirror_mode": {
    "name": "ipython",
    "version": 3
   },
   "file_extension": ".py",
   "mimetype": "text/x-python",
   "name": "python",
   "nbconvert_exporter": "python",
   "pygments_lexer": "ipython3",
   "version": "3.12.8"
  }
 },
 "nbformat": 4,
 "nbformat_minor": 2
}
